{
  "nbformat": 4,
  "nbformat_minor": 0,
  "metadata": {
    "colab": {
      "provenance": [],
      "toc_visible": true,
      "authorship_tag": "ABX9TyPDGM0rKrPsdrAa9w3MOjxW",
      "include_colab_link": true
    },
    "kernelspec": {
      "name": "python3",
      "display_name": "Python 3"
    },
    "language_info": {
      "name": "python"
    }
  },
  "cells": [
    {
      "cell_type": "markdown",
      "metadata": {
        "id": "view-in-github",
        "colab_type": "text"
      },
      "source": [
        "<a href=\"https://colab.research.google.com/github/Donald-Taggart/Data-Analytics-Portfolio/blob/main/Milestone_Project_3_Mammography.ipynb\" target=\"_parent\"><img src=\"https://colab.research.google.com/assets/colab-badge.svg\" alt=\"Open In Colab\"/></a>"
      ]
    },
    {
      "cell_type": "markdown",
      "source": [
        "# Milestone Project 3 - Mammographic Mass Data Set\n",
        "\n",
        "\n",
        "--- ---"
      ],
      "metadata": {
        "id": "p2XC0A2sch3A"
      }
    },
    {
      "cell_type": "markdown",
      "source": [
        "# 1.0 Project Description\n",
        "--- ---\n",
        "\n",
        "This is the capstone project for the Wisconsin Data Science and Analytics course."
      ],
      "metadata": {
        "id": "UY5YttXmdAYS"
      }
    },
    {
      "cell_type": "markdown",
      "source": [
        "## 1.1 Problem Statement\n",
        "\n",
        "Can you use a machine learning model to reduce the number of unneccessary biopsies using the Breast Imaging Reporting & Data System (BI-RADS) classification system?"
      ],
      "metadata": {
        "id": "7CWGDsqWiSZ1"
      }
    },
    {
      "cell_type": "markdown",
      "source": [
        "#2.0 Data Description\n",
        "--- ---\n",
        "\n",
        "The source data is provided by the UCI Machine Learning Repository and the data description is copied here for reference.  \n",
        "\n",
        "http://archive.ics.uci.edu/ml/datasets/mammographic+mass\n",
        "\n",
        "## Source:\n",
        "\n",
        "Matthias Elter\n",
        "Fraunhofer Institute for Integrated Circuits (IIS)\n",
        "Image Processing and Medical Engineering Department (BMT)\n",
        "Am Wolfsmantel 33\n",
        "91058 Erlangen, Germany\n",
        "matthias.elter '@' iis.fraunhofer.de\n",
        "(49) 9131-7767327\n",
        "\n",
        "Prof. Dr. Rüdiger Schulz-Wendtland\n",
        "Institute of Radiology, Gynaecological Radiology, University Erlangen-Nuremberg\n",
        "Universitätsstraße 21-23\n",
        "91054 Erlangen, Germany\n",
        "\n",
        "\n",
        "## Data Set Information:\n",
        "\n",
        "Mammography is the most effective method for breast cancer screening\n",
        "available today. However, the low positive predictive value of breast\n",
        "biopsy resulting from mammogram interpretation leads to approximately\n",
        "70% unnecessary biopsies with benign outcomes. To reduce the high\n",
        "number of unnecessary breast biopsies, several computer-aided diagnosis\n",
        "(CAD) systems have been proposed in the last years.These systems\n",
        "help physicians in their decision to perform a breast biopsy on a suspicious\n",
        "lesion seen in a mammogram or to perform a short term follow-up\n",
        "examination instead.\n",
        "This data set can be used to predict the severity (benign or malignant)\n",
        "of a mammographic mass lesion from BI-RADS attributes and the patient's age.\n",
        "It contains a BI-RADS assessment, the patient's age and three BI-RADS attributes\n",
        "together with the ground truth (the severity field) for 516 benign and\n",
        "445 malignant masses that have been identified on full field digital mammograms\n",
        "collected at the Institute of Radiology of the\n",
        "University Erlangen-Nuremberg between 2003 and 2006.\n",
        "Each instance has an associated BI-RADS assessment ranging from 1 (definitely benign)\n",
        "to 5 (highly suggestive of malignancy) assigned in a double-review process by\n",
        "physicians. Assuming that all cases with BI-RADS assessments greater or equal\n",
        "a given value (varying from 1 to 5), are malignant and the other cases benign,\n",
        "sensitivities and associated specificities can be calculated. These can be an\n",
        "indication of how well a CAD system performs compared to the radiologists.\n",
        "\n",
        "Class Distribution: benign: 516; malignant: 445\n",
        "\n",
        "\n",
        "## Attribute Information:\n",
        "\n",
        "6 Attributes in total (1 goal field, 1 non-predictive, 4 predictive attributes)\n",
        "\n",
        "1. BI-RADS assessment: 1 to 5 (ordinal, non-predictive!)\n",
        "2. Age: patient's age in years (integer)\n",
        "3. Shape: mass shape: round=1 oval=2 lobular=3 irregular=4 (nominal)\n",
        "4. Margin: mass margin: circumscribed=1 microlobulated=2 obscured=3 ill-defined=4 spiculated=5 (nominal)\n",
        "5. Density: mass density high=1 iso=2 low=3 fat-containing=4 (ordinal)\n",
        "6. Severity: benign=0 or malignant=1 (binominal, goal field!)\n",
        "\n",
        "\n",
        "Missing Attribute Values:\n",
        "- BI-RADS assessment: 2\n",
        "- Age: 5\n",
        "- Shape: 31\n",
        "- Margin: 48\n",
        "- Density: 76\n",
        "- Severity: 0\n",
        "\n",
        "\n",
        "## Relevant Papers:\n",
        "\n",
        "M. Elter, R. Schulz-Wendtland and T. Wittenberg (2007)\n",
        "The prediction of breast cancer biopsy outcomes using two CAD approaches that both emphasize an intelligible decision process.\n",
        "Medical Physics 34(11), pp. 4164-4172\n",
        "\n",
        "\n",
        "\n",
        "## Citation Request:\n",
        "\n",
        "M. Elter, R. Schulz-Wendtland and T. Wittenberg (2007)\n",
        "The prediction of breast cancer biopsy outcomes using two CAD approaches that both emphasize an intelligible decision process.\n",
        "Medical Physics 34(11), pp. 4164-4172\n",
        "\n",
        "https://aapm.onlinelibrary.wiley.com/doi/abs/10.1118/1.2786864\n"
      ],
      "metadata": {
        "id": "F0dzC7GsG_Px"
      }
    },
    {
      "cell_type": "markdown",
      "source": [
        "# 3.0 Import Libraries and Upload Data\n",
        "--- ---"
      ],
      "metadata": {
        "id": "tSGNefCsNXlz"
      }
    },
    {
      "cell_type": "code",
      "execution_count": null,
      "metadata": {
        "id": "_zoFW3DacNxC"
      },
      "outputs": [],
      "source": [
        "# Import necessary libraries\n",
        "\n",
        "# Creating and using dataframes and plotting\n",
        "import pandas as pd\n",
        "import numpy as np\n",
        "import plotly.express as px\n",
        "import plotly.graph_objects as go\n",
        "import matplotlib.pyplot as plt\n",
        "\n",
        "# Creating and using machine learing pipelines\n",
        "from sklearn.pipeline import Pipeline\n",
        "from sklearn.impute import SimpleImputer\n",
        "from sklearn.preprocessing import StandardScaler\n",
        "from sklearn.model_selection import train_test_split, cross_val_score, GridSearchCV\n",
        "from sklearn.linear_model import LogisticRegression\n",
        "from sklearn.neighbors import KNeighborsClassifier\n",
        "from sklearn.metrics import confusion_matrix, ConfusionMatrixDisplay, classification_report, RocCurveDisplay, recall_score, precision_score\n",
        "from sklearn.svm import SVC\n",
        "from sklearn.tree import DecisionTreeClassifier\n",
        "from sklearn.ensemble import RandomForestClassifier, GradientBoostingClassifier, AdaBoostClassifier"
      ]
    },
    {
      "cell_type": "code",
      "source": [
        "# Creating static Plotly images\n",
        "# !pip install kaleido\n"
      ],
      "metadata": {
        "id": "iiDQWWrSL97U"
      },
      "execution_count": null,
      "outputs": []
    },
    {
      "cell_type": "code",
      "source": [
        "# Upload the 'mammographic_masses.csv' file from local file\n",
        "# from google.colab import files\n",
        "# mammographic_masses = files.upload()\n"
      ],
      "metadata": {
        "colab": {
          "base_uri": "https://localhost:8080/",
          "height": 73
        },
        "id": "DFTbsBSDNolA",
        "outputId": "053e2805-0d28-46b9-a885-e7f9010c5f62"
      },
      "execution_count": null,
      "outputs": [
        {
          "output_type": "display_data",
          "data": {
            "text/plain": [
              "<IPython.core.display.HTML object>"
            ],
            "text/html": [
              "\n",
              "     <input type=\"file\" id=\"files-d8ab01fd-de37-41f3-91aa-23d918fffa89\" name=\"files[]\" multiple disabled\n",
              "        style=\"border:none\" />\n",
              "     <output id=\"result-d8ab01fd-de37-41f3-91aa-23d918fffa89\">\n",
              "      Upload widget is only available when the cell has been executed in the\n",
              "      current browser session. Please rerun this cell to enable.\n",
              "      </output>\n",
              "      <script>// Copyright 2017 Google LLC\n",
              "//\n",
              "// Licensed under the Apache License, Version 2.0 (the \"License\");\n",
              "// you may not use this file except in compliance with the License.\n",
              "// You may obtain a copy of the License at\n",
              "//\n",
              "//      http://www.apache.org/licenses/LICENSE-2.0\n",
              "//\n",
              "// Unless required by applicable law or agreed to in writing, software\n",
              "// distributed under the License is distributed on an \"AS IS\" BASIS,\n",
              "// WITHOUT WARRANTIES OR CONDITIONS OF ANY KIND, either express or implied.\n",
              "// See the License for the specific language governing permissions and\n",
              "// limitations under the License.\n",
              "\n",
              "/**\n",
              " * @fileoverview Helpers for google.colab Python module.\n",
              " */\n",
              "(function(scope) {\n",
              "function span(text, styleAttributes = {}) {\n",
              "  const element = document.createElement('span');\n",
              "  element.textContent = text;\n",
              "  for (const key of Object.keys(styleAttributes)) {\n",
              "    element.style[key] = styleAttributes[key];\n",
              "  }\n",
              "  return element;\n",
              "}\n",
              "\n",
              "// Max number of bytes which will be uploaded at a time.\n",
              "const MAX_PAYLOAD_SIZE = 100 * 1024;\n",
              "\n",
              "function _uploadFiles(inputId, outputId) {\n",
              "  const steps = uploadFilesStep(inputId, outputId);\n",
              "  const outputElement = document.getElementById(outputId);\n",
              "  // Cache steps on the outputElement to make it available for the next call\n",
              "  // to uploadFilesContinue from Python.\n",
              "  outputElement.steps = steps;\n",
              "\n",
              "  return _uploadFilesContinue(outputId);\n",
              "}\n",
              "\n",
              "// This is roughly an async generator (not supported in the browser yet),\n",
              "// where there are multiple asynchronous steps and the Python side is going\n",
              "// to poll for completion of each step.\n",
              "// This uses a Promise to block the python side on completion of each step,\n",
              "// then passes the result of the previous step as the input to the next step.\n",
              "function _uploadFilesContinue(outputId) {\n",
              "  const outputElement = document.getElementById(outputId);\n",
              "  const steps = outputElement.steps;\n",
              "\n",
              "  const next = steps.next(outputElement.lastPromiseValue);\n",
              "  return Promise.resolve(next.value.promise).then((value) => {\n",
              "    // Cache the last promise value to make it available to the next\n",
              "    // step of the generator.\n",
              "    outputElement.lastPromiseValue = value;\n",
              "    return next.value.response;\n",
              "  });\n",
              "}\n",
              "\n",
              "/**\n",
              " * Generator function which is called between each async step of the upload\n",
              " * process.\n",
              " * @param {string} inputId Element ID of the input file picker element.\n",
              " * @param {string} outputId Element ID of the output display.\n",
              " * @return {!Iterable<!Object>} Iterable of next steps.\n",
              " */\n",
              "function* uploadFilesStep(inputId, outputId) {\n",
              "  const inputElement = document.getElementById(inputId);\n",
              "  inputElement.disabled = false;\n",
              "\n",
              "  const outputElement = document.getElementById(outputId);\n",
              "  outputElement.innerHTML = '';\n",
              "\n",
              "  const pickedPromise = new Promise((resolve) => {\n",
              "    inputElement.addEventListener('change', (e) => {\n",
              "      resolve(e.target.files);\n",
              "    });\n",
              "  });\n",
              "\n",
              "  const cancel = document.createElement('button');\n",
              "  inputElement.parentElement.appendChild(cancel);\n",
              "  cancel.textContent = 'Cancel upload';\n",
              "  const cancelPromise = new Promise((resolve) => {\n",
              "    cancel.onclick = () => {\n",
              "      resolve(null);\n",
              "    };\n",
              "  });\n",
              "\n",
              "  // Wait for the user to pick the files.\n",
              "  const files = yield {\n",
              "    promise: Promise.race([pickedPromise, cancelPromise]),\n",
              "    response: {\n",
              "      action: 'starting',\n",
              "    }\n",
              "  };\n",
              "\n",
              "  cancel.remove();\n",
              "\n",
              "  // Disable the input element since further picks are not allowed.\n",
              "  inputElement.disabled = true;\n",
              "\n",
              "  if (!files) {\n",
              "    return {\n",
              "      response: {\n",
              "        action: 'complete',\n",
              "      }\n",
              "    };\n",
              "  }\n",
              "\n",
              "  for (const file of files) {\n",
              "    const li = document.createElement('li');\n",
              "    li.append(span(file.name, {fontWeight: 'bold'}));\n",
              "    li.append(span(\n",
              "        `(${file.type || 'n/a'}) - ${file.size} bytes, ` +\n",
              "        `last modified: ${\n",
              "            file.lastModifiedDate ? file.lastModifiedDate.toLocaleDateString() :\n",
              "                                    'n/a'} - `));\n",
              "    const percent = span('0% done');\n",
              "    li.appendChild(percent);\n",
              "\n",
              "    outputElement.appendChild(li);\n",
              "\n",
              "    const fileDataPromise = new Promise((resolve) => {\n",
              "      const reader = new FileReader();\n",
              "      reader.onload = (e) => {\n",
              "        resolve(e.target.result);\n",
              "      };\n",
              "      reader.readAsArrayBuffer(file);\n",
              "    });\n",
              "    // Wait for the data to be ready.\n",
              "    let fileData = yield {\n",
              "      promise: fileDataPromise,\n",
              "      response: {\n",
              "        action: 'continue',\n",
              "      }\n",
              "    };\n",
              "\n",
              "    // Use a chunked sending to avoid message size limits. See b/62115660.\n",
              "    let position = 0;\n",
              "    do {\n",
              "      const length = Math.min(fileData.byteLength - position, MAX_PAYLOAD_SIZE);\n",
              "      const chunk = new Uint8Array(fileData, position, length);\n",
              "      position += length;\n",
              "\n",
              "      const base64 = btoa(String.fromCharCode.apply(null, chunk));\n",
              "      yield {\n",
              "        response: {\n",
              "          action: 'append',\n",
              "          file: file.name,\n",
              "          data: base64,\n",
              "        },\n",
              "      };\n",
              "\n",
              "      let percentDone = fileData.byteLength === 0 ?\n",
              "          100 :\n",
              "          Math.round((position / fileData.byteLength) * 100);\n",
              "      percent.textContent = `${percentDone}% done`;\n",
              "\n",
              "    } while (position < fileData.byteLength);\n",
              "  }\n",
              "\n",
              "  // All done.\n",
              "  yield {\n",
              "    response: {\n",
              "      action: 'complete',\n",
              "    }\n",
              "  };\n",
              "}\n",
              "\n",
              "scope.google = scope.google || {};\n",
              "scope.google.colab = scope.google.colab || {};\n",
              "scope.google.colab._files = {\n",
              "  _uploadFiles,\n",
              "  _uploadFilesContinue,\n",
              "};\n",
              "})(self);\n",
              "</script> "
            ]
          },
          "metadata": {}
        },
        {
          "output_type": "stream",
          "name": "stdout",
          "text": [
            "Saving mammographic_masses.csv to mammographic_masses.csv\n"
          ]
        }
      ]
    },
    {
      "cell_type": "code",
      "source": [
        "# Upload the 'mammographic_masses.csv' file from GitHub Repo\n",
        "url = \"https://raw.githubusercontent.com/Donald-Taggart/Data-Analytics-Portfolio/main/Mammographic%20Prediction%20with%20BI-RADS%20Assessments/mammographic_masses.csv\"\n"
      ],
      "metadata": {
        "id": "JX-i5C-c39o8"
      },
      "execution_count": null,
      "outputs": []
    },
    {
      "cell_type": "code",
      "source": [
        "# Create a list of column names\n",
        "column_names = ['BI-RADS Assessment', 'Age', 'Shape', 'Margin', 'Density',\n",
        "                'Severity'] # Target Variable\n",
        "\n",
        "#Create a dataframe from local file\n",
        "# masses_df = pd.read_csv('mammographic_masses.csv', names=column_names)\n",
        "\n",
        "#Create a dataframe from GitHub Repo\n",
        "masses_df = pd.read_csv(url, names=column_names)\n",
        "\n",
        "#Head the dataframe\n",
        "masses_df.head()"
      ],
      "metadata": {
        "colab": {
          "base_uri": "https://localhost:8080/",
          "height": 206
        },
        "id": "-wm2c_jyNFtg",
        "outputId": "91991948-f036-4a9b-a30e-509aede0b373"
      },
      "execution_count": null,
      "outputs": [
        {
          "output_type": "execute_result",
          "data": {
            "text/plain": [
              "   BI-RADS Assessment   Age  Shape  Margin  Density  Severity\n",
              "0                 5.0  67.0    3.0     5.0      3.0         1\n",
              "1                 4.0  43.0    1.0     1.0      NaN         1\n",
              "2                 5.0  58.0    4.0     5.0      3.0         1\n",
              "3                 4.0  28.0    1.0     1.0      3.0         0\n",
              "4                 5.0  74.0    1.0     5.0      NaN         1"
            ],
            "text/html": [
              "\n",
              "  <div id=\"df-42dfbd88-43d6-45fa-beef-facb36a982b7\">\n",
              "    <div class=\"colab-df-container\">\n",
              "      <div>\n",
              "<style scoped>\n",
              "    .dataframe tbody tr th:only-of-type {\n",
              "        vertical-align: middle;\n",
              "    }\n",
              "\n",
              "    .dataframe tbody tr th {\n",
              "        vertical-align: top;\n",
              "    }\n",
              "\n",
              "    .dataframe thead th {\n",
              "        text-align: right;\n",
              "    }\n",
              "</style>\n",
              "<table border=\"1\" class=\"dataframe\">\n",
              "  <thead>\n",
              "    <tr style=\"text-align: right;\">\n",
              "      <th></th>\n",
              "      <th>BI-RADS Assessment</th>\n",
              "      <th>Age</th>\n",
              "      <th>Shape</th>\n",
              "      <th>Margin</th>\n",
              "      <th>Density</th>\n",
              "      <th>Severity</th>\n",
              "    </tr>\n",
              "  </thead>\n",
              "  <tbody>\n",
              "    <tr>\n",
              "      <th>0</th>\n",
              "      <td>5.0</td>\n",
              "      <td>67.0</td>\n",
              "      <td>3.0</td>\n",
              "      <td>5.0</td>\n",
              "      <td>3.0</td>\n",
              "      <td>1</td>\n",
              "    </tr>\n",
              "    <tr>\n",
              "      <th>1</th>\n",
              "      <td>4.0</td>\n",
              "      <td>43.0</td>\n",
              "      <td>1.0</td>\n",
              "      <td>1.0</td>\n",
              "      <td>NaN</td>\n",
              "      <td>1</td>\n",
              "    </tr>\n",
              "    <tr>\n",
              "      <th>2</th>\n",
              "      <td>5.0</td>\n",
              "      <td>58.0</td>\n",
              "      <td>4.0</td>\n",
              "      <td>5.0</td>\n",
              "      <td>3.0</td>\n",
              "      <td>1</td>\n",
              "    </tr>\n",
              "    <tr>\n",
              "      <th>3</th>\n",
              "      <td>4.0</td>\n",
              "      <td>28.0</td>\n",
              "      <td>1.0</td>\n",
              "      <td>1.0</td>\n",
              "      <td>3.0</td>\n",
              "      <td>0</td>\n",
              "    </tr>\n",
              "    <tr>\n",
              "      <th>4</th>\n",
              "      <td>5.0</td>\n",
              "      <td>74.0</td>\n",
              "      <td>1.0</td>\n",
              "      <td>5.0</td>\n",
              "      <td>NaN</td>\n",
              "      <td>1</td>\n",
              "    </tr>\n",
              "  </tbody>\n",
              "</table>\n",
              "</div>\n",
              "      <button class=\"colab-df-convert\" onclick=\"convertToInteractive('df-42dfbd88-43d6-45fa-beef-facb36a982b7')\"\n",
              "              title=\"Convert this dataframe to an interactive table.\"\n",
              "              style=\"display:none;\">\n",
              "        \n",
              "  <svg xmlns=\"http://www.w3.org/2000/svg\" height=\"24px\"viewBox=\"0 0 24 24\"\n",
              "       width=\"24px\">\n",
              "    <path d=\"M0 0h24v24H0V0z\" fill=\"none\"/>\n",
              "    <path d=\"M18.56 5.44l.94 2.06.94-2.06 2.06-.94-2.06-.94-.94-2.06-.94 2.06-2.06.94zm-11 1L8.5 8.5l.94-2.06 2.06-.94-2.06-.94L8.5 2.5l-.94 2.06-2.06.94zm10 10l.94 2.06.94-2.06 2.06-.94-2.06-.94-.94-2.06-.94 2.06-2.06.94z\"/><path d=\"M17.41 7.96l-1.37-1.37c-.4-.4-.92-.59-1.43-.59-.52 0-1.04.2-1.43.59L10.3 9.45l-7.72 7.72c-.78.78-.78 2.05 0 2.83L4 21.41c.39.39.9.59 1.41.59.51 0 1.02-.2 1.41-.59l7.78-7.78 2.81-2.81c.8-.78.8-2.07 0-2.86zM5.41 20L4 18.59l7.72-7.72 1.47 1.35L5.41 20z\"/>\n",
              "  </svg>\n",
              "      </button>\n",
              "      \n",
              "  <style>\n",
              "    .colab-df-container {\n",
              "      display:flex;\n",
              "      flex-wrap:wrap;\n",
              "      gap: 12px;\n",
              "    }\n",
              "\n",
              "    .colab-df-convert {\n",
              "      background-color: #E8F0FE;\n",
              "      border: none;\n",
              "      border-radius: 50%;\n",
              "      cursor: pointer;\n",
              "      display: none;\n",
              "      fill: #1967D2;\n",
              "      height: 32px;\n",
              "      padding: 0 0 0 0;\n",
              "      width: 32px;\n",
              "    }\n",
              "\n",
              "    .colab-df-convert:hover {\n",
              "      background-color: #E2EBFA;\n",
              "      box-shadow: 0px 1px 2px rgba(60, 64, 67, 0.3), 0px 1px 3px 1px rgba(60, 64, 67, 0.15);\n",
              "      fill: #174EA6;\n",
              "    }\n",
              "\n",
              "    [theme=dark] .colab-df-convert {\n",
              "      background-color: #3B4455;\n",
              "      fill: #D2E3FC;\n",
              "    }\n",
              "\n",
              "    [theme=dark] .colab-df-convert:hover {\n",
              "      background-color: #434B5C;\n",
              "      box-shadow: 0px 1px 3px 1px rgba(0, 0, 0, 0.15);\n",
              "      filter: drop-shadow(0px 1px 2px rgba(0, 0, 0, 0.3));\n",
              "      fill: #FFFFFF;\n",
              "    }\n",
              "  </style>\n",
              "\n",
              "      <script>\n",
              "        const buttonEl =\n",
              "          document.querySelector('#df-42dfbd88-43d6-45fa-beef-facb36a982b7 button.colab-df-convert');\n",
              "        buttonEl.style.display =\n",
              "          google.colab.kernel.accessAllowed ? 'block' : 'none';\n",
              "\n",
              "        async function convertToInteractive(key) {\n",
              "          const element = document.querySelector('#df-42dfbd88-43d6-45fa-beef-facb36a982b7');\n",
              "          const dataTable =\n",
              "            await google.colab.kernel.invokeFunction('convertToInteractive',\n",
              "                                                     [key], {});\n",
              "          if (!dataTable) return;\n",
              "\n",
              "          const docLinkHtml = 'Like what you see? Visit the ' +\n",
              "            '<a target=\"_blank\" href=https://colab.research.google.com/notebooks/data_table.ipynb>data table notebook</a>'\n",
              "            + ' to learn more about interactive tables.';\n",
              "          element.innerHTML = '';\n",
              "          dataTable['output_type'] = 'display_data';\n",
              "          await google.colab.output.renderOutput(dataTable, element);\n",
              "          const docLink = document.createElement('div');\n",
              "          docLink.innerHTML = docLinkHtml;\n",
              "          element.appendChild(docLink);\n",
              "        }\n",
              "      </script>\n",
              "    </div>\n",
              "  </div>\n",
              "  "
            ]
          },
          "metadata": {},
          "execution_count": 4
        }
      ]
    },
    {
      "cell_type": "markdown",
      "source": [
        "# 4.0 Data Exploration and Discussion\n",
        "--- ---\n",
        "\n",
        "Obtain information about the data and start making decisions about data preparation."
      ],
      "metadata": {
        "id": "qz2da9ocqB1N"
      }
    },
    {
      "cell_type": "code",
      "source": [
        "# Gain information about the dataframe\n",
        "masses_df.info()"
      ],
      "metadata": {
        "colab": {
          "base_uri": "https://localhost:8080/"
        },
        "id": "OHmJzlSvRypG",
        "outputId": "1d4d7594-676a-44be-d0a6-ae273f7d847d"
      },
      "execution_count": null,
      "outputs": [
        {
          "output_type": "stream",
          "name": "stdout",
          "text": [
            "<class 'pandas.core.frame.DataFrame'>\n",
            "RangeIndex: 961 entries, 0 to 960\n",
            "Data columns (total 6 columns):\n",
            " #   Column              Non-Null Count  Dtype  \n",
            "---  ------              --------------  -----  \n",
            " 0   BI-RADS Assessment  959 non-null    float64\n",
            " 1   Age                 956 non-null    float64\n",
            " 2   Shape               930 non-null    float64\n",
            " 3   Margin              913 non-null    float64\n",
            " 4   Density             885 non-null    float64\n",
            " 5   Severity            961 non-null    int64  \n",
            "dtypes: float64(5), int64(1)\n",
            "memory usage: 45.2 KB\n"
          ]
        }
      ]
    },
    {
      "cell_type": "code",
      "source": [
        "# Identify number of null values\n",
        "masses_df.isnull().sum()"
      ],
      "metadata": {
        "colab": {
          "base_uri": "https://localhost:8080/"
        },
        "id": "Ip85z3wDhXq6",
        "outputId": "9ef29d80-4502-4b4c-b4e0-5355523bf08a"
      },
      "execution_count": null,
      "outputs": [
        {
          "output_type": "execute_result",
          "data": {
            "text/plain": [
              "BI-RADS Assessment     2\n",
              "Age                    5\n",
              "Shape                 31\n",
              "Margin                48\n",
              "Density               76\n",
              "Severity               0\n",
              "dtype: int64"
            ]
          },
          "metadata": {},
          "execution_count": 6
        }
      ]
    },
    {
      "cell_type": "markdown",
      "source": [
        "## 4.1 BI-RADS Assessment\n",
        "\n",
        "The following is a helpful article containing information on BI-RADS Assessment scores.\n",
        "\n",
        "https://www.healthline.com/health/birads-score\n",
        "\n",
        "BI-RADS Assessment scores range from 0 to 6.  There is one entry with a BI-RADS score of 55.  This is a clear error.  However, BI-RADS scores are non-predictive.  Therefore, the `BI-RADS Assessment` column will be removed."
      ],
      "metadata": {
        "id": "YZDpTs_SrMSs"
      }
    },
    {
      "cell_type": "code",
      "source": [
        "# Value counts for each 'BI-RADS Assessment' category\n",
        "masses_df['BI-RADS Assessment'].value_counts(ascending=True)"
      ],
      "metadata": {
        "colab": {
          "base_uri": "https://localhost:8080/"
        },
        "id": "k1n98IWnpTE-",
        "outputId": "2b18340f-d36c-4e06-9ea3-eb94eb8546ee"
      },
      "execution_count": null,
      "outputs": [
        {
          "output_type": "execute_result",
          "data": {
            "text/plain": [
              "55.0      1\n",
              "0.0       5\n",
              "6.0      11\n",
              "2.0      14\n",
              "3.0      36\n",
              "5.0     345\n",
              "4.0     547\n",
              "Name: BI-RADS Assessment, dtype: int64"
            ]
          },
          "metadata": {},
          "execution_count": 7
        }
      ]
    },
    {
      "cell_type": "markdown",
      "source": [
        "## 4.2 Age\n",
        "\n",
        "Subject ages range from 18 to 96.  There are 5 null values that will be imputed to the mean.  This feature will be stanadarized."
      ],
      "metadata": {
        "id": "NRw-lV4Hs6kJ"
      }
    },
    {
      "cell_type": "code",
      "source": [
        "# Plot 'Age'\n",
        "fig = px.histogram(masses_df, # DataFrame\n",
        "                   x='Age', # x-axis\n",
        "                   width=1200, # Set figure width\n",
        "                   height=600, # Set figure height\n",
        "                   title='<b>Age<b>', #Change title and bold\n",
        "                   text_auto=True, # Turn on bar totals\n",
        "                   marginal=\"box\", # or violin, rug, box\n",
        "                   )\n",
        "\n",
        "fig.update_layout(title_x=.5, # Centers the Title\n",
        "                  titlefont={'size': 24}, # title size\n",
        "                  yaxis_title ='Number of Subjects', # Changes the y-axis title\n",
        "                  )\n",
        "fig.show()\n",
        "\n",
        "# fig.write_image(\"Age.png\", engine=\"kaleido\")"
      ],
      "metadata": {
        "colab": {
          "base_uri": "https://localhost:8080/",
          "height": 617
        },
        "id": "6EpdVxWOwvhR",
        "outputId": "d93f8685-90b5-42e0-d050-6e494fa138ac"
      },
      "execution_count": null,
      "outputs": [
        {
          "output_type": "display_data",
          "data": {
            "text/html": [
              "<html>\n",
              "<head><meta charset=\"utf-8\" /></head>\n",
              "<body>\n",
              "    <div>            <script src=\"https://cdnjs.cloudflare.com/ajax/libs/mathjax/2.7.5/MathJax.js?config=TeX-AMS-MML_SVG\"></script><script type=\"text/javascript\">if (window.MathJax) {MathJax.Hub.Config({SVG: {font: \"STIX-Web\"}});}</script>                <script type=\"text/javascript\">window.PlotlyConfig = {MathJaxConfig: 'local'};</script>\n",
              "        <script src=\"https://cdn.plot.ly/plotly-2.8.3.min.js\"></script>                <div id=\"40b28f86-40f5-4350-9483-ea9db7b9dc24\" class=\"plotly-graph-div\" style=\"height:600px; width:1200px;\"></div>            <script type=\"text/javascript\">                                    window.PLOTLYENV=window.PLOTLYENV || {};                                    if (document.getElementById(\"40b28f86-40f5-4350-9483-ea9db7b9dc24\")) {                    Plotly.newPlot(                        \"40b28f86-40f5-4350-9483-ea9db7b9dc24\",                        [{\"alignmentgroup\":\"True\",\"bingroup\":\"x\",\"hovertemplate\":\"Age=%{x}<br>count=%{y}<extra></extra>\",\"legendgroup\":\"\",\"marker\":{\"color\":\"#636efa\",\"pattern\":{\"shape\":\"\"}},\"name\":\"\",\"offsetgroup\":\"\",\"orientation\":\"v\",\"showlegend\":false,\"texttemplate\":\"%{value}\",\"x\":[67.0,43.0,58.0,28.0,74.0,65.0,70.0,42.0,57.0,60.0,76.0,42.0,64.0,36.0,60.0,54.0,52.0,59.0,54.0,40.0,66.0,56.0,43.0,42.0,59.0,75.0,66.0,63.0,45.0,55.0,46.0,54.0,57.0,39.0,81.0,77.0,60.0,67.0,48.0,55.0,59.0,78.0,50.0,61.0,62.0,44.0,64.0,23.0,42.0,67.0,74.0,80.0,23.0,63.0,53.0,43.0,49.0,51.0,45.0,59.0,52.0,60.0,57.0,57.0,74.0,25.0,49.0,72.0,45.0,64.0,73.0,68.0,52.0,66.0,70.0,25.0,74.0,64.0,60.0,67.0,67.0,44.0,68.0,57.0,51.0,33.0,58.0,36.0,63.0,62.0,73.0,80.0,67.0,59.0,60.0,54.0,40.0,47.0,62.0,33.0,59.0,65.0,58.0,29.0,58.0,54.0,44.0,34.0,57.0,33.0,45.0,71.0,59.0,56.0,40.0,56.0,45.0,57.0,55.0,84.0,51.0,43.0,24.0,66.0,33.0,59.0,76.0,40.0,52.0,40.0,67.0,75.0,86.0,60.0,66.0,46.0,59.0,65.0,53.0,67.0,80.0,55.0,48.0,47.0,50.0,62.0,63.0,63.0,71.0,41.0,57.0,71.0,66.0,47.0,34.0,59.0,55.0,51.0,62.0,58.0,67.0,41.0,23.0,53.0,42.0,87.0,68.0,64.0,54.0,86.0,21.0,39.0,53.0,44.0,54.0,63.0,62.0,45.0,71.0,49.0,49.0,66.0,19.0,35.0,71.0,74.0,37.0,67.0,81.0,59.0,34.0,79.0,60.0,41.0,50.0,85.0,46.0,66.0,73.0,55.0,49.0,49.0,51.0,48.0,58.0,72.0,46.0,43.0,52.0,66.0,46.0,69.0,59.0,43.0,76.0,46.0,59.0,57.0,43.0,45.0,43.0,45.0,57.0,79.0,54.0,40.0,63.0,55.0,52.0,38.0,72.0,80.0,76.0,62.0,64.0,42.0,60.0,64.0,63.0,24.0,72.0,63.0,46.0,33.0,76.0,36.0,40.0,58.0,43.0,42.0,32.0,57.0,37.0,70.0,56.0,76.0,73.0,77.0,67.0,71.0,65.0,43.0,40.0,49.0,76.0,55.0,72.0,53.0,75.0,61.0,67.0,55.0,66.0,76.0,57.0,71.0,70.0,35.0,79.0,63.0,40.0,41.0,47.0,68.0,64.0,65.0,73.0,39.0,55.0,53.0,66.0,43.0,44.0,77.0,62.0,80.0,33.0,50.0,71.0,46.0,49.0,53.0,46.0,57.0,54.0,54.0,49.0,47.0,40.0,45.0,50.0,54.0,67.0,77.0,66.0,71.0,36.0,69.0,48.0,64.0,71.0,60.0,24.0,34.0,79.0,45.0,37.0,42.0,72.0,60.0,85.0,51.0,54.0,55.0,64.0,67.0,75.0,87.0,46.0,59.0,46.0,61.0,44.0,32.0,62.0,59.0,61.0,78.0,42.0,45.0,34.0,39.0,27.0,43.0,83.0,36.0,37.0,56.0,55.0,46.0,88.0,71.0,41.0,49.0,51.0,39.0,46.0,52.0,58.0,67.0,80.0,46.0,43.0,45.0,68.0,54.0,44.0,74.0,55.0,49.0,49.0,50.0,52.0,45.0,66.0,68.0,72.0,64.0,49.0,44.0,74.0,58.0,77.0,49.0,34.0,60.0,69.0,53.0,46.0,74.0,58.0,68.0,46.0,61.0,70.0,37.0,65.0,67.0,69.0,76.0,65.0,72.0,62.0,42.0,66.0,48.0,35.0,60.0,67.0,78.0,66.0,26.0,48.0,31.0,43.0,72.0,66.0,56.0,58.0,33.0,37.0,36.0,39.0,39.0,83.0,68.0,63.0,78.0,38.0,46.0,60.0,56.0,33.0,null,69.0,66.0,72.0,29.0,54.0,80.0,68.0,35.0,57.0,null,50.0,32.0,69.0,71.0,87.0,40.0,31.0,64.0,55.0,18.0,50.0,53.0,84.0,80.0,32.0,77.0,38.0,54.0,63.0,61.0,52.0,36.0,41.0,59.0,51.0,36.0,40.0,49.0,37.0,46.0,63.0,28.0,47.0,42.0,44.0,49.0,47.0,52.0,53.0,83.0,50.0,63.0,82.0,54.0,50.0,80.0,45.0,59.0,28.0,31.0,41.0,21.0,44.0,49.0,71.0,75.0,38.0,60.0,87.0,70.0,55.0,21.0,50.0,76.0,23.0,68.0,62.0,65.0,73.0,38.0,57.0,65.0,67.0,61.0,56.0,71.0,49.0,55.0,44.0,58.0,27.0,73.0,34.0,63.0,50.0,62.0,21.0,49.0,36.0,45.0,67.0,21.0,57.0,66.0,71.0,69.0,80.0,27.0,38.0,23.0,70.0,46.0,61.0,65.0,60.0,83.0,40.0,59.0,53.0,76.0,79.0,38.0,61.0,56.0,44.0,64.0,66.0,50.0,46.0,39.0,60.0,55.0,40.0,26.0,84.0,41.0,63.0,65.0,49.0,56.0,65.0,54.0,36.0,49.0,59.0,75.0,59.0,59.0,28.0,53.0,57.0,77.0,85.0,59.0,59.0,65.0,54.0,46.0,63.0,53.0,56.0,66.0,66.0,55.0,44.0,86.0,47.0,59.0,66.0,61.0,46.0,69.0,93.0,39.0,44.0,45.0,51.0,56.0,66.0,61.0,64.0,57.0,79.0,57.0,44.0,31.0,63.0,64.0,47.0,68.0,30.0,43.0,56.0,46.0,67.0,52.0,67.0,47.0,58.0,28.0,43.0,57.0,68.0,64.0,64.0,62.0,38.0,68.0,41.0,35.0,68.0,55.0,67.0,51.0,40.0,73.0,58.0,51.0,50.0,59.0,60.0,27.0,54.0,56.0,53.0,54.0,79.0,67.0,64.0,70.0,55.0,65.0,45.0,57.0,49.0,24.0,52.0,50.0,35.0,null,64.0,40.0,66.0,64.0,52.0,43.0,56.0,72.0,51.0,79.0,22.0,73.0,53.0,59.0,46.0,66.0,50.0,58.0,55.0,62.0,60.0,57.0,57.0,41.0,71.0,32.0,57.0,19.0,62.0,67.0,50.0,65.0,40.0,71.0,68.0,68.0,29.0,53.0,66.0,60.0,76.0,58.0,96.0,70.0,34.0,59.0,45.0,65.0,59.0,21.0,43.0,53.0,65.0,64.0,53.0,51.0,59.0,56.0,60.0,22.0,25.0,76.0,69.0,58.0,62.0,56.0,64.0,32.0,48.0,59.0,52.0,63.0,67.0,61.0,59.0,52.0,35.0,77.0,71.0,63.0,38.0,72.0,76.0,53.0,67.0,69.0,54.0,35.0,68.0,68.0,67.0,39.0,44.0,33.0,60.0,58.0,31.0,23.0,56.0,69.0,63.0,65.0,44.0,62.0,67.0,56.0,52.0,43.0,41.0,42.0,46.0,55.0,58.0,87.0,66.0,72.0,60.0,83.0,31.0,53.0,64.0,31.0,62.0,56.0,58.0,67.0,75.0,65.0,74.0,59.0,57.0,76.0,63.0,44.0,42.0,35.0,65.0,70.0,48.0,74.0,40.0,63.0,60.0,86.0,27.0,71.0,85.0,51.0,72.0,52.0,66.0,71.0,42.0,64.0,41.0,50.0,30.0,67.0,62.0,46.0,35.0,53.0,59.0,19.0,86.0,72.0,37.0,46.0,45.0,48.0,58.0,42.0,56.0,47.0,49.0,76.0,62.0,64.0,53.0,70.0,55.0,34.0,76.0,39.0,23.0,19.0,65.0,57.0,41.0,36.0,62.0,69.0,41.0,51.0,50.0,47.0,54.0,52.0,30.0,48.0,null,65.0,50.0,65.0,66.0,41.0,72.0,42.0,80.0,45.0,41.0,72.0,60.0,67.0,55.0,61.0,55.0,52.0,42.0,63.0,62.0,46.0,65.0,57.0,66.0,45.0,77.0,35.0,50.0,57.0,74.0,59.0,51.0,42.0,35.0,42.0,43.0,62.0,27.0,null,57.0,59.0,40.0,20.0,74.0,22.0,57.0,57.0,55.0,62.0,54.0,71.0,65.0,68.0,64.0,54.0,48.0,58.0,58.0,70.0,70.0,59.0,57.0,53.0,54.0,53.0,71.0,67.0,68.0,56.0,35.0,52.0,47.0,56.0,64.0,66.0,62.0],\"xaxis\":\"x\",\"yaxis\":\"y\",\"type\":\"histogram\"},{\"alignmentgroup\":\"True\",\"hovertemplate\":\"Age=%{x}<extra></extra>\",\"legendgroup\":\"\",\"marker\":{\"color\":\"#636efa\"},\"name\":\"\",\"notched\":true,\"offsetgroup\":\"\",\"showlegend\":false,\"x\":[67.0,43.0,58.0,28.0,74.0,65.0,70.0,42.0,57.0,60.0,76.0,42.0,64.0,36.0,60.0,54.0,52.0,59.0,54.0,40.0,66.0,56.0,43.0,42.0,59.0,75.0,66.0,63.0,45.0,55.0,46.0,54.0,57.0,39.0,81.0,77.0,60.0,67.0,48.0,55.0,59.0,78.0,50.0,61.0,62.0,44.0,64.0,23.0,42.0,67.0,74.0,80.0,23.0,63.0,53.0,43.0,49.0,51.0,45.0,59.0,52.0,60.0,57.0,57.0,74.0,25.0,49.0,72.0,45.0,64.0,73.0,68.0,52.0,66.0,70.0,25.0,74.0,64.0,60.0,67.0,67.0,44.0,68.0,57.0,51.0,33.0,58.0,36.0,63.0,62.0,73.0,80.0,67.0,59.0,60.0,54.0,40.0,47.0,62.0,33.0,59.0,65.0,58.0,29.0,58.0,54.0,44.0,34.0,57.0,33.0,45.0,71.0,59.0,56.0,40.0,56.0,45.0,57.0,55.0,84.0,51.0,43.0,24.0,66.0,33.0,59.0,76.0,40.0,52.0,40.0,67.0,75.0,86.0,60.0,66.0,46.0,59.0,65.0,53.0,67.0,80.0,55.0,48.0,47.0,50.0,62.0,63.0,63.0,71.0,41.0,57.0,71.0,66.0,47.0,34.0,59.0,55.0,51.0,62.0,58.0,67.0,41.0,23.0,53.0,42.0,87.0,68.0,64.0,54.0,86.0,21.0,39.0,53.0,44.0,54.0,63.0,62.0,45.0,71.0,49.0,49.0,66.0,19.0,35.0,71.0,74.0,37.0,67.0,81.0,59.0,34.0,79.0,60.0,41.0,50.0,85.0,46.0,66.0,73.0,55.0,49.0,49.0,51.0,48.0,58.0,72.0,46.0,43.0,52.0,66.0,46.0,69.0,59.0,43.0,76.0,46.0,59.0,57.0,43.0,45.0,43.0,45.0,57.0,79.0,54.0,40.0,63.0,55.0,52.0,38.0,72.0,80.0,76.0,62.0,64.0,42.0,60.0,64.0,63.0,24.0,72.0,63.0,46.0,33.0,76.0,36.0,40.0,58.0,43.0,42.0,32.0,57.0,37.0,70.0,56.0,76.0,73.0,77.0,67.0,71.0,65.0,43.0,40.0,49.0,76.0,55.0,72.0,53.0,75.0,61.0,67.0,55.0,66.0,76.0,57.0,71.0,70.0,35.0,79.0,63.0,40.0,41.0,47.0,68.0,64.0,65.0,73.0,39.0,55.0,53.0,66.0,43.0,44.0,77.0,62.0,80.0,33.0,50.0,71.0,46.0,49.0,53.0,46.0,57.0,54.0,54.0,49.0,47.0,40.0,45.0,50.0,54.0,67.0,77.0,66.0,71.0,36.0,69.0,48.0,64.0,71.0,60.0,24.0,34.0,79.0,45.0,37.0,42.0,72.0,60.0,85.0,51.0,54.0,55.0,64.0,67.0,75.0,87.0,46.0,59.0,46.0,61.0,44.0,32.0,62.0,59.0,61.0,78.0,42.0,45.0,34.0,39.0,27.0,43.0,83.0,36.0,37.0,56.0,55.0,46.0,88.0,71.0,41.0,49.0,51.0,39.0,46.0,52.0,58.0,67.0,80.0,46.0,43.0,45.0,68.0,54.0,44.0,74.0,55.0,49.0,49.0,50.0,52.0,45.0,66.0,68.0,72.0,64.0,49.0,44.0,74.0,58.0,77.0,49.0,34.0,60.0,69.0,53.0,46.0,74.0,58.0,68.0,46.0,61.0,70.0,37.0,65.0,67.0,69.0,76.0,65.0,72.0,62.0,42.0,66.0,48.0,35.0,60.0,67.0,78.0,66.0,26.0,48.0,31.0,43.0,72.0,66.0,56.0,58.0,33.0,37.0,36.0,39.0,39.0,83.0,68.0,63.0,78.0,38.0,46.0,60.0,56.0,33.0,null,69.0,66.0,72.0,29.0,54.0,80.0,68.0,35.0,57.0,null,50.0,32.0,69.0,71.0,87.0,40.0,31.0,64.0,55.0,18.0,50.0,53.0,84.0,80.0,32.0,77.0,38.0,54.0,63.0,61.0,52.0,36.0,41.0,59.0,51.0,36.0,40.0,49.0,37.0,46.0,63.0,28.0,47.0,42.0,44.0,49.0,47.0,52.0,53.0,83.0,50.0,63.0,82.0,54.0,50.0,80.0,45.0,59.0,28.0,31.0,41.0,21.0,44.0,49.0,71.0,75.0,38.0,60.0,87.0,70.0,55.0,21.0,50.0,76.0,23.0,68.0,62.0,65.0,73.0,38.0,57.0,65.0,67.0,61.0,56.0,71.0,49.0,55.0,44.0,58.0,27.0,73.0,34.0,63.0,50.0,62.0,21.0,49.0,36.0,45.0,67.0,21.0,57.0,66.0,71.0,69.0,80.0,27.0,38.0,23.0,70.0,46.0,61.0,65.0,60.0,83.0,40.0,59.0,53.0,76.0,79.0,38.0,61.0,56.0,44.0,64.0,66.0,50.0,46.0,39.0,60.0,55.0,40.0,26.0,84.0,41.0,63.0,65.0,49.0,56.0,65.0,54.0,36.0,49.0,59.0,75.0,59.0,59.0,28.0,53.0,57.0,77.0,85.0,59.0,59.0,65.0,54.0,46.0,63.0,53.0,56.0,66.0,66.0,55.0,44.0,86.0,47.0,59.0,66.0,61.0,46.0,69.0,93.0,39.0,44.0,45.0,51.0,56.0,66.0,61.0,64.0,57.0,79.0,57.0,44.0,31.0,63.0,64.0,47.0,68.0,30.0,43.0,56.0,46.0,67.0,52.0,67.0,47.0,58.0,28.0,43.0,57.0,68.0,64.0,64.0,62.0,38.0,68.0,41.0,35.0,68.0,55.0,67.0,51.0,40.0,73.0,58.0,51.0,50.0,59.0,60.0,27.0,54.0,56.0,53.0,54.0,79.0,67.0,64.0,70.0,55.0,65.0,45.0,57.0,49.0,24.0,52.0,50.0,35.0,null,64.0,40.0,66.0,64.0,52.0,43.0,56.0,72.0,51.0,79.0,22.0,73.0,53.0,59.0,46.0,66.0,50.0,58.0,55.0,62.0,60.0,57.0,57.0,41.0,71.0,32.0,57.0,19.0,62.0,67.0,50.0,65.0,40.0,71.0,68.0,68.0,29.0,53.0,66.0,60.0,76.0,58.0,96.0,70.0,34.0,59.0,45.0,65.0,59.0,21.0,43.0,53.0,65.0,64.0,53.0,51.0,59.0,56.0,60.0,22.0,25.0,76.0,69.0,58.0,62.0,56.0,64.0,32.0,48.0,59.0,52.0,63.0,67.0,61.0,59.0,52.0,35.0,77.0,71.0,63.0,38.0,72.0,76.0,53.0,67.0,69.0,54.0,35.0,68.0,68.0,67.0,39.0,44.0,33.0,60.0,58.0,31.0,23.0,56.0,69.0,63.0,65.0,44.0,62.0,67.0,56.0,52.0,43.0,41.0,42.0,46.0,55.0,58.0,87.0,66.0,72.0,60.0,83.0,31.0,53.0,64.0,31.0,62.0,56.0,58.0,67.0,75.0,65.0,74.0,59.0,57.0,76.0,63.0,44.0,42.0,35.0,65.0,70.0,48.0,74.0,40.0,63.0,60.0,86.0,27.0,71.0,85.0,51.0,72.0,52.0,66.0,71.0,42.0,64.0,41.0,50.0,30.0,67.0,62.0,46.0,35.0,53.0,59.0,19.0,86.0,72.0,37.0,46.0,45.0,48.0,58.0,42.0,56.0,47.0,49.0,76.0,62.0,64.0,53.0,70.0,55.0,34.0,76.0,39.0,23.0,19.0,65.0,57.0,41.0,36.0,62.0,69.0,41.0,51.0,50.0,47.0,54.0,52.0,30.0,48.0,null,65.0,50.0,65.0,66.0,41.0,72.0,42.0,80.0,45.0,41.0,72.0,60.0,67.0,55.0,61.0,55.0,52.0,42.0,63.0,62.0,46.0,65.0,57.0,66.0,45.0,77.0,35.0,50.0,57.0,74.0,59.0,51.0,42.0,35.0,42.0,43.0,62.0,27.0,null,57.0,59.0,40.0,20.0,74.0,22.0,57.0,57.0,55.0,62.0,54.0,71.0,65.0,68.0,64.0,54.0,48.0,58.0,58.0,70.0,70.0,59.0,57.0,53.0,54.0,53.0,71.0,67.0,68.0,56.0,35.0,52.0,47.0,56.0,64.0,66.0,62.0],\"xaxis\":\"x2\",\"yaxis\":\"y2\",\"type\":\"box\"}],                        {\"template\":{\"data\":{\"bar\":[{\"error_x\":{\"color\":\"#2a3f5f\"},\"error_y\":{\"color\":\"#2a3f5f\"},\"marker\":{\"line\":{\"color\":\"#E5ECF6\",\"width\":0.5},\"pattern\":{\"fillmode\":\"overlay\",\"size\":10,\"solidity\":0.2}},\"type\":\"bar\"}],\"barpolar\":[{\"marker\":{\"line\":{\"color\":\"#E5ECF6\",\"width\":0.5},\"pattern\":{\"fillmode\":\"overlay\",\"size\":10,\"solidity\":0.2}},\"type\":\"barpolar\"}],\"carpet\":[{\"aaxis\":{\"endlinecolor\":\"#2a3f5f\",\"gridcolor\":\"white\",\"linecolor\":\"white\",\"minorgridcolor\":\"white\",\"startlinecolor\":\"#2a3f5f\"},\"baxis\":{\"endlinecolor\":\"#2a3f5f\",\"gridcolor\":\"white\",\"linecolor\":\"white\",\"minorgridcolor\":\"white\",\"startlinecolor\":\"#2a3f5f\"},\"type\":\"carpet\"}],\"choropleth\":[{\"colorbar\":{\"outlinewidth\":0,\"ticks\":\"\"},\"type\":\"choropleth\"}],\"contour\":[{\"colorbar\":{\"outlinewidth\":0,\"ticks\":\"\"},\"colorscale\":[[0.0,\"#0d0887\"],[0.1111111111111111,\"#46039f\"],[0.2222222222222222,\"#7201a8\"],[0.3333333333333333,\"#9c179e\"],[0.4444444444444444,\"#bd3786\"],[0.5555555555555556,\"#d8576b\"],[0.6666666666666666,\"#ed7953\"],[0.7777777777777778,\"#fb9f3a\"],[0.8888888888888888,\"#fdca26\"],[1.0,\"#f0f921\"]],\"type\":\"contour\"}],\"contourcarpet\":[{\"colorbar\":{\"outlinewidth\":0,\"ticks\":\"\"},\"type\":\"contourcarpet\"}],\"heatmap\":[{\"colorbar\":{\"outlinewidth\":0,\"ticks\":\"\"},\"colorscale\":[[0.0,\"#0d0887\"],[0.1111111111111111,\"#46039f\"],[0.2222222222222222,\"#7201a8\"],[0.3333333333333333,\"#9c179e\"],[0.4444444444444444,\"#bd3786\"],[0.5555555555555556,\"#d8576b\"],[0.6666666666666666,\"#ed7953\"],[0.7777777777777778,\"#fb9f3a\"],[0.8888888888888888,\"#fdca26\"],[1.0,\"#f0f921\"]],\"type\":\"heatmap\"}],\"heatmapgl\":[{\"colorbar\":{\"outlinewidth\":0,\"ticks\":\"\"},\"colorscale\":[[0.0,\"#0d0887\"],[0.1111111111111111,\"#46039f\"],[0.2222222222222222,\"#7201a8\"],[0.3333333333333333,\"#9c179e\"],[0.4444444444444444,\"#bd3786\"],[0.5555555555555556,\"#d8576b\"],[0.6666666666666666,\"#ed7953\"],[0.7777777777777778,\"#fb9f3a\"],[0.8888888888888888,\"#fdca26\"],[1.0,\"#f0f921\"]],\"type\":\"heatmapgl\"}],\"histogram\":[{\"marker\":{\"pattern\":{\"fillmode\":\"overlay\",\"size\":10,\"solidity\":0.2}},\"type\":\"histogram\"}],\"histogram2d\":[{\"colorbar\":{\"outlinewidth\":0,\"ticks\":\"\"},\"colorscale\":[[0.0,\"#0d0887\"],[0.1111111111111111,\"#46039f\"],[0.2222222222222222,\"#7201a8\"],[0.3333333333333333,\"#9c179e\"],[0.4444444444444444,\"#bd3786\"],[0.5555555555555556,\"#d8576b\"],[0.6666666666666666,\"#ed7953\"],[0.7777777777777778,\"#fb9f3a\"],[0.8888888888888888,\"#fdca26\"],[1.0,\"#f0f921\"]],\"type\":\"histogram2d\"}],\"histogram2dcontour\":[{\"colorbar\":{\"outlinewidth\":0,\"ticks\":\"\"},\"colorscale\":[[0.0,\"#0d0887\"],[0.1111111111111111,\"#46039f\"],[0.2222222222222222,\"#7201a8\"],[0.3333333333333333,\"#9c179e\"],[0.4444444444444444,\"#bd3786\"],[0.5555555555555556,\"#d8576b\"],[0.6666666666666666,\"#ed7953\"],[0.7777777777777778,\"#fb9f3a\"],[0.8888888888888888,\"#fdca26\"],[1.0,\"#f0f921\"]],\"type\":\"histogram2dcontour\"}],\"mesh3d\":[{\"colorbar\":{\"outlinewidth\":0,\"ticks\":\"\"},\"type\":\"mesh3d\"}],\"parcoords\":[{\"line\":{\"colorbar\":{\"outlinewidth\":0,\"ticks\":\"\"}},\"type\":\"parcoords\"}],\"pie\":[{\"automargin\":true,\"type\":\"pie\"}],\"scatter\":[{\"marker\":{\"colorbar\":{\"outlinewidth\":0,\"ticks\":\"\"}},\"type\":\"scatter\"}],\"scatter3d\":[{\"line\":{\"colorbar\":{\"outlinewidth\":0,\"ticks\":\"\"}},\"marker\":{\"colorbar\":{\"outlinewidth\":0,\"ticks\":\"\"}},\"type\":\"scatter3d\"}],\"scattercarpet\":[{\"marker\":{\"colorbar\":{\"outlinewidth\":0,\"ticks\":\"\"}},\"type\":\"scattercarpet\"}],\"scattergeo\":[{\"marker\":{\"colorbar\":{\"outlinewidth\":0,\"ticks\":\"\"}},\"type\":\"scattergeo\"}],\"scattergl\":[{\"marker\":{\"colorbar\":{\"outlinewidth\":0,\"ticks\":\"\"}},\"type\":\"scattergl\"}],\"scattermapbox\":[{\"marker\":{\"colorbar\":{\"outlinewidth\":0,\"ticks\":\"\"}},\"type\":\"scattermapbox\"}],\"scatterpolar\":[{\"marker\":{\"colorbar\":{\"outlinewidth\":0,\"ticks\":\"\"}},\"type\":\"scatterpolar\"}],\"scatterpolargl\":[{\"marker\":{\"colorbar\":{\"outlinewidth\":0,\"ticks\":\"\"}},\"type\":\"scatterpolargl\"}],\"scatterternary\":[{\"marker\":{\"colorbar\":{\"outlinewidth\":0,\"ticks\":\"\"}},\"type\":\"scatterternary\"}],\"surface\":[{\"colorbar\":{\"outlinewidth\":0,\"ticks\":\"\"},\"colorscale\":[[0.0,\"#0d0887\"],[0.1111111111111111,\"#46039f\"],[0.2222222222222222,\"#7201a8\"],[0.3333333333333333,\"#9c179e\"],[0.4444444444444444,\"#bd3786\"],[0.5555555555555556,\"#d8576b\"],[0.6666666666666666,\"#ed7953\"],[0.7777777777777778,\"#fb9f3a\"],[0.8888888888888888,\"#fdca26\"],[1.0,\"#f0f921\"]],\"type\":\"surface\"}],\"table\":[{\"cells\":{\"fill\":{\"color\":\"#EBF0F8\"},\"line\":{\"color\":\"white\"}},\"header\":{\"fill\":{\"color\":\"#C8D4E3\"},\"line\":{\"color\":\"white\"}},\"type\":\"table\"}]},\"layout\":{\"annotationdefaults\":{\"arrowcolor\":\"#2a3f5f\",\"arrowhead\":0,\"arrowwidth\":1},\"autotypenumbers\":\"strict\",\"coloraxis\":{\"colorbar\":{\"outlinewidth\":0,\"ticks\":\"\"}},\"colorscale\":{\"diverging\":[[0,\"#8e0152\"],[0.1,\"#c51b7d\"],[0.2,\"#de77ae\"],[0.3,\"#f1b6da\"],[0.4,\"#fde0ef\"],[0.5,\"#f7f7f7\"],[0.6,\"#e6f5d0\"],[0.7,\"#b8e186\"],[0.8,\"#7fbc41\"],[0.9,\"#4d9221\"],[1,\"#276419\"]],\"sequential\":[[0.0,\"#0d0887\"],[0.1111111111111111,\"#46039f\"],[0.2222222222222222,\"#7201a8\"],[0.3333333333333333,\"#9c179e\"],[0.4444444444444444,\"#bd3786\"],[0.5555555555555556,\"#d8576b\"],[0.6666666666666666,\"#ed7953\"],[0.7777777777777778,\"#fb9f3a\"],[0.8888888888888888,\"#fdca26\"],[1.0,\"#f0f921\"]],\"sequentialminus\":[[0.0,\"#0d0887\"],[0.1111111111111111,\"#46039f\"],[0.2222222222222222,\"#7201a8\"],[0.3333333333333333,\"#9c179e\"],[0.4444444444444444,\"#bd3786\"],[0.5555555555555556,\"#d8576b\"],[0.6666666666666666,\"#ed7953\"],[0.7777777777777778,\"#fb9f3a\"],[0.8888888888888888,\"#fdca26\"],[1.0,\"#f0f921\"]]},\"colorway\":[\"#636efa\",\"#EF553B\",\"#00cc96\",\"#ab63fa\",\"#FFA15A\",\"#19d3f3\",\"#FF6692\",\"#B6E880\",\"#FF97FF\",\"#FECB52\"],\"font\":{\"color\":\"#2a3f5f\"},\"geo\":{\"bgcolor\":\"white\",\"lakecolor\":\"white\",\"landcolor\":\"#E5ECF6\",\"showlakes\":true,\"showland\":true,\"subunitcolor\":\"white\"},\"hoverlabel\":{\"align\":\"left\"},\"hovermode\":\"closest\",\"mapbox\":{\"style\":\"light\"},\"paper_bgcolor\":\"white\",\"plot_bgcolor\":\"#E5ECF6\",\"polar\":{\"angularaxis\":{\"gridcolor\":\"white\",\"linecolor\":\"white\",\"ticks\":\"\"},\"bgcolor\":\"#E5ECF6\",\"radialaxis\":{\"gridcolor\":\"white\",\"linecolor\":\"white\",\"ticks\":\"\"}},\"scene\":{\"xaxis\":{\"backgroundcolor\":\"#E5ECF6\",\"gridcolor\":\"white\",\"gridwidth\":2,\"linecolor\":\"white\",\"showbackground\":true,\"ticks\":\"\",\"zerolinecolor\":\"white\"},\"yaxis\":{\"backgroundcolor\":\"#E5ECF6\",\"gridcolor\":\"white\",\"gridwidth\":2,\"linecolor\":\"white\",\"showbackground\":true,\"ticks\":\"\",\"zerolinecolor\":\"white\"},\"zaxis\":{\"backgroundcolor\":\"#E5ECF6\",\"gridcolor\":\"white\",\"gridwidth\":2,\"linecolor\":\"white\",\"showbackground\":true,\"ticks\":\"\",\"zerolinecolor\":\"white\"}},\"shapedefaults\":{\"line\":{\"color\":\"#2a3f5f\"}},\"ternary\":{\"aaxis\":{\"gridcolor\":\"white\",\"linecolor\":\"white\",\"ticks\":\"\"},\"baxis\":{\"gridcolor\":\"white\",\"linecolor\":\"white\",\"ticks\":\"\"},\"bgcolor\":\"#E5ECF6\",\"caxis\":{\"gridcolor\":\"white\",\"linecolor\":\"white\",\"ticks\":\"\"}},\"title\":{\"x\":0.05},\"xaxis\":{\"automargin\":true,\"gridcolor\":\"white\",\"linecolor\":\"white\",\"ticks\":\"\",\"title\":{\"standoff\":15},\"zerolinecolor\":\"white\",\"zerolinewidth\":2},\"yaxis\":{\"automargin\":true,\"gridcolor\":\"white\",\"linecolor\":\"white\",\"ticks\":\"\",\"title\":{\"standoff\":15},\"zerolinecolor\":\"white\",\"zerolinewidth\":2}}},\"xaxis\":{\"anchor\":\"y\",\"domain\":[0.0,1.0],\"title\":{\"text\":\"Age\"}},\"yaxis\":{\"anchor\":\"x\",\"domain\":[0.0,0.8316],\"title\":{\"text\":\"Number of Subjects\"}},\"xaxis2\":{\"anchor\":\"y2\",\"domain\":[0.0,1.0],\"matches\":\"x\",\"showticklabels\":false,\"showgrid\":true},\"yaxis2\":{\"anchor\":\"x2\",\"domain\":[0.8416,1.0],\"matches\":\"y2\",\"showticklabels\":false,\"showline\":false,\"ticks\":\"\",\"showgrid\":false},\"legend\":{\"tracegroupgap\":0},\"title\":{\"text\":\"<b>Age<b>\",\"font\":{\"size\":24},\"x\":0.5},\"barmode\":\"relative\",\"height\":600,\"width\":1200},                        {\"responsive\": true}                    ).then(function(){\n",
              "                            \n",
              "var gd = document.getElementById('40b28f86-40f5-4350-9483-ea9db7b9dc24');\n",
              "var x = new MutationObserver(function (mutations, observer) {{\n",
              "        var display = window.getComputedStyle(gd).display;\n",
              "        if (!display || display === 'none') {{\n",
              "            console.log([gd, 'removed!']);\n",
              "            Plotly.purge(gd);\n",
              "            observer.disconnect();\n",
              "        }}\n",
              "}});\n",
              "\n",
              "// Listen for the removal of the full notebook cells\n",
              "var notebookContainer = gd.closest('#notebook-container');\n",
              "if (notebookContainer) {{\n",
              "    x.observe(notebookContainer, {childList: true});\n",
              "}}\n",
              "\n",
              "// Listen for the clearing of the current output cell\n",
              "var outputEl = gd.closest('.output');\n",
              "if (outputEl) {{\n",
              "    x.observe(outputEl, {childList: true});\n",
              "}}\n",
              "\n",
              "                        })                };                            </script>        </div>\n",
              "</body>\n",
              "</html>"
            ]
          },
          "metadata": {}
        }
      ]
    },
    {
      "cell_type": "code",
      "source": [
        "# Describe 'Age'\n",
        "masses_df['Age'].describe()"
      ],
      "metadata": {
        "colab": {
          "base_uri": "https://localhost:8080/"
        },
        "id": "RW37UmYguSfy",
        "outputId": "57d514cf-47b9-440f-c88a-74be6f540506"
      },
      "execution_count": null,
      "outputs": [
        {
          "output_type": "execute_result",
          "data": {
            "text/plain": [
              "count    956.000000\n",
              "mean      55.487448\n",
              "std       14.480131\n",
              "min       18.000000\n",
              "25%       45.000000\n",
              "50%       57.000000\n",
              "75%       66.000000\n",
              "max       96.000000\n",
              "Name: Age, dtype: float64"
            ]
          },
          "metadata": {},
          "execution_count": 9
        }
      ]
    },
    {
      "cell_type": "markdown",
      "source": [
        "## 4.3 Shape and Margin\n",
        "\n",
        "The following articles contain helpful information and photos for the various classifications for shape, margin, and density.  \n",
        "\n",
        "https://radiopaedia.org/articles/breast-mass?lang=us\n",
        "\n",
        "https://radiologyassistant.nl/breast/bi-rads/bi-rads-for-mammography-and-ultrasound-2013\n",
        "\n",
        "https://www.ncbi.nlm.nih.gov/books/NBK343794/table/ch1.t1/\n",
        "\n",
        "Shape and Margin are nominal data, and will be one-hot encoded.  Null values will not affect the model after one=hot encoding."
      ],
      "metadata": {
        "id": "1kBMBz-qvfqr"
      }
    },
    {
      "cell_type": "code",
      "source": [
        "# Value counts for each 'Shape' category\n",
        "masses_df['Shape'].value_counts(ascending=True)"
      ],
      "metadata": {
        "colab": {
          "base_uri": "https://localhost:8080/"
        },
        "id": "b2vtBPicwYOp",
        "outputId": "cac2e262-2c96-4ef4-aef5-678344b7a30b"
      },
      "execution_count": null,
      "outputs": [
        {
          "output_type": "execute_result",
          "data": {
            "text/plain": [
              "3.0     95\n",
              "2.0    211\n",
              "1.0    224\n",
              "4.0    400\n",
              "Name: Shape, dtype: int64"
            ]
          },
          "metadata": {},
          "execution_count": 10
        }
      ]
    },
    {
      "cell_type": "code",
      "source": [
        "# Plot 'Shape'\n",
        "fig = px.histogram(masses_df, # DataFrame\n",
        "                   x='Shape', # x-axis\n",
        "                   width=1200, # Set figure width\n",
        "                   height=600, # Set figure height\n",
        "                   title='<b>Shape<b>', #Change title and bold\n",
        "                   text_auto=True, # Turn on bar totals\n",
        "                #    marginal=\"box\", # or violin, rug, box\n",
        "                   )\n",
        "\n",
        "fig.update_layout(title_x=.5, # Centers the Title\n",
        "                  titlefont={'size': 24}, # title size\n",
        "                  yaxis_title ='Number of Subjects', # Changes the y-axis title\n",
        "                  )\n",
        "fig.show()\n",
        "\n",
        "# fig.write_image(\"Shape.png\", engine=\"kaleido\")"
      ],
      "metadata": {
        "colab": {
          "base_uri": "https://localhost:8080/",
          "height": 617
        },
        "id": "oQ3dHbT2xEew",
        "outputId": "a045460f-0032-44e3-a6ab-39453cfa73e0"
      },
      "execution_count": null,
      "outputs": [
        {
          "output_type": "display_data",
          "data": {
            "text/html": [
              "<html>\n",
              "<head><meta charset=\"utf-8\" /></head>\n",
              "<body>\n",
              "    <div>            <script src=\"https://cdnjs.cloudflare.com/ajax/libs/mathjax/2.7.5/MathJax.js?config=TeX-AMS-MML_SVG\"></script><script type=\"text/javascript\">if (window.MathJax) {MathJax.Hub.Config({SVG: {font: \"STIX-Web\"}});}</script>                <script type=\"text/javascript\">window.PlotlyConfig = {MathJaxConfig: 'local'};</script>\n",
              "        <script src=\"https://cdn.plot.ly/plotly-2.8.3.min.js\"></script>                <div id=\"cc614092-f1ef-484c-89ed-ccb701f4129b\" class=\"plotly-graph-div\" style=\"height:600px; width:1200px;\"></div>            <script type=\"text/javascript\">                                    window.PLOTLYENV=window.PLOTLYENV || {};                                    if (document.getElementById(\"cc614092-f1ef-484c-89ed-ccb701f4129b\")) {                    Plotly.newPlot(                        \"cc614092-f1ef-484c-89ed-ccb701f4129b\",                        [{\"alignmentgroup\":\"True\",\"bingroup\":\"x\",\"hovertemplate\":\"Shape=%{x}<br>count=%{y}<extra></extra>\",\"legendgroup\":\"\",\"marker\":{\"color\":\"#636efa\",\"pattern\":{\"shape\":\"\"}},\"name\":\"\",\"offsetgroup\":\"\",\"orientation\":\"v\",\"showlegend\":false,\"texttemplate\":\"%{value}\",\"x\":[3.0,1.0,4.0,1.0,1.0,1.0,null,1.0,1.0,null,1.0,2.0,1.0,3.0,2.0,1.0,3.0,2.0,1.0,1.0,null,4.0,1.0,4.0,2.0,4.0,1.0,3.0,4.0,4.0,1.0,4.0,4.0,1.0,1.0,3.0,2.0,3.0,4.0,3.0,2.0,1.0,1.0,2.0,3.0,2.0,4.0,1.0,null,4.0,2.0,3.0,1.0,2.0,null,3.0,2.0,2.0,2.0,2.0,4.0,4.0,2.0,2.0,4.0,2.0,1.0,4.0,2.0,2.0,2.0,4.0,4.0,4.0,null,1.0,1.0,1.0,4.0,2.0,4.0,4.0,1.0,null,4.0,1.0,4.0,1.0,1.0,1.0,3.0,4.0,1.0,2.0,1.0,4.0,1.0,2.0,4.0,2.0,2.0,2.0,4.0,2.0,1.0,1.0,1.0,2.0,1.0,4.0,4.0,4.0,4.0,2.0,3.0,1.0,2.0,2.0,3.0,4.0,4.0,1.0,2.0,1.0,4.0,4.0,2.0,1.0,null,4.0,4.0,4.0,4.0,2.0,4.0,4.0,4.0,4.0,1.0,3.0,4.0,2.0,1.0,1.0,2.0,4.0,4.0,4.0,4.0,1.0,4.0,4.0,1.0,2.0,4.0,3.0,2.0,null,2.0,4.0,4.0,2.0,3.0,null,2.0,4.0,1.0,1.0,3.0,4.0,2.0,1.0,4.0,4.0,1.0,4.0,2.0,2.0,4.0,4.0,4.0,4.0,1.0,1.0,3.0,4.0,4.0,1.0,3.0,4.0,1.0,4.0,3.0,1.0,1.0,4.0,1.0,4.0,3.0,1.0,2.0,4.0,4.0,4.0,4.0,4.0,2.0,4.0,4.0,2.0,1.0,3.0,1.0,2.0,4.0,1.0,2.0,1.0,4.0,2.0,2.0,2.0,4.0,4.0,2.0,3.0,4.0,1.0,2.0,1.0,4.0,4.0,4.0,3.0,4.0,4.0,null,4.0,4.0,2.0,4.0,2.0,1.0,1.0,4.0,2.0,2.0,1.0,2.0,1.0,1.0,4.0,1.0,4.0,4.0,null,4.0,4.0,4.0,4.0,4.0,1.0,2.0,2.0,4.0,4.0,4.0,4.0,4.0,4.0,4.0,4.0,4.0,1.0,4.0,3.0,4.0,4.0,1.0,2.0,1.0,1.0,2.0,1.0,4.0,4.0,4.0,4.0,4.0,3.0,4.0,3.0,4.0,4.0,2.0,4.0,4.0,4.0,1.0,4.0,4.0,1.0,2.0,1.0,3.0,1.0,2.0,3.0,1.0,1.0,4.0,4.0,4.0,4.0,4.0,2.0,2.0,4.0,1.0,4.0,4.0,4.0,1.0,4.0,1.0,1.0,2.0,1.0,4.0,4.0,3.0,1.0,4.0,4.0,4.0,4.0,4.0,4.0,4.0,2.0,4.0,1.0,1.0,1.0,1.0,4.0,4.0,4.0,4.0,1.0,2.0,4.0,3.0,1.0,4.0,2.0,2.0,3.0,4.0,3.0,4.0,4.0,2.0,4.0,1.0,1.0,2.0,4.0,4.0,4.0,4.0,1.0,1.0,1.0,4.0,4.0,2.0,4.0,4.0,4.0,1.0,4.0,3.0,1.0,1.0,4.0,2.0,null,null,null,4.0,4.0,2.0,3.0,null,4.0,4.0,2.0,3.0,4.0,1.0,4.0,4.0,2.0,4.0,4.0,4.0,4.0,3.0,4.0,4.0,4.0,4.0,4.0,4.0,4.0,1.0,4.0,4.0,4.0,1.0,1.0,1.0,1.0,4.0,2.0,1.0,4.0,4.0,2.0,1.0,4.0,2.0,4.0,4.0,4.0,3.0,4.0,2.0,4.0,4.0,2.0,1.0,4.0,1.0,1.0,1.0,1.0,4.0,4.0,4.0,2.0,3.0,4.0,1.0,4.0,4.0,4.0,4.0,2.0,1.0,1.0,4.0,1.0,2.0,1.0,4.0,4.0,1.0,3.0,1.0,4.0,1.0,1.0,1.0,1.0,null,1.0,4.0,1.0,4.0,1.0,2.0,1.0,1.0,2.0,2.0,2.0,4.0,4.0,4.0,4.0,1.0,3.0,4.0,4.0,null,1.0,4.0,4.0,2.0,4.0,2.0,1.0,2.0,3.0,3.0,4.0,4.0,4.0,2.0,1.0,4.0,4.0,4.0,1.0,1.0,4.0,1.0,null,4.0,1.0,4.0,2.0,1.0,4.0,2.0,2.0,4.0,2.0,2.0,null,2.0,4.0,2.0,4.0,2.0,null,2.0,2.0,3.0,2.0,3.0,2.0,4.0,1.0,2.0,4.0,4.0,3.0,4.0,2.0,2.0,2.0,null,4.0,2.0,4.0,4.0,4.0,4.0,null,3.0,4.0,1.0,2.0,3.0,2.0,2.0,3.0,3.0,3.0,1.0,1.0,3.0,4.0,2.0,1.0,3.0,2.0,1.0,null,1.0,2.0,4.0,1.0,1.0,4.0,4.0,4.0,4.0,4.0,4.0,4.0,4.0,4.0,4.0,4.0,1.0,3.0,2.0,4.0,4.0,1.0,1.0,4.0,4.0,1.0,1.0,3.0,4.0,4.0,4.0,4.0,null,1.0,1.0,1.0,4.0,2.0,3.0,2.0,4.0,4.0,3.0,2.0,4.0,2.0,4.0,2.0,4.0,1.0,4.0,4.0,1.0,4.0,1.0,2.0,2.0,4.0,4.0,2.0,4.0,2.0,1.0,2.0,4.0,2.0,2.0,4.0,4.0,4.0,2.0,2.0,2.0,4.0,4.0,4.0,1.0,4.0,null,null,null,4.0,3.0,2.0,4.0,1.0,4.0,2.0,1.0,4.0,3.0,1.0,4.0,3.0,4.0,4.0,1.0,2.0,1.0,2.0,1.0,3.0,4.0,4.0,4.0,4.0,4.0,1.0,4.0,3.0,4.0,4.0,2.0,2.0,3.0,2.0,4.0,4.0,4.0,1.0,1.0,2.0,1.0,4.0,1.0,2.0,2.0,2.0,2.0,1.0,2.0,4.0,4.0,2.0,2.0,4.0,4.0,1.0,1.0,2.0,4.0,3.0,4.0,2.0,3.0,4.0,2.0,2.0,3.0,4.0,1.0,2.0,2.0,1.0,2.0,2.0,4.0,1.0,2.0,2.0,2.0,1.0,2.0,3.0,4.0,2.0,4.0,4.0,1.0,2.0,null,4.0,1.0,4.0,4.0,4.0,4.0,4.0,4.0,3.0,4.0,4.0,2.0,4.0,4.0,3.0,4.0,2.0,1.0,2.0,4.0,4.0,2.0,1.0,2.0,1.0,null,1.0,1.0,1.0,4.0,2.0,1.0,1.0,2.0,3.0,4.0,2.0,3.0,1.0,4.0,3.0,1.0,4.0,4.0,4.0,2.0,4.0,4.0,4.0,2.0,2.0,2.0,4.0,4.0,2.0,4.0,1.0,4.0,3.0,3.0,2.0,4.0,3.0,1.0,1.0,3.0,3.0,4.0,2.0,1.0,1.0,null,1.0,4.0,4.0,1.0,4.0,4.0,3.0,4.0,4.0,2.0,4.0,2.0,4.0,2.0,2.0,1.0,1.0,4.0,2.0,1.0,1.0,2.0,3.0,2.0,2.0,2.0,3.0,1.0,4.0,4.0,1.0,2.0,2.0,4.0,2.0,4.0,4.0,4.0,4.0,4.0,4.0,4.0,1.0,1.0,1.0,4.0,2.0,4.0,4.0,3.0,2.0,3.0,2.0,3.0,4.0,4.0,4.0,1.0,4.0,4.0,2.0,1.0,4.0,4.0,3.0,3.0,1.0,4.0,2.0,1.0,3.0,4.0,4.0,2.0,3.0,3.0,4.0,1.0,4.0,4.0,1.0,2.0,3.0,4.0,1.0,4.0,1.0,4.0,4.0,3.0,4.0,1.0,3.0,2.0,1.0,2.0,4.0,2.0,4.0,4.0,2.0,3.0,1.0,4.0,1.0,4.0,4.0,2.0,2.0,1.0,1.0,3.0,4.0,1.0,2.0,4.0,4.0,3.0,1.0,1.0,2.0,2.0,4.0,4.0,2.0,4.0,4.0,4.0,2.0,2.0,4.0,2.0,4.0,4.0,4.0,3.0],\"xaxis\":\"x\",\"yaxis\":\"y\",\"type\":\"histogram\"}],                        {\"template\":{\"data\":{\"bar\":[{\"error_x\":{\"color\":\"#2a3f5f\"},\"error_y\":{\"color\":\"#2a3f5f\"},\"marker\":{\"line\":{\"color\":\"#E5ECF6\",\"width\":0.5},\"pattern\":{\"fillmode\":\"overlay\",\"size\":10,\"solidity\":0.2}},\"type\":\"bar\"}],\"barpolar\":[{\"marker\":{\"line\":{\"color\":\"#E5ECF6\",\"width\":0.5},\"pattern\":{\"fillmode\":\"overlay\",\"size\":10,\"solidity\":0.2}},\"type\":\"barpolar\"}],\"carpet\":[{\"aaxis\":{\"endlinecolor\":\"#2a3f5f\",\"gridcolor\":\"white\",\"linecolor\":\"white\",\"minorgridcolor\":\"white\",\"startlinecolor\":\"#2a3f5f\"},\"baxis\":{\"endlinecolor\":\"#2a3f5f\",\"gridcolor\":\"white\",\"linecolor\":\"white\",\"minorgridcolor\":\"white\",\"startlinecolor\":\"#2a3f5f\"},\"type\":\"carpet\"}],\"choropleth\":[{\"colorbar\":{\"outlinewidth\":0,\"ticks\":\"\"},\"type\":\"choropleth\"}],\"contour\":[{\"colorbar\":{\"outlinewidth\":0,\"ticks\":\"\"},\"colorscale\":[[0.0,\"#0d0887\"],[0.1111111111111111,\"#46039f\"],[0.2222222222222222,\"#7201a8\"],[0.3333333333333333,\"#9c179e\"],[0.4444444444444444,\"#bd3786\"],[0.5555555555555556,\"#d8576b\"],[0.6666666666666666,\"#ed7953\"],[0.7777777777777778,\"#fb9f3a\"],[0.8888888888888888,\"#fdca26\"],[1.0,\"#f0f921\"]],\"type\":\"contour\"}],\"contourcarpet\":[{\"colorbar\":{\"outlinewidth\":0,\"ticks\":\"\"},\"type\":\"contourcarpet\"}],\"heatmap\":[{\"colorbar\":{\"outlinewidth\":0,\"ticks\":\"\"},\"colorscale\":[[0.0,\"#0d0887\"],[0.1111111111111111,\"#46039f\"],[0.2222222222222222,\"#7201a8\"],[0.3333333333333333,\"#9c179e\"],[0.4444444444444444,\"#bd3786\"],[0.5555555555555556,\"#d8576b\"],[0.6666666666666666,\"#ed7953\"],[0.7777777777777778,\"#fb9f3a\"],[0.8888888888888888,\"#fdca26\"],[1.0,\"#f0f921\"]],\"type\":\"heatmap\"}],\"heatmapgl\":[{\"colorbar\":{\"outlinewidth\":0,\"ticks\":\"\"},\"colorscale\":[[0.0,\"#0d0887\"],[0.1111111111111111,\"#46039f\"],[0.2222222222222222,\"#7201a8\"],[0.3333333333333333,\"#9c179e\"],[0.4444444444444444,\"#bd3786\"],[0.5555555555555556,\"#d8576b\"],[0.6666666666666666,\"#ed7953\"],[0.7777777777777778,\"#fb9f3a\"],[0.8888888888888888,\"#fdca26\"],[1.0,\"#f0f921\"]],\"type\":\"heatmapgl\"}],\"histogram\":[{\"marker\":{\"pattern\":{\"fillmode\":\"overlay\",\"size\":10,\"solidity\":0.2}},\"type\":\"histogram\"}],\"histogram2d\":[{\"colorbar\":{\"outlinewidth\":0,\"ticks\":\"\"},\"colorscale\":[[0.0,\"#0d0887\"],[0.1111111111111111,\"#46039f\"],[0.2222222222222222,\"#7201a8\"],[0.3333333333333333,\"#9c179e\"],[0.4444444444444444,\"#bd3786\"],[0.5555555555555556,\"#d8576b\"],[0.6666666666666666,\"#ed7953\"],[0.7777777777777778,\"#fb9f3a\"],[0.8888888888888888,\"#fdca26\"],[1.0,\"#f0f921\"]],\"type\":\"histogram2d\"}],\"histogram2dcontour\":[{\"colorbar\":{\"outlinewidth\":0,\"ticks\":\"\"},\"colorscale\":[[0.0,\"#0d0887\"],[0.1111111111111111,\"#46039f\"],[0.2222222222222222,\"#7201a8\"],[0.3333333333333333,\"#9c179e\"],[0.4444444444444444,\"#bd3786\"],[0.5555555555555556,\"#d8576b\"],[0.6666666666666666,\"#ed7953\"],[0.7777777777777778,\"#fb9f3a\"],[0.8888888888888888,\"#fdca26\"],[1.0,\"#f0f921\"]],\"type\":\"histogram2dcontour\"}],\"mesh3d\":[{\"colorbar\":{\"outlinewidth\":0,\"ticks\":\"\"},\"type\":\"mesh3d\"}],\"parcoords\":[{\"line\":{\"colorbar\":{\"outlinewidth\":0,\"ticks\":\"\"}},\"type\":\"parcoords\"}],\"pie\":[{\"automargin\":true,\"type\":\"pie\"}],\"scatter\":[{\"marker\":{\"colorbar\":{\"outlinewidth\":0,\"ticks\":\"\"}},\"type\":\"scatter\"}],\"scatter3d\":[{\"line\":{\"colorbar\":{\"outlinewidth\":0,\"ticks\":\"\"}},\"marker\":{\"colorbar\":{\"outlinewidth\":0,\"ticks\":\"\"}},\"type\":\"scatter3d\"}],\"scattercarpet\":[{\"marker\":{\"colorbar\":{\"outlinewidth\":0,\"ticks\":\"\"}},\"type\":\"scattercarpet\"}],\"scattergeo\":[{\"marker\":{\"colorbar\":{\"outlinewidth\":0,\"ticks\":\"\"}},\"type\":\"scattergeo\"}],\"scattergl\":[{\"marker\":{\"colorbar\":{\"outlinewidth\":0,\"ticks\":\"\"}},\"type\":\"scattergl\"}],\"scattermapbox\":[{\"marker\":{\"colorbar\":{\"outlinewidth\":0,\"ticks\":\"\"}},\"type\":\"scattermapbox\"}],\"scatterpolar\":[{\"marker\":{\"colorbar\":{\"outlinewidth\":0,\"ticks\":\"\"}},\"type\":\"scatterpolar\"}],\"scatterpolargl\":[{\"marker\":{\"colorbar\":{\"outlinewidth\":0,\"ticks\":\"\"}},\"type\":\"scatterpolargl\"}],\"scatterternary\":[{\"marker\":{\"colorbar\":{\"outlinewidth\":0,\"ticks\":\"\"}},\"type\":\"scatterternary\"}],\"surface\":[{\"colorbar\":{\"outlinewidth\":0,\"ticks\":\"\"},\"colorscale\":[[0.0,\"#0d0887\"],[0.1111111111111111,\"#46039f\"],[0.2222222222222222,\"#7201a8\"],[0.3333333333333333,\"#9c179e\"],[0.4444444444444444,\"#bd3786\"],[0.5555555555555556,\"#d8576b\"],[0.6666666666666666,\"#ed7953\"],[0.7777777777777778,\"#fb9f3a\"],[0.8888888888888888,\"#fdca26\"],[1.0,\"#f0f921\"]],\"type\":\"surface\"}],\"table\":[{\"cells\":{\"fill\":{\"color\":\"#EBF0F8\"},\"line\":{\"color\":\"white\"}},\"header\":{\"fill\":{\"color\":\"#C8D4E3\"},\"line\":{\"color\":\"white\"}},\"type\":\"table\"}]},\"layout\":{\"annotationdefaults\":{\"arrowcolor\":\"#2a3f5f\",\"arrowhead\":0,\"arrowwidth\":1},\"autotypenumbers\":\"strict\",\"coloraxis\":{\"colorbar\":{\"outlinewidth\":0,\"ticks\":\"\"}},\"colorscale\":{\"diverging\":[[0,\"#8e0152\"],[0.1,\"#c51b7d\"],[0.2,\"#de77ae\"],[0.3,\"#f1b6da\"],[0.4,\"#fde0ef\"],[0.5,\"#f7f7f7\"],[0.6,\"#e6f5d0\"],[0.7,\"#b8e186\"],[0.8,\"#7fbc41\"],[0.9,\"#4d9221\"],[1,\"#276419\"]],\"sequential\":[[0.0,\"#0d0887\"],[0.1111111111111111,\"#46039f\"],[0.2222222222222222,\"#7201a8\"],[0.3333333333333333,\"#9c179e\"],[0.4444444444444444,\"#bd3786\"],[0.5555555555555556,\"#d8576b\"],[0.6666666666666666,\"#ed7953\"],[0.7777777777777778,\"#fb9f3a\"],[0.8888888888888888,\"#fdca26\"],[1.0,\"#f0f921\"]],\"sequentialminus\":[[0.0,\"#0d0887\"],[0.1111111111111111,\"#46039f\"],[0.2222222222222222,\"#7201a8\"],[0.3333333333333333,\"#9c179e\"],[0.4444444444444444,\"#bd3786\"],[0.5555555555555556,\"#d8576b\"],[0.6666666666666666,\"#ed7953\"],[0.7777777777777778,\"#fb9f3a\"],[0.8888888888888888,\"#fdca26\"],[1.0,\"#f0f921\"]]},\"colorway\":[\"#636efa\",\"#EF553B\",\"#00cc96\",\"#ab63fa\",\"#FFA15A\",\"#19d3f3\",\"#FF6692\",\"#B6E880\",\"#FF97FF\",\"#FECB52\"],\"font\":{\"color\":\"#2a3f5f\"},\"geo\":{\"bgcolor\":\"white\",\"lakecolor\":\"white\",\"landcolor\":\"#E5ECF6\",\"showlakes\":true,\"showland\":true,\"subunitcolor\":\"white\"},\"hoverlabel\":{\"align\":\"left\"},\"hovermode\":\"closest\",\"mapbox\":{\"style\":\"light\"},\"paper_bgcolor\":\"white\",\"plot_bgcolor\":\"#E5ECF6\",\"polar\":{\"angularaxis\":{\"gridcolor\":\"white\",\"linecolor\":\"white\",\"ticks\":\"\"},\"bgcolor\":\"#E5ECF6\",\"radialaxis\":{\"gridcolor\":\"white\",\"linecolor\":\"white\",\"ticks\":\"\"}},\"scene\":{\"xaxis\":{\"backgroundcolor\":\"#E5ECF6\",\"gridcolor\":\"white\",\"gridwidth\":2,\"linecolor\":\"white\",\"showbackground\":true,\"ticks\":\"\",\"zerolinecolor\":\"white\"},\"yaxis\":{\"backgroundcolor\":\"#E5ECF6\",\"gridcolor\":\"white\",\"gridwidth\":2,\"linecolor\":\"white\",\"showbackground\":true,\"ticks\":\"\",\"zerolinecolor\":\"white\"},\"zaxis\":{\"backgroundcolor\":\"#E5ECF6\",\"gridcolor\":\"white\",\"gridwidth\":2,\"linecolor\":\"white\",\"showbackground\":true,\"ticks\":\"\",\"zerolinecolor\":\"white\"}},\"shapedefaults\":{\"line\":{\"color\":\"#2a3f5f\"}},\"ternary\":{\"aaxis\":{\"gridcolor\":\"white\",\"linecolor\":\"white\",\"ticks\":\"\"},\"baxis\":{\"gridcolor\":\"white\",\"linecolor\":\"white\",\"ticks\":\"\"},\"bgcolor\":\"#E5ECF6\",\"caxis\":{\"gridcolor\":\"white\",\"linecolor\":\"white\",\"ticks\":\"\"}},\"title\":{\"x\":0.05},\"xaxis\":{\"automargin\":true,\"gridcolor\":\"white\",\"linecolor\":\"white\",\"ticks\":\"\",\"title\":{\"standoff\":15},\"zerolinecolor\":\"white\",\"zerolinewidth\":2},\"yaxis\":{\"automargin\":true,\"gridcolor\":\"white\",\"linecolor\":\"white\",\"ticks\":\"\",\"title\":{\"standoff\":15},\"zerolinecolor\":\"white\",\"zerolinewidth\":2}}},\"xaxis\":{\"anchor\":\"y\",\"domain\":[0.0,1.0],\"title\":{\"text\":\"Shape\"}},\"yaxis\":{\"anchor\":\"x\",\"domain\":[0.0,1.0],\"title\":{\"text\":\"Number of Subjects\"}},\"legend\":{\"tracegroupgap\":0},\"title\":{\"text\":\"<b>Shape<b>\",\"font\":{\"size\":24},\"x\":0.5},\"barmode\":\"relative\",\"height\":600,\"width\":1200},                        {\"responsive\": true}                    ).then(function(){\n",
              "                            \n",
              "var gd = document.getElementById('cc614092-f1ef-484c-89ed-ccb701f4129b');\n",
              "var x = new MutationObserver(function (mutations, observer) {{\n",
              "        var display = window.getComputedStyle(gd).display;\n",
              "        if (!display || display === 'none') {{\n",
              "            console.log([gd, 'removed!']);\n",
              "            Plotly.purge(gd);\n",
              "            observer.disconnect();\n",
              "        }}\n",
              "}});\n",
              "\n",
              "// Listen for the removal of the full notebook cells\n",
              "var notebookContainer = gd.closest('#notebook-container');\n",
              "if (notebookContainer) {{\n",
              "    x.observe(notebookContainer, {childList: true});\n",
              "}}\n",
              "\n",
              "// Listen for the clearing of the current output cell\n",
              "var outputEl = gd.closest('.output');\n",
              "if (outputEl) {{\n",
              "    x.observe(outputEl, {childList: true});\n",
              "}}\n",
              "\n",
              "                        })                };                            </script>        </div>\n",
              "</body>\n",
              "</html>"
            ]
          },
          "metadata": {}
        }
      ]
    },
    {
      "cell_type": "code",
      "source": [
        "# Value counts for each 'Margin' category\n",
        "masses_df['Margin'].value_counts(ascending=True)"
      ],
      "metadata": {
        "colab": {
          "base_uri": "https://localhost:8080/"
        },
        "id": "AWUyVepUwhQD",
        "outputId": "eedb9e9e-edae-4c8c-95c9-dda147a55ef1"
      },
      "execution_count": null,
      "outputs": [
        {
          "output_type": "execute_result",
          "data": {
            "text/plain": [
              "2.0     24\n",
              "3.0    116\n",
              "5.0    136\n",
              "4.0    280\n",
              "1.0    357\n",
              "Name: Margin, dtype: int64"
            ]
          },
          "metadata": {},
          "execution_count": 12
        }
      ]
    },
    {
      "cell_type": "code",
      "source": [
        "# Plot 'Margin'\n",
        "fig = px.histogram(masses_df, # DataFrame\n",
        "                   x='Margin', # x-axis\n",
        "                   width=1200, # Set figure width\n",
        "                   height=600, # Set figure height\n",
        "                   title='<b>Margin<b>', #Change title and bold\n",
        "                   text_auto=True, # Turn on bar totals\n",
        "                #    marginal=\"box\", # or violin, rug, box\n",
        "                   )\n",
        "\n",
        "fig.update_layout(title_x=.5, # Centers the Title\n",
        "                  titlefont={'size': 24}, # title size\n",
        "                  yaxis_title ='Number of Subjects', # Changes the y-axis title\n",
        "                  )\n",
        "fig.show()\n",
        "\n",
        "# fig.write_image(\"Margin.png\", engine=\"kaleido\")"
      ],
      "metadata": {
        "colab": {
          "base_uri": "https://localhost:8080/",
          "height": 617
        },
        "id": "YpeS_UPJxQp0",
        "outputId": "ac9dd975-8434-4002-c6c7-8d933c5dc83b"
      },
      "execution_count": null,
      "outputs": [
        {
          "output_type": "display_data",
          "data": {
            "text/html": [
              "<html>\n",
              "<head><meta charset=\"utf-8\" /></head>\n",
              "<body>\n",
              "    <div>            <script src=\"https://cdnjs.cloudflare.com/ajax/libs/mathjax/2.7.5/MathJax.js?config=TeX-AMS-MML_SVG\"></script><script type=\"text/javascript\">if (window.MathJax) {MathJax.Hub.Config({SVG: {font: \"STIX-Web\"}});}</script>                <script type=\"text/javascript\">window.PlotlyConfig = {MathJaxConfig: 'local'};</script>\n",
              "        <script src=\"https://cdn.plot.ly/plotly-2.8.3.min.js\"></script>                <div id=\"218a0047-4df3-4902-ad3a-dc4986a1d076\" class=\"plotly-graph-div\" style=\"height:600px; width:1200px;\"></div>            <script type=\"text/javascript\">                                    window.PLOTLYENV=window.PLOTLYENV || {};                                    if (document.getElementById(\"218a0047-4df3-4902-ad3a-dc4986a1d076\")) {                    Plotly.newPlot(                        \"218a0047-4df3-4902-ad3a-dc4986a1d076\",                        [{\"alignmentgroup\":\"True\",\"bingroup\":\"x\",\"hovertemplate\":\"Margin=%{x}<br>count=%{y}<extra></extra>\",\"legendgroup\":\"\",\"marker\":{\"color\":\"#636efa\",\"pattern\":{\"shape\":\"\"}},\"name\":\"\",\"offsetgroup\":\"\",\"orientation\":\"v\",\"showlegend\":false,\"texttemplate\":\"%{value}\",\"x\":[5.0,1.0,5.0,1.0,5.0,null,null,null,5.0,5.0,4.0,1.0,null,1.0,1.0,1.0,4.0,1.0,1.0,null,null,3.0,null,4.0,4.0,5.0,1.0,null,5.0,4.0,5.0,4.0,4.0,1.0,1.0,null,1.0,4.0,5.0,4.0,1.0,1.0,1.0,1.0,5.0,4.0,5.0,1.0,null,5.0,1.0,5.0,1.0,1.0,5.0,4.0,1.0,4.0,1.0,null,3.0,3.0,5.0,1.0,4.0,1.0,1.0,3.0,1.0,1.0,1.0,3.0,5.0,4.0,4.0,1.0,1.0,1.0,3.0,4.0,5.0,4.0,1.0,4.0,null,null,4.0,null,1.0,5.0,4.0,4.0,1.0,1.0,null,4.0,1.0,1.0,4.0,1.0,null,null,4.0,null,1.0,1.0,1.0,1.0,1.0,4.0,4.0,4.0,4.0,1.0,4.0,1.0,1.0,1.0,4.0,5.0,4.0,1.0,1.0,1.0,4.0,3.0,3.0,1.0,4.0,5.0,4.0,3.0,4.0,null,4.0,5.0,4.0,4.0,1.0,5.0,5.0,1.0,1.0,1.0,1.0,5.0,4.0,null,4.0,1.0,4.0,4.0,1.0,4.0,4.0,4.0,null,null,1.0,null,4.0,1.0,1.0,4.0,1.0,5.0,1.0,1.0,5.0,5.0,1.0,1.0,4.0,4.0,1.0,5.0,1.0,1.0,5.0,4.0,4.0,4.0,1.0,1.0,3.0,5.0,4.0,null,4.0,4.0,1.0,3.0,1.0,1.0,1.0,4.0,1.0,4.0,1.0,1.0,1.0,4.0,5.0,4.0,5.0,5.0,3.0,3.0,4.0,1.0,1.0,1.0,1.0,1.0,5.0,1.0,4.0,1.0,5.0,1.0,1.0,1.0,5.0,4.0,1.0,4.0,4.0,null,1.0,1.0,3.0,3.0,3.0,1.0,5.0,5.0,3.0,5.0,4.0,1.0,4.0,1.0,1.0,1.0,4.0,3.0,1.0,5.0,1.0,1.0,1.0,4.0,1.0,4.0,2.0,3.0,4.0,5.0,4.0,3.0,4.0,1.0,1.0,1.0,2.0,4.0,5.0,3.0,4.0,5.0,4.0,2.0,4.0,1.0,4.0,1.0,5.0,2.0,null,1.0,4.0,1.0,1.0,1.0,3.0,4.0,3.0,3.0,5.0,4.0,4.0,1.0,5.0,4.0,4.0,4.0,4.0,5.0,null,4.0,5.0,1.0,1.0,1.0,1.0,null,1.0,1.0,1.0,1.0,5.0,4.0,1.0,4.0,3.0,null,3.0,4.0,1.0,4.0,2.0,3.0,1.0,5.0,1.0,1.0,1.0,1.0,4.0,5.0,5.0,1.0,5.0,3.0,4.0,5.0,3.0,4.0,4.0,1.0,3.0,1.0,4.0,1.0,1.0,5.0,1.0,4.0,5.0,2.0,1.0,3.0,1.0,1.0,4.0,1.0,1.0,1.0,4.0,null,4.0,4.0,1.0,4.0,1.0,3.0,1.0,4.0,4.0,5.0,4.0,null,null,1.0,4.0,4.0,3.0,3.0,5.0,4.0,1.0,3.0,5.0,1.0,1.0,4.0,1.0,null,3.0,4.0,4.0,4.0,3.0,1.0,null,3.0,3.0,1.0,4.0,4.0,1.0,4.0,3.0,4.0,3.0,4.0,5.0,4.0,4.0,4.0,3.0,2.0,2.0,4.0,3.0,4.0,1.0,4.0,2.0,4.0,1.0,1.0,1.0,1.0,3.0,4.0,1.0,4.0,5.0,4.0,1.0,3.0,3.0,4.0,4.0,5.0,4.0,4.0,3.0,3.0,4.0,3.0,1.0,5.0,5.0,4.0,3.0,1.0,5.0,4.0,3.0,1.0,null,4.0,1.0,3.0,5.0,5.0,5.0,null,1.0,1.0,5.0,1.0,1.0,1.0,5.0,3.0,1.0,4.0,1.0,5.0,1.0,1.0,1.0,1.0,null,1.0,4.0,1.0,3.0,1.0,3.0,1.0,1.0,1.0,1.0,1.0,5.0,4.0,5.0,5.0,1.0,3.0,4.0,4.0,5.0,1.0,4.0,5.0,4.0,4.0,1.0,1.0,1.0,1.0,4.0,4.0,5.0,5.0,1.0,3.0,5.0,4.0,5.0,1.0,1.0,5.0,1.0,null,null,null,5.0,3.0,1.0,5.0,4.0,4.0,4.0,4.0,2.0,null,1.0,4.0,1.0,5.0,1.0,4.0,1.0,1.0,1.0,null,1.0,1.0,5.0,1.0,1.0,5.0,4.0,4.0,5.0,1.0,1.0,1.0,5.0,3.0,3.0,5.0,3.0,5.0,4.0,4.0,4.0,4.0,4.0,4.0,4.0,1.0,1.0,4.0,3.0,3.0,1.0,1.0,null,5.0,1.0,1.0,2.0,2.0,1.0,1.0,1.0,2.0,4.0,1.0,1.0,4.0,4.0,4.0,2.0,4.0,4.0,5.0,4.0,3.0,3.0,4.0,5.0,3.0,1.0,5.0,4.0,1.0,1.0,4.0,5.0,1.0,1.0,4.0,5.0,5.0,5.0,3.0,5.0,1.0,5.0,3.0,5.0,2.0,4.0,4.0,4.0,5.0,3.0,4.0,4.0,1.0,1.0,1.0,4.0,1.0,5.0,5.0,1.0,5.0,1.0,1.0,1.0,5.0,4.0,1.0,5.0,1.0,1.0,4.0,5.0,4.0,4.0,4.0,1.0,4.0,1.0,1.0,1.0,4.0,4.0,3.0,1.0,4.0,4.0,4.0,null,3.0,5.0,1.0,3.0,1.0,5.0,4.0,4.0,3.0,3.0,2.0,3.0,3.0,2.0,4.0,1.0,1.0,1.0,1.0,1.0,3.0,3.0,1.0,4.0,4.0,3.0,4.0,4.0,null,4.0,4.0,1.0,1.0,4.0,1.0,4.0,4.0,3.0,1.0,1.0,4.0,1.0,3.0,1.0,1.0,1.0,1.0,1.0,1.0,4.0,5.0,5.0,3.0,4.0,4.0,3.0,1.0,1.0,1.0,4.0,null,4.0,1.0,4.0,4.0,1.0,1.0,1.0,4.0,1.0,1.0,1.0,1.0,1.0,4.0,4.0,1.0,4.0,1.0,1.0,1.0,1.0,null,4.0,1.0,3.0,4.0,1.0,1.0,4.0,4.0,1.0,4.0,4.0,4.0,5.0,3.0,4.0,3.0,3.0,3.0,1.0,3.0,3.0,3.0,5.0,4.0,1.0,1.0,3.0,4.0,4.0,1.0,1.0,1.0,4.0,1.0,1.0,1.0,5.0,1.0,1.0,1.0,1.0,3.0,4.0,1.0,4.0,1.0,3.0,4.0,1.0,4.0,4.0,4.0,1.0,3.0,3.0,4.0,1.0,1.0,3.0,4.0,4.0,1.0,4.0,4.0,5.0,4.0,2.0,1.0,4.0,2.0,4.0,1.0,1.0,null,3.0,1.0,1.0,1.0,3.0,1.0,4.0,3.0,1.0,5.0,4.0,3.0,3.0,4.0,1.0,5.0,1.0,4.0,2.0,1.0,1.0,1.0,4.0,1.0,1.0,1.0,1.0,1.0,1.0,1.0,1.0,1.0,1.0,5.0,4.0,1.0,4.0,1.0,4.0,5.0,5.0,4.0,3.0,2.0,4.0,4.0,4.0,1.0,1.0,1.0,5.0,1.0,4.0,5.0,3.0,1.0,1.0,4.0,2.0,4.0,5.0,4.0,1.0,4.0,4.0,4.0,1.0,5.0,3.0,3.0,2.0,1.0,4.0,4.0,1.0,3.0,5.0,3.0,1.0,4.0,4.0,4.0,1.0,4.0,5.0,1.0,1.0,3.0,5.0,1.0,5.0,1.0,5.0,4.0,1.0,5.0,1.0,4.0,4.0,1.0,1.0,4.0,1.0,3.0,4.0,1.0,2.0,1.0,3.0,1.0,3.0,3.0,1.0,1.0,1.0,1.0,3.0,4.0,1.0,4.0,4.0,3.0,4.0,1.0,4.0,1.0,4.0,5.0,4.0,1.0,4.0,5.0,4.0,4.0,1.0,4.0,1.0,5.0,5.0,5.0,3.0],\"xaxis\":\"x\",\"yaxis\":\"y\",\"type\":\"histogram\"}],                        {\"template\":{\"data\":{\"bar\":[{\"error_x\":{\"color\":\"#2a3f5f\"},\"error_y\":{\"color\":\"#2a3f5f\"},\"marker\":{\"line\":{\"color\":\"#E5ECF6\",\"width\":0.5},\"pattern\":{\"fillmode\":\"overlay\",\"size\":10,\"solidity\":0.2}},\"type\":\"bar\"}],\"barpolar\":[{\"marker\":{\"line\":{\"color\":\"#E5ECF6\",\"width\":0.5},\"pattern\":{\"fillmode\":\"overlay\",\"size\":10,\"solidity\":0.2}},\"type\":\"barpolar\"}],\"carpet\":[{\"aaxis\":{\"endlinecolor\":\"#2a3f5f\",\"gridcolor\":\"white\",\"linecolor\":\"white\",\"minorgridcolor\":\"white\",\"startlinecolor\":\"#2a3f5f\"},\"baxis\":{\"endlinecolor\":\"#2a3f5f\",\"gridcolor\":\"white\",\"linecolor\":\"white\",\"minorgridcolor\":\"white\",\"startlinecolor\":\"#2a3f5f\"},\"type\":\"carpet\"}],\"choropleth\":[{\"colorbar\":{\"outlinewidth\":0,\"ticks\":\"\"},\"type\":\"choropleth\"}],\"contour\":[{\"colorbar\":{\"outlinewidth\":0,\"ticks\":\"\"},\"colorscale\":[[0.0,\"#0d0887\"],[0.1111111111111111,\"#46039f\"],[0.2222222222222222,\"#7201a8\"],[0.3333333333333333,\"#9c179e\"],[0.4444444444444444,\"#bd3786\"],[0.5555555555555556,\"#d8576b\"],[0.6666666666666666,\"#ed7953\"],[0.7777777777777778,\"#fb9f3a\"],[0.8888888888888888,\"#fdca26\"],[1.0,\"#f0f921\"]],\"type\":\"contour\"}],\"contourcarpet\":[{\"colorbar\":{\"outlinewidth\":0,\"ticks\":\"\"},\"type\":\"contourcarpet\"}],\"heatmap\":[{\"colorbar\":{\"outlinewidth\":0,\"ticks\":\"\"},\"colorscale\":[[0.0,\"#0d0887\"],[0.1111111111111111,\"#46039f\"],[0.2222222222222222,\"#7201a8\"],[0.3333333333333333,\"#9c179e\"],[0.4444444444444444,\"#bd3786\"],[0.5555555555555556,\"#d8576b\"],[0.6666666666666666,\"#ed7953\"],[0.7777777777777778,\"#fb9f3a\"],[0.8888888888888888,\"#fdca26\"],[1.0,\"#f0f921\"]],\"type\":\"heatmap\"}],\"heatmapgl\":[{\"colorbar\":{\"outlinewidth\":0,\"ticks\":\"\"},\"colorscale\":[[0.0,\"#0d0887\"],[0.1111111111111111,\"#46039f\"],[0.2222222222222222,\"#7201a8\"],[0.3333333333333333,\"#9c179e\"],[0.4444444444444444,\"#bd3786\"],[0.5555555555555556,\"#d8576b\"],[0.6666666666666666,\"#ed7953\"],[0.7777777777777778,\"#fb9f3a\"],[0.8888888888888888,\"#fdca26\"],[1.0,\"#f0f921\"]],\"type\":\"heatmapgl\"}],\"histogram\":[{\"marker\":{\"pattern\":{\"fillmode\":\"overlay\",\"size\":10,\"solidity\":0.2}},\"type\":\"histogram\"}],\"histogram2d\":[{\"colorbar\":{\"outlinewidth\":0,\"ticks\":\"\"},\"colorscale\":[[0.0,\"#0d0887\"],[0.1111111111111111,\"#46039f\"],[0.2222222222222222,\"#7201a8\"],[0.3333333333333333,\"#9c179e\"],[0.4444444444444444,\"#bd3786\"],[0.5555555555555556,\"#d8576b\"],[0.6666666666666666,\"#ed7953\"],[0.7777777777777778,\"#fb9f3a\"],[0.8888888888888888,\"#fdca26\"],[1.0,\"#f0f921\"]],\"type\":\"histogram2d\"}],\"histogram2dcontour\":[{\"colorbar\":{\"outlinewidth\":0,\"ticks\":\"\"},\"colorscale\":[[0.0,\"#0d0887\"],[0.1111111111111111,\"#46039f\"],[0.2222222222222222,\"#7201a8\"],[0.3333333333333333,\"#9c179e\"],[0.4444444444444444,\"#bd3786\"],[0.5555555555555556,\"#d8576b\"],[0.6666666666666666,\"#ed7953\"],[0.7777777777777778,\"#fb9f3a\"],[0.8888888888888888,\"#fdca26\"],[1.0,\"#f0f921\"]],\"type\":\"histogram2dcontour\"}],\"mesh3d\":[{\"colorbar\":{\"outlinewidth\":0,\"ticks\":\"\"},\"type\":\"mesh3d\"}],\"parcoords\":[{\"line\":{\"colorbar\":{\"outlinewidth\":0,\"ticks\":\"\"}},\"type\":\"parcoords\"}],\"pie\":[{\"automargin\":true,\"type\":\"pie\"}],\"scatter\":[{\"marker\":{\"colorbar\":{\"outlinewidth\":0,\"ticks\":\"\"}},\"type\":\"scatter\"}],\"scatter3d\":[{\"line\":{\"colorbar\":{\"outlinewidth\":0,\"ticks\":\"\"}},\"marker\":{\"colorbar\":{\"outlinewidth\":0,\"ticks\":\"\"}},\"type\":\"scatter3d\"}],\"scattercarpet\":[{\"marker\":{\"colorbar\":{\"outlinewidth\":0,\"ticks\":\"\"}},\"type\":\"scattercarpet\"}],\"scattergeo\":[{\"marker\":{\"colorbar\":{\"outlinewidth\":0,\"ticks\":\"\"}},\"type\":\"scattergeo\"}],\"scattergl\":[{\"marker\":{\"colorbar\":{\"outlinewidth\":0,\"ticks\":\"\"}},\"type\":\"scattergl\"}],\"scattermapbox\":[{\"marker\":{\"colorbar\":{\"outlinewidth\":0,\"ticks\":\"\"}},\"type\":\"scattermapbox\"}],\"scatterpolar\":[{\"marker\":{\"colorbar\":{\"outlinewidth\":0,\"ticks\":\"\"}},\"type\":\"scatterpolar\"}],\"scatterpolargl\":[{\"marker\":{\"colorbar\":{\"outlinewidth\":0,\"ticks\":\"\"}},\"type\":\"scatterpolargl\"}],\"scatterternary\":[{\"marker\":{\"colorbar\":{\"outlinewidth\":0,\"ticks\":\"\"}},\"type\":\"scatterternary\"}],\"surface\":[{\"colorbar\":{\"outlinewidth\":0,\"ticks\":\"\"},\"colorscale\":[[0.0,\"#0d0887\"],[0.1111111111111111,\"#46039f\"],[0.2222222222222222,\"#7201a8\"],[0.3333333333333333,\"#9c179e\"],[0.4444444444444444,\"#bd3786\"],[0.5555555555555556,\"#d8576b\"],[0.6666666666666666,\"#ed7953\"],[0.7777777777777778,\"#fb9f3a\"],[0.8888888888888888,\"#fdca26\"],[1.0,\"#f0f921\"]],\"type\":\"surface\"}],\"table\":[{\"cells\":{\"fill\":{\"color\":\"#EBF0F8\"},\"line\":{\"color\":\"white\"}},\"header\":{\"fill\":{\"color\":\"#C8D4E3\"},\"line\":{\"color\":\"white\"}},\"type\":\"table\"}]},\"layout\":{\"annotationdefaults\":{\"arrowcolor\":\"#2a3f5f\",\"arrowhead\":0,\"arrowwidth\":1},\"autotypenumbers\":\"strict\",\"coloraxis\":{\"colorbar\":{\"outlinewidth\":0,\"ticks\":\"\"}},\"colorscale\":{\"diverging\":[[0,\"#8e0152\"],[0.1,\"#c51b7d\"],[0.2,\"#de77ae\"],[0.3,\"#f1b6da\"],[0.4,\"#fde0ef\"],[0.5,\"#f7f7f7\"],[0.6,\"#e6f5d0\"],[0.7,\"#b8e186\"],[0.8,\"#7fbc41\"],[0.9,\"#4d9221\"],[1,\"#276419\"]],\"sequential\":[[0.0,\"#0d0887\"],[0.1111111111111111,\"#46039f\"],[0.2222222222222222,\"#7201a8\"],[0.3333333333333333,\"#9c179e\"],[0.4444444444444444,\"#bd3786\"],[0.5555555555555556,\"#d8576b\"],[0.6666666666666666,\"#ed7953\"],[0.7777777777777778,\"#fb9f3a\"],[0.8888888888888888,\"#fdca26\"],[1.0,\"#f0f921\"]],\"sequentialminus\":[[0.0,\"#0d0887\"],[0.1111111111111111,\"#46039f\"],[0.2222222222222222,\"#7201a8\"],[0.3333333333333333,\"#9c179e\"],[0.4444444444444444,\"#bd3786\"],[0.5555555555555556,\"#d8576b\"],[0.6666666666666666,\"#ed7953\"],[0.7777777777777778,\"#fb9f3a\"],[0.8888888888888888,\"#fdca26\"],[1.0,\"#f0f921\"]]},\"colorway\":[\"#636efa\",\"#EF553B\",\"#00cc96\",\"#ab63fa\",\"#FFA15A\",\"#19d3f3\",\"#FF6692\",\"#B6E880\",\"#FF97FF\",\"#FECB52\"],\"font\":{\"color\":\"#2a3f5f\"},\"geo\":{\"bgcolor\":\"white\",\"lakecolor\":\"white\",\"landcolor\":\"#E5ECF6\",\"showlakes\":true,\"showland\":true,\"subunitcolor\":\"white\"},\"hoverlabel\":{\"align\":\"left\"},\"hovermode\":\"closest\",\"mapbox\":{\"style\":\"light\"},\"paper_bgcolor\":\"white\",\"plot_bgcolor\":\"#E5ECF6\",\"polar\":{\"angularaxis\":{\"gridcolor\":\"white\",\"linecolor\":\"white\",\"ticks\":\"\"},\"bgcolor\":\"#E5ECF6\",\"radialaxis\":{\"gridcolor\":\"white\",\"linecolor\":\"white\",\"ticks\":\"\"}},\"scene\":{\"xaxis\":{\"backgroundcolor\":\"#E5ECF6\",\"gridcolor\":\"white\",\"gridwidth\":2,\"linecolor\":\"white\",\"showbackground\":true,\"ticks\":\"\",\"zerolinecolor\":\"white\"},\"yaxis\":{\"backgroundcolor\":\"#E5ECF6\",\"gridcolor\":\"white\",\"gridwidth\":2,\"linecolor\":\"white\",\"showbackground\":true,\"ticks\":\"\",\"zerolinecolor\":\"white\"},\"zaxis\":{\"backgroundcolor\":\"#E5ECF6\",\"gridcolor\":\"white\",\"gridwidth\":2,\"linecolor\":\"white\",\"showbackground\":true,\"ticks\":\"\",\"zerolinecolor\":\"white\"}},\"shapedefaults\":{\"line\":{\"color\":\"#2a3f5f\"}},\"ternary\":{\"aaxis\":{\"gridcolor\":\"white\",\"linecolor\":\"white\",\"ticks\":\"\"},\"baxis\":{\"gridcolor\":\"white\",\"linecolor\":\"white\",\"ticks\":\"\"},\"bgcolor\":\"#E5ECF6\",\"caxis\":{\"gridcolor\":\"white\",\"linecolor\":\"white\",\"ticks\":\"\"}},\"title\":{\"x\":0.05},\"xaxis\":{\"automargin\":true,\"gridcolor\":\"white\",\"linecolor\":\"white\",\"ticks\":\"\",\"title\":{\"standoff\":15},\"zerolinecolor\":\"white\",\"zerolinewidth\":2},\"yaxis\":{\"automargin\":true,\"gridcolor\":\"white\",\"linecolor\":\"white\",\"ticks\":\"\",\"title\":{\"standoff\":15},\"zerolinecolor\":\"white\",\"zerolinewidth\":2}}},\"xaxis\":{\"anchor\":\"y\",\"domain\":[0.0,1.0],\"title\":{\"text\":\"Margin\"}},\"yaxis\":{\"anchor\":\"x\",\"domain\":[0.0,1.0],\"title\":{\"text\":\"Number of Subjects\"}},\"legend\":{\"tracegroupgap\":0},\"title\":{\"text\":\"<b>Margin<b>\",\"font\":{\"size\":24},\"x\":0.5},\"barmode\":\"relative\",\"height\":600,\"width\":1200},                        {\"responsive\": true}                    ).then(function(){\n",
              "                            \n",
              "var gd = document.getElementById('218a0047-4df3-4902-ad3a-dc4986a1d076');\n",
              "var x = new MutationObserver(function (mutations, observer) {{\n",
              "        var display = window.getComputedStyle(gd).display;\n",
              "        if (!display || display === 'none') {{\n",
              "            console.log([gd, 'removed!']);\n",
              "            Plotly.purge(gd);\n",
              "            observer.disconnect();\n",
              "        }}\n",
              "}});\n",
              "\n",
              "// Listen for the removal of the full notebook cells\n",
              "var notebookContainer = gd.closest('#notebook-container');\n",
              "if (notebookContainer) {{\n",
              "    x.observe(notebookContainer, {childList: true});\n",
              "}}\n",
              "\n",
              "// Listen for the clearing of the current output cell\n",
              "var outputEl = gd.closest('.output');\n",
              "if (outputEl) {{\n",
              "    x.observe(outputEl, {childList: true});\n",
              "}}\n",
              "\n",
              "                        })                };                            </script>        </div>\n",
              "</body>\n",
              "</html>"
            ]
          },
          "metadata": {}
        }
      ]
    },
    {
      "cell_type": "markdown",
      "source": [
        "## 4.4 Density\n",
        "The following articles contain helpful information for density.  \n",
        "\n",
        "https://www.ncbi.nlm.nih.gov/books/NBK343794/table/ch1.t1/\n",
        "\n",
        "\n",
        "Density is ordinal data.  The original study and dataset were published in 2007 and therefore, assumed to use the  BI-RADS 2003 density classification system. It contains four categories. Each category represents a quartile percentage of breast mass density with 1 representing less than 25% dense fibrous tissue, and 4 representing greater than 75% dense fibrous tissue. Null values will be imputed to the mean and standardized."
      ],
      "metadata": {
        "id": "snIQpYLOylwM"
      }
    },
    {
      "cell_type": "code",
      "source": [
        "# Value counts for each 'Density' category\n",
        "masses_df['Density'].value_counts(ascending=True)"
      ],
      "metadata": {
        "colab": {
          "base_uri": "https://localhost:8080/"
        },
        "id": "AOQVNqtqsaU-",
        "outputId": "c1371a07-e6e5-431c-a3a7-32e003e693ff"
      },
      "execution_count": null,
      "outputs": [
        {
          "output_type": "execute_result",
          "data": {
            "text/plain": [
              "4.0     12\n",
              "1.0     16\n",
              "2.0     59\n",
              "3.0    798\n",
              "Name: Density, dtype: int64"
            ]
          },
          "metadata": {},
          "execution_count": 14
        }
      ]
    },
    {
      "cell_type": "code",
      "source": [
        "# Plot 'Density'\n",
        "fig = px.histogram(masses_df, # DataFrame\n",
        "                   x='Density', # x-axis\n",
        "                   width=1200, # Set figure width\n",
        "                   height=600, # Set figure height\n",
        "                   title='<b>Density<b>', #Change title and bold\n",
        "                   text_auto=True, # Turn on bar totals\n",
        "                #    marginal=\"box\", # or violin, rug, box\n",
        "                   )\n",
        "\n",
        "fig.update_layout(title_x=.5, # Centers the Title\n",
        "                  titlefont={'size': 24}, # title size\n",
        "                  yaxis_title ='Number of Subjects', # Changes the y-axis title\n",
        "                  )\n",
        "fig.show()\n",
        "\n",
        "# fig.write_image(\"Density.png\", engine=\"kaleido\")"
      ],
      "metadata": {
        "colab": {
          "base_uri": "https://localhost:8080/",
          "height": 617
        },
        "id": "wWRPKK_CxjjR",
        "outputId": "ab7677dd-b891-41c6-b78e-160de96bdbb2"
      },
      "execution_count": null,
      "outputs": [
        {
          "output_type": "display_data",
          "data": {
            "text/html": [
              "<html>\n",
              "<head><meta charset=\"utf-8\" /></head>\n",
              "<body>\n",
              "    <div>            <script src=\"https://cdnjs.cloudflare.com/ajax/libs/mathjax/2.7.5/MathJax.js?config=TeX-AMS-MML_SVG\"></script><script type=\"text/javascript\">if (window.MathJax) {MathJax.Hub.Config({SVG: {font: \"STIX-Web\"}});}</script>                <script type=\"text/javascript\">window.PlotlyConfig = {MathJaxConfig: 'local'};</script>\n",
              "        <script src=\"https://cdn.plot.ly/plotly-2.8.3.min.js\"></script>                <div id=\"b4e68de4-dd37-4e0c-b625-1aca591c6b80\" class=\"plotly-graph-div\" style=\"height:600px; width:1200px;\"></div>            <script type=\"text/javascript\">                                    window.PLOTLYENV=window.PLOTLYENV || {};                                    if (document.getElementById(\"b4e68de4-dd37-4e0c-b625-1aca591c6b80\")) {                    Plotly.newPlot(                        \"b4e68de4-dd37-4e0c-b625-1aca591c6b80\",                        [{\"alignmentgroup\":\"True\",\"bingroup\":\"x\",\"hovertemplate\":\"Density=%{x}<br>count=%{y}<extra></extra>\",\"legendgroup\":\"\",\"marker\":{\"color\":\"#636efa\",\"pattern\":{\"shape\":\"\"}},\"name\":\"\",\"offsetgroup\":\"\",\"orientation\":\"v\",\"showlegend\":false,\"texttemplate\":\"%{value}\",\"x\":[3.0,null,3.0,3.0,null,3.0,3.0,3.0,3.0,1.0,3.0,3.0,3.0,2.0,2.0,3.0,3.0,3.0,3.0,null,1.0,1.0,null,3.0,3.0,3.0,null,3.0,3.0,3.0,2.0,3.0,3.0,2.0,3.0,null,3.0,2.0,null,2.0,null,1.0,3.0,null,2.0,null,3.0,null,4.0,3.0,2.0,3.0,null,null,3.0,null,1.0,null,null,null,3.0,3.0,3.0,null,3.0,null,3.0,null,3.0,3.0,2.0,3.0,3.0,3.0,null,3.0,2.0,3.0,2.0,1.0,3.0,2.0,3.0,1.0,null,null,3.0,null,null,3.0,3.0,3.0,null,3.0,3.0,3.0,null,null,3.0,3.0,null,null,null,null,null,null,null,null,3.0,null,3.0,3.0,2.0,null,null,3.0,null,2.0,3.0,3.0,3.0,null,2.0,3.0,3.0,2.0,null,null,null,3.0,3.0,3.0,3.0,null,3.0,3.0,3.0,3.0,3.0,3.0,3.0,3.0,null,2.0,null,3.0,3.0,3.0,3.0,3.0,4.0,4.0,3.0,2.0,3.0,3.0,null,3.0,null,3.0,3.0,3.0,3.0,3.0,3.0,3.0,3.0,3.0,3.0,3.0,3.0,null,3.0,3.0,3.0,3.0,null,2.0,3.0,3.0,3.0,4.0,3.0,2.0,null,3.0,3.0,3.0,3.0,3.0,3.0,3.0,3.0,3.0,3.0,3.0,3.0,3.0,2.0,3.0,3.0,3.0,3.0,3.0,3.0,3.0,3.0,3.0,3.0,null,1.0,3.0,null,3.0,3.0,3.0,3.0,3.0,null,3.0,3.0,3.0,3.0,3.0,3.0,3.0,3.0,1.0,3.0,3.0,3.0,3.0,3.0,3.0,3.0,3.0,1.0,3.0,3.0,2.0,3.0,3.0,3.0,3.0,3.0,3.0,3.0,3.0,3.0,3.0,3.0,2.0,3.0,3.0,3.0,2.0,3.0,3.0,1.0,3.0,3.0,3.0,null,3.0,3.0,3.0,3.0,3.0,3.0,3.0,3.0,3.0,3.0,2.0,3.0,3.0,3.0,null,3.0,3.0,3.0,3.0,2.0,3.0,3.0,null,3.0,3.0,4.0,4.0,3.0,2.0,3.0,3.0,3.0,3.0,3.0,3.0,3.0,3.0,3.0,3.0,2.0,3.0,3.0,null,2.0,3.0,3.0,3.0,3.0,3.0,3.0,3.0,3.0,3.0,3.0,3.0,3.0,3.0,3.0,3.0,3.0,2.0,2.0,3.0,2.0,2.0,3.0,3.0,3.0,3.0,3.0,3.0,3.0,3.0,3.0,3.0,3.0,null,3.0,3.0,3.0,3.0,3.0,3.0,3.0,3.0,3.0,3.0,3.0,null,3.0,3.0,3.0,3.0,3.0,3.0,3.0,3.0,3.0,3.0,3.0,3.0,4.0,3.0,3.0,3.0,3.0,3.0,3.0,null,null,3.0,3.0,null,3.0,3.0,3.0,3.0,3.0,3.0,3.0,3.0,3.0,3.0,3.0,3.0,3.0,3.0,3.0,3.0,3.0,3.0,4.0,3.0,3.0,3.0,3.0,3.0,3.0,3.0,3.0,3.0,3.0,3.0,3.0,3.0,3.0,3.0,3.0,3.0,3.0,3.0,3.0,3.0,3.0,3.0,3.0,3.0,3.0,null,3.0,3.0,3.0,3.0,3.0,3.0,3.0,3.0,3.0,3.0,3.0,3.0,3.0,3.0,3.0,3.0,3.0,3.0,3.0,3.0,3.0,3.0,3.0,3.0,3.0,3.0,3.0,3.0,3.0,3.0,3.0,3.0,3.0,3.0,3.0,3.0,3.0,3.0,null,3.0,3.0,3.0,null,3.0,3.0,3.0,3.0,3.0,3.0,3.0,3.0,3.0,3.0,3.0,3.0,3.0,2.0,3.0,3.0,3.0,3.0,3.0,3.0,3.0,3.0,3.0,3.0,3.0,3.0,3.0,3.0,3.0,null,3.0,3.0,3.0,3.0,3.0,3.0,null,3.0,3.0,3.0,3.0,3.0,3.0,3.0,3.0,3.0,3.0,3.0,3.0,3.0,3.0,3.0,3.0,3.0,3.0,3.0,3.0,3.0,3.0,3.0,3.0,3.0,3.0,3.0,3.0,3.0,3.0,3.0,3.0,3.0,3.0,3.0,3.0,3.0,3.0,3.0,3.0,3.0,3.0,3.0,3.0,3.0,3.0,3.0,3.0,3.0,3.0,3.0,3.0,3.0,3.0,3.0,3.0,3.0,3.0,3.0,3.0,3.0,3.0,3.0,3.0,3.0,3.0,3.0,null,3.0,3.0,3.0,3.0,null,3.0,3.0,3.0,3.0,3.0,3.0,2.0,3.0,3.0,3.0,3.0,3.0,3.0,3.0,3.0,3.0,3.0,3.0,3.0,3.0,4.0,3.0,3.0,3.0,3.0,3.0,3.0,3.0,3.0,3.0,3.0,3.0,3.0,3.0,3.0,3.0,3.0,3.0,3.0,null,3.0,3.0,3.0,3.0,3.0,3.0,3.0,3.0,3.0,3.0,3.0,3.0,null,1.0,3.0,3.0,3.0,3.0,3.0,3.0,3.0,3.0,3.0,3.0,3.0,3.0,3.0,3.0,3.0,3.0,3.0,3.0,3.0,3.0,3.0,3.0,3.0,3.0,3.0,3.0,3.0,3.0,3.0,3.0,3.0,3.0,3.0,3.0,3.0,3.0,null,3.0,3.0,3.0,3.0,3.0,3.0,3.0,3.0,3.0,3.0,3.0,null,3.0,3.0,3.0,3.0,3.0,3.0,3.0,1.0,3.0,3.0,3.0,3.0,3.0,3.0,3.0,3.0,3.0,3.0,3.0,3.0,2.0,3.0,3.0,3.0,3.0,3.0,3.0,3.0,3.0,3.0,3.0,3.0,3.0,3.0,3.0,3.0,3.0,2.0,2.0,3.0,3.0,3.0,3.0,3.0,3.0,4.0,3.0,2.0,3.0,3.0,3.0,3.0,3.0,3.0,3.0,3.0,3.0,3.0,3.0,3.0,3.0,3.0,3.0,3.0,3.0,3.0,3.0,3.0,3.0,3.0,3.0,3.0,3.0,3.0,null,2.0,3.0,3.0,3.0,3.0,3.0,3.0,3.0,3.0,3.0,3.0,2.0,3.0,3.0,3.0,3.0,3.0,3.0,2.0,3.0,3.0,3.0,3.0,3.0,3.0,3.0,3.0,3.0,3.0,3.0,3.0,3.0,3.0,2.0,3.0,3.0,3.0,3.0,3.0,2.0,2.0,3.0,3.0,2.0,3.0,3.0,3.0,3.0,2.0,3.0,3.0,3.0,2.0,2.0,3.0,3.0,3.0,3.0,3.0,3.0,3.0,4.0,3.0,3.0,3.0,2.0,2.0,3.0,3.0,3.0,1.0,4.0,3.0,3.0,3.0,3.0,2.0,3.0,3.0,3.0,3.0,3.0,3.0,3.0,2.0,3.0,3.0,3.0,3.0,3.0,2.0,3.0,2.0,3.0,3.0,3.0,3.0,2.0,3.0,3.0,3.0,3.0,3.0,3.0,3.0,3.0,3.0,3.0,3.0,3.0,2.0,3.0,3.0,3.0,3.0,3.0,3.0,3.0,3.0,3.0,3.0,3.0,3.0,3.0,3.0,3.0,3.0,3.0,3.0,3.0,3.0,3.0,3.0,3.0,3.0,3.0,2.0,3.0,1.0,3.0,3.0,3.0,3.0,3.0,3.0,3.0,3.0,3.0,3.0,3.0,3.0,3.0,3.0,3.0,3.0,3.0,3.0,3.0,3.0,3.0,3.0,3.0,3.0,3.0,3.0,3.0,3.0,3.0,3.0,3.0,3.0,3.0,3.0,3.0,3.0,3.0,3.0,3.0,3.0,2.0,3.0,3.0,3.0,3.0,3.0,3.0,3.0,3.0,3.0,3.0,1.0,3.0,3.0,3.0,3.0,3.0,3.0,3.0,3.0,3.0,3.0,3.0,3.0,3.0,3.0,3.0,3.0,3.0],\"xaxis\":\"x\",\"yaxis\":\"y\",\"type\":\"histogram\"}],                        {\"template\":{\"data\":{\"bar\":[{\"error_x\":{\"color\":\"#2a3f5f\"},\"error_y\":{\"color\":\"#2a3f5f\"},\"marker\":{\"line\":{\"color\":\"#E5ECF6\",\"width\":0.5},\"pattern\":{\"fillmode\":\"overlay\",\"size\":10,\"solidity\":0.2}},\"type\":\"bar\"}],\"barpolar\":[{\"marker\":{\"line\":{\"color\":\"#E5ECF6\",\"width\":0.5},\"pattern\":{\"fillmode\":\"overlay\",\"size\":10,\"solidity\":0.2}},\"type\":\"barpolar\"}],\"carpet\":[{\"aaxis\":{\"endlinecolor\":\"#2a3f5f\",\"gridcolor\":\"white\",\"linecolor\":\"white\",\"minorgridcolor\":\"white\",\"startlinecolor\":\"#2a3f5f\"},\"baxis\":{\"endlinecolor\":\"#2a3f5f\",\"gridcolor\":\"white\",\"linecolor\":\"white\",\"minorgridcolor\":\"white\",\"startlinecolor\":\"#2a3f5f\"},\"type\":\"carpet\"}],\"choropleth\":[{\"colorbar\":{\"outlinewidth\":0,\"ticks\":\"\"},\"type\":\"choropleth\"}],\"contour\":[{\"colorbar\":{\"outlinewidth\":0,\"ticks\":\"\"},\"colorscale\":[[0.0,\"#0d0887\"],[0.1111111111111111,\"#46039f\"],[0.2222222222222222,\"#7201a8\"],[0.3333333333333333,\"#9c179e\"],[0.4444444444444444,\"#bd3786\"],[0.5555555555555556,\"#d8576b\"],[0.6666666666666666,\"#ed7953\"],[0.7777777777777778,\"#fb9f3a\"],[0.8888888888888888,\"#fdca26\"],[1.0,\"#f0f921\"]],\"type\":\"contour\"}],\"contourcarpet\":[{\"colorbar\":{\"outlinewidth\":0,\"ticks\":\"\"},\"type\":\"contourcarpet\"}],\"heatmap\":[{\"colorbar\":{\"outlinewidth\":0,\"ticks\":\"\"},\"colorscale\":[[0.0,\"#0d0887\"],[0.1111111111111111,\"#46039f\"],[0.2222222222222222,\"#7201a8\"],[0.3333333333333333,\"#9c179e\"],[0.4444444444444444,\"#bd3786\"],[0.5555555555555556,\"#d8576b\"],[0.6666666666666666,\"#ed7953\"],[0.7777777777777778,\"#fb9f3a\"],[0.8888888888888888,\"#fdca26\"],[1.0,\"#f0f921\"]],\"type\":\"heatmap\"}],\"heatmapgl\":[{\"colorbar\":{\"outlinewidth\":0,\"ticks\":\"\"},\"colorscale\":[[0.0,\"#0d0887\"],[0.1111111111111111,\"#46039f\"],[0.2222222222222222,\"#7201a8\"],[0.3333333333333333,\"#9c179e\"],[0.4444444444444444,\"#bd3786\"],[0.5555555555555556,\"#d8576b\"],[0.6666666666666666,\"#ed7953\"],[0.7777777777777778,\"#fb9f3a\"],[0.8888888888888888,\"#fdca26\"],[1.0,\"#f0f921\"]],\"type\":\"heatmapgl\"}],\"histogram\":[{\"marker\":{\"pattern\":{\"fillmode\":\"overlay\",\"size\":10,\"solidity\":0.2}},\"type\":\"histogram\"}],\"histogram2d\":[{\"colorbar\":{\"outlinewidth\":0,\"ticks\":\"\"},\"colorscale\":[[0.0,\"#0d0887\"],[0.1111111111111111,\"#46039f\"],[0.2222222222222222,\"#7201a8\"],[0.3333333333333333,\"#9c179e\"],[0.4444444444444444,\"#bd3786\"],[0.5555555555555556,\"#d8576b\"],[0.6666666666666666,\"#ed7953\"],[0.7777777777777778,\"#fb9f3a\"],[0.8888888888888888,\"#fdca26\"],[1.0,\"#f0f921\"]],\"type\":\"histogram2d\"}],\"histogram2dcontour\":[{\"colorbar\":{\"outlinewidth\":0,\"ticks\":\"\"},\"colorscale\":[[0.0,\"#0d0887\"],[0.1111111111111111,\"#46039f\"],[0.2222222222222222,\"#7201a8\"],[0.3333333333333333,\"#9c179e\"],[0.4444444444444444,\"#bd3786\"],[0.5555555555555556,\"#d8576b\"],[0.6666666666666666,\"#ed7953\"],[0.7777777777777778,\"#fb9f3a\"],[0.8888888888888888,\"#fdca26\"],[1.0,\"#f0f921\"]],\"type\":\"histogram2dcontour\"}],\"mesh3d\":[{\"colorbar\":{\"outlinewidth\":0,\"ticks\":\"\"},\"type\":\"mesh3d\"}],\"parcoords\":[{\"line\":{\"colorbar\":{\"outlinewidth\":0,\"ticks\":\"\"}},\"type\":\"parcoords\"}],\"pie\":[{\"automargin\":true,\"type\":\"pie\"}],\"scatter\":[{\"marker\":{\"colorbar\":{\"outlinewidth\":0,\"ticks\":\"\"}},\"type\":\"scatter\"}],\"scatter3d\":[{\"line\":{\"colorbar\":{\"outlinewidth\":0,\"ticks\":\"\"}},\"marker\":{\"colorbar\":{\"outlinewidth\":0,\"ticks\":\"\"}},\"type\":\"scatter3d\"}],\"scattercarpet\":[{\"marker\":{\"colorbar\":{\"outlinewidth\":0,\"ticks\":\"\"}},\"type\":\"scattercarpet\"}],\"scattergeo\":[{\"marker\":{\"colorbar\":{\"outlinewidth\":0,\"ticks\":\"\"}},\"type\":\"scattergeo\"}],\"scattergl\":[{\"marker\":{\"colorbar\":{\"outlinewidth\":0,\"ticks\":\"\"}},\"type\":\"scattergl\"}],\"scattermapbox\":[{\"marker\":{\"colorbar\":{\"outlinewidth\":0,\"ticks\":\"\"}},\"type\":\"scattermapbox\"}],\"scatterpolar\":[{\"marker\":{\"colorbar\":{\"outlinewidth\":0,\"ticks\":\"\"}},\"type\":\"scatterpolar\"}],\"scatterpolargl\":[{\"marker\":{\"colorbar\":{\"outlinewidth\":0,\"ticks\":\"\"}},\"type\":\"scatterpolargl\"}],\"scatterternary\":[{\"marker\":{\"colorbar\":{\"outlinewidth\":0,\"ticks\":\"\"}},\"type\":\"scatterternary\"}],\"surface\":[{\"colorbar\":{\"outlinewidth\":0,\"ticks\":\"\"},\"colorscale\":[[0.0,\"#0d0887\"],[0.1111111111111111,\"#46039f\"],[0.2222222222222222,\"#7201a8\"],[0.3333333333333333,\"#9c179e\"],[0.4444444444444444,\"#bd3786\"],[0.5555555555555556,\"#d8576b\"],[0.6666666666666666,\"#ed7953\"],[0.7777777777777778,\"#fb9f3a\"],[0.8888888888888888,\"#fdca26\"],[1.0,\"#f0f921\"]],\"type\":\"surface\"}],\"table\":[{\"cells\":{\"fill\":{\"color\":\"#EBF0F8\"},\"line\":{\"color\":\"white\"}},\"header\":{\"fill\":{\"color\":\"#C8D4E3\"},\"line\":{\"color\":\"white\"}},\"type\":\"table\"}]},\"layout\":{\"annotationdefaults\":{\"arrowcolor\":\"#2a3f5f\",\"arrowhead\":0,\"arrowwidth\":1},\"autotypenumbers\":\"strict\",\"coloraxis\":{\"colorbar\":{\"outlinewidth\":0,\"ticks\":\"\"}},\"colorscale\":{\"diverging\":[[0,\"#8e0152\"],[0.1,\"#c51b7d\"],[0.2,\"#de77ae\"],[0.3,\"#f1b6da\"],[0.4,\"#fde0ef\"],[0.5,\"#f7f7f7\"],[0.6,\"#e6f5d0\"],[0.7,\"#b8e186\"],[0.8,\"#7fbc41\"],[0.9,\"#4d9221\"],[1,\"#276419\"]],\"sequential\":[[0.0,\"#0d0887\"],[0.1111111111111111,\"#46039f\"],[0.2222222222222222,\"#7201a8\"],[0.3333333333333333,\"#9c179e\"],[0.4444444444444444,\"#bd3786\"],[0.5555555555555556,\"#d8576b\"],[0.6666666666666666,\"#ed7953\"],[0.7777777777777778,\"#fb9f3a\"],[0.8888888888888888,\"#fdca26\"],[1.0,\"#f0f921\"]],\"sequentialminus\":[[0.0,\"#0d0887\"],[0.1111111111111111,\"#46039f\"],[0.2222222222222222,\"#7201a8\"],[0.3333333333333333,\"#9c179e\"],[0.4444444444444444,\"#bd3786\"],[0.5555555555555556,\"#d8576b\"],[0.6666666666666666,\"#ed7953\"],[0.7777777777777778,\"#fb9f3a\"],[0.8888888888888888,\"#fdca26\"],[1.0,\"#f0f921\"]]},\"colorway\":[\"#636efa\",\"#EF553B\",\"#00cc96\",\"#ab63fa\",\"#FFA15A\",\"#19d3f3\",\"#FF6692\",\"#B6E880\",\"#FF97FF\",\"#FECB52\"],\"font\":{\"color\":\"#2a3f5f\"},\"geo\":{\"bgcolor\":\"white\",\"lakecolor\":\"white\",\"landcolor\":\"#E5ECF6\",\"showlakes\":true,\"showland\":true,\"subunitcolor\":\"white\"},\"hoverlabel\":{\"align\":\"left\"},\"hovermode\":\"closest\",\"mapbox\":{\"style\":\"light\"},\"paper_bgcolor\":\"white\",\"plot_bgcolor\":\"#E5ECF6\",\"polar\":{\"angularaxis\":{\"gridcolor\":\"white\",\"linecolor\":\"white\",\"ticks\":\"\"},\"bgcolor\":\"#E5ECF6\",\"radialaxis\":{\"gridcolor\":\"white\",\"linecolor\":\"white\",\"ticks\":\"\"}},\"scene\":{\"xaxis\":{\"backgroundcolor\":\"#E5ECF6\",\"gridcolor\":\"white\",\"gridwidth\":2,\"linecolor\":\"white\",\"showbackground\":true,\"ticks\":\"\",\"zerolinecolor\":\"white\"},\"yaxis\":{\"backgroundcolor\":\"#E5ECF6\",\"gridcolor\":\"white\",\"gridwidth\":2,\"linecolor\":\"white\",\"showbackground\":true,\"ticks\":\"\",\"zerolinecolor\":\"white\"},\"zaxis\":{\"backgroundcolor\":\"#E5ECF6\",\"gridcolor\":\"white\",\"gridwidth\":2,\"linecolor\":\"white\",\"showbackground\":true,\"ticks\":\"\",\"zerolinecolor\":\"white\"}},\"shapedefaults\":{\"line\":{\"color\":\"#2a3f5f\"}},\"ternary\":{\"aaxis\":{\"gridcolor\":\"white\",\"linecolor\":\"white\",\"ticks\":\"\"},\"baxis\":{\"gridcolor\":\"white\",\"linecolor\":\"white\",\"ticks\":\"\"},\"bgcolor\":\"#E5ECF6\",\"caxis\":{\"gridcolor\":\"white\",\"linecolor\":\"white\",\"ticks\":\"\"}},\"title\":{\"x\":0.05},\"xaxis\":{\"automargin\":true,\"gridcolor\":\"white\",\"linecolor\":\"white\",\"ticks\":\"\",\"title\":{\"standoff\":15},\"zerolinecolor\":\"white\",\"zerolinewidth\":2},\"yaxis\":{\"automargin\":true,\"gridcolor\":\"white\",\"linecolor\":\"white\",\"ticks\":\"\",\"title\":{\"standoff\":15},\"zerolinecolor\":\"white\",\"zerolinewidth\":2}}},\"xaxis\":{\"anchor\":\"y\",\"domain\":[0.0,1.0],\"title\":{\"text\":\"Density\"}},\"yaxis\":{\"anchor\":\"x\",\"domain\":[0.0,1.0],\"title\":{\"text\":\"Number of Subjects\"}},\"legend\":{\"tracegroupgap\":0},\"title\":{\"text\":\"<b>Density<b>\",\"font\":{\"size\":24},\"x\":0.5},\"barmode\":\"relative\",\"height\":600,\"width\":1200},                        {\"responsive\": true}                    ).then(function(){\n",
              "                            \n",
              "var gd = document.getElementById('b4e68de4-dd37-4e0c-b625-1aca591c6b80');\n",
              "var x = new MutationObserver(function (mutations, observer) {{\n",
              "        var display = window.getComputedStyle(gd).display;\n",
              "        if (!display || display === 'none') {{\n",
              "            console.log([gd, 'removed!']);\n",
              "            Plotly.purge(gd);\n",
              "            observer.disconnect();\n",
              "        }}\n",
              "}});\n",
              "\n",
              "// Listen for the removal of the full notebook cells\n",
              "var notebookContainer = gd.closest('#notebook-container');\n",
              "if (notebookContainer) {{\n",
              "    x.observe(notebookContainer, {childList: true});\n",
              "}}\n",
              "\n",
              "// Listen for the clearing of the current output cell\n",
              "var outputEl = gd.closest('.output');\n",
              "if (outputEl) {{\n",
              "    x.observe(outputEl, {childList: true});\n",
              "}}\n",
              "\n",
              "                        })                };                            </script>        </div>\n",
              "</body>\n",
              "</html>"
            ]
          },
          "metadata": {}
        }
      ]
    },
    {
      "cell_type": "markdown",
      "source": [
        "## 4.5 Severity\n",
        "\n",
        "This is the target variable.  One means a malignant tumor."
      ],
      "metadata": {
        "id": "-6pzNxpp-16I"
      }
    },
    {
      "cell_type": "code",
      "source": [
        "# Value counts for each 'Severity' category\n",
        "masses_df['Severity'].value_counts(ascending=True)"
      ],
      "metadata": {
        "colab": {
          "base_uri": "https://localhost:8080/"
        },
        "id": "-1o7eqHNwP8a",
        "outputId": "17f8b256-a111-419c-bc45-72f16057c92b"
      },
      "execution_count": null,
      "outputs": [
        {
          "output_type": "execute_result",
          "data": {
            "text/plain": [
              "1    445\n",
              "0    516\n",
              "Name: Severity, dtype: int64"
            ]
          },
          "metadata": {},
          "execution_count": 16
        }
      ]
    },
    {
      "cell_type": "markdown",
      "source": [
        "#5.0 Data Preparation\n",
        "--- ---\n",
        "Separate the target variable, one-hot encode, and then split into train and test sets."
      ],
      "metadata": {
        "id": "t90Qt1CQ_U3U"
      }
    },
    {
      "cell_type": "code",
      "source": [
        "# Identify the target variable\n",
        "y = masses_df['Severity']\n",
        "\n",
        "# Identify the features of interest\n",
        "X = masses_df.drop(['BI-RADS Assessment', 'Severity'], axis=1)\n",
        "\n",
        "# One_hot encode categorical data\n",
        "one_hot = pd.get_dummies(data=X, columns = ['Shape','Margin'])\n",
        "X = one_hot\n",
        "\n",
        "# Split the data into training and test sets\n",
        "X_train, X_test, y_train, y_test = train_test_split(X, y, test_size=.25,\n",
        "                                                    random_state=42, stratify=y)\n",
        "\n",
        "# Head X_train to verify results\n",
        "X_train.head()"
      ],
      "metadata": {
        "colab": {
          "base_uri": "https://localhost:8080/",
          "height": 206
        },
        "id": "-R0XOk9U_rAL",
        "outputId": "fe040d78-da4f-4173-eca8-456ea351adf9"
      },
      "execution_count": null,
      "outputs": [
        {
          "output_type": "execute_result",
          "data": {
            "text/plain": [
              "      Age  Density  Shape_1.0  Shape_2.0  Shape_3.0  Shape_4.0  Margin_1.0  \\\n",
              "949  53.0      3.0          0          1          0          0           1   \n",
              "390  74.0      3.0          0          0          0          1           0   \n",
              "750  64.0      3.0          1          0          0          0           1   \n",
              "882  30.0      3.0          1          0          0          0           1   \n",
              "250  32.0      3.0          1          0          0          0           1   \n",
              "\n",
              "     Margin_2.0  Margin_3.0  Margin_4.0  Margin_5.0  \n",
              "949           0           0           0           0  \n",
              "390           0           0           1           0  \n",
              "750           0           0           0           0  \n",
              "882           0           0           0           0  \n",
              "250           0           0           0           0  "
            ],
            "text/html": [
              "\n",
              "  <div id=\"df-c7c416d5-e300-49ff-8919-ac1b3e7e3bc4\">\n",
              "    <div class=\"colab-df-container\">\n",
              "      <div>\n",
              "<style scoped>\n",
              "    .dataframe tbody tr th:only-of-type {\n",
              "        vertical-align: middle;\n",
              "    }\n",
              "\n",
              "    .dataframe tbody tr th {\n",
              "        vertical-align: top;\n",
              "    }\n",
              "\n",
              "    .dataframe thead th {\n",
              "        text-align: right;\n",
              "    }\n",
              "</style>\n",
              "<table border=\"1\" class=\"dataframe\">\n",
              "  <thead>\n",
              "    <tr style=\"text-align: right;\">\n",
              "      <th></th>\n",
              "      <th>Age</th>\n",
              "      <th>Density</th>\n",
              "      <th>Shape_1.0</th>\n",
              "      <th>Shape_2.0</th>\n",
              "      <th>Shape_3.0</th>\n",
              "      <th>Shape_4.0</th>\n",
              "      <th>Margin_1.0</th>\n",
              "      <th>Margin_2.0</th>\n",
              "      <th>Margin_3.0</th>\n",
              "      <th>Margin_4.0</th>\n",
              "      <th>Margin_5.0</th>\n",
              "    </tr>\n",
              "  </thead>\n",
              "  <tbody>\n",
              "    <tr>\n",
              "      <th>949</th>\n",
              "      <td>53.0</td>\n",
              "      <td>3.0</td>\n",
              "      <td>0</td>\n",
              "      <td>1</td>\n",
              "      <td>0</td>\n",
              "      <td>0</td>\n",
              "      <td>1</td>\n",
              "      <td>0</td>\n",
              "      <td>0</td>\n",
              "      <td>0</td>\n",
              "      <td>0</td>\n",
              "    </tr>\n",
              "    <tr>\n",
              "      <th>390</th>\n",
              "      <td>74.0</td>\n",
              "      <td>3.0</td>\n",
              "      <td>0</td>\n",
              "      <td>0</td>\n",
              "      <td>0</td>\n",
              "      <td>1</td>\n",
              "      <td>0</td>\n",
              "      <td>0</td>\n",
              "      <td>0</td>\n",
              "      <td>1</td>\n",
              "      <td>0</td>\n",
              "    </tr>\n",
              "    <tr>\n",
              "      <th>750</th>\n",
              "      <td>64.0</td>\n",
              "      <td>3.0</td>\n",
              "      <td>1</td>\n",
              "      <td>0</td>\n",
              "      <td>0</td>\n",
              "      <td>0</td>\n",
              "      <td>1</td>\n",
              "      <td>0</td>\n",
              "      <td>0</td>\n",
              "      <td>0</td>\n",
              "      <td>0</td>\n",
              "    </tr>\n",
              "    <tr>\n",
              "      <th>882</th>\n",
              "      <td>30.0</td>\n",
              "      <td>3.0</td>\n",
              "      <td>1</td>\n",
              "      <td>0</td>\n",
              "      <td>0</td>\n",
              "      <td>0</td>\n",
              "      <td>1</td>\n",
              "      <td>0</td>\n",
              "      <td>0</td>\n",
              "      <td>0</td>\n",
              "      <td>0</td>\n",
              "    </tr>\n",
              "    <tr>\n",
              "      <th>250</th>\n",
              "      <td>32.0</td>\n",
              "      <td>3.0</td>\n",
              "      <td>1</td>\n",
              "      <td>0</td>\n",
              "      <td>0</td>\n",
              "      <td>0</td>\n",
              "      <td>1</td>\n",
              "      <td>0</td>\n",
              "      <td>0</td>\n",
              "      <td>0</td>\n",
              "      <td>0</td>\n",
              "    </tr>\n",
              "  </tbody>\n",
              "</table>\n",
              "</div>\n",
              "      <button class=\"colab-df-convert\" onclick=\"convertToInteractive('df-c7c416d5-e300-49ff-8919-ac1b3e7e3bc4')\"\n",
              "              title=\"Convert this dataframe to an interactive table.\"\n",
              "              style=\"display:none;\">\n",
              "        \n",
              "  <svg xmlns=\"http://www.w3.org/2000/svg\" height=\"24px\"viewBox=\"0 0 24 24\"\n",
              "       width=\"24px\">\n",
              "    <path d=\"M0 0h24v24H0V0z\" fill=\"none\"/>\n",
              "    <path d=\"M18.56 5.44l.94 2.06.94-2.06 2.06-.94-2.06-.94-.94-2.06-.94 2.06-2.06.94zm-11 1L8.5 8.5l.94-2.06 2.06-.94-2.06-.94L8.5 2.5l-.94 2.06-2.06.94zm10 10l.94 2.06.94-2.06 2.06-.94-2.06-.94-.94-2.06-.94 2.06-2.06.94z\"/><path d=\"M17.41 7.96l-1.37-1.37c-.4-.4-.92-.59-1.43-.59-.52 0-1.04.2-1.43.59L10.3 9.45l-7.72 7.72c-.78.78-.78 2.05 0 2.83L4 21.41c.39.39.9.59 1.41.59.51 0 1.02-.2 1.41-.59l7.78-7.78 2.81-2.81c.8-.78.8-2.07 0-2.86zM5.41 20L4 18.59l7.72-7.72 1.47 1.35L5.41 20z\"/>\n",
              "  </svg>\n",
              "      </button>\n",
              "      \n",
              "  <style>\n",
              "    .colab-df-container {\n",
              "      display:flex;\n",
              "      flex-wrap:wrap;\n",
              "      gap: 12px;\n",
              "    }\n",
              "\n",
              "    .colab-df-convert {\n",
              "      background-color: #E8F0FE;\n",
              "      border: none;\n",
              "      border-radius: 50%;\n",
              "      cursor: pointer;\n",
              "      display: none;\n",
              "      fill: #1967D2;\n",
              "      height: 32px;\n",
              "      padding: 0 0 0 0;\n",
              "      width: 32px;\n",
              "    }\n",
              "\n",
              "    .colab-df-convert:hover {\n",
              "      background-color: #E2EBFA;\n",
              "      box-shadow: 0px 1px 2px rgba(60, 64, 67, 0.3), 0px 1px 3px 1px rgba(60, 64, 67, 0.15);\n",
              "      fill: #174EA6;\n",
              "    }\n",
              "\n",
              "    [theme=dark] .colab-df-convert {\n",
              "      background-color: #3B4455;\n",
              "      fill: #D2E3FC;\n",
              "    }\n",
              "\n",
              "    [theme=dark] .colab-df-convert:hover {\n",
              "      background-color: #434B5C;\n",
              "      box-shadow: 0px 1px 3px 1px rgba(0, 0, 0, 0.15);\n",
              "      filter: drop-shadow(0px 1px 2px rgba(0, 0, 0, 0.3));\n",
              "      fill: #FFFFFF;\n",
              "    }\n",
              "  </style>\n",
              "\n",
              "      <script>\n",
              "        const buttonEl =\n",
              "          document.querySelector('#df-c7c416d5-e300-49ff-8919-ac1b3e7e3bc4 button.colab-df-convert');\n",
              "        buttonEl.style.display =\n",
              "          google.colab.kernel.accessAllowed ? 'block' : 'none';\n",
              "\n",
              "        async function convertToInteractive(key) {\n",
              "          const element = document.querySelector('#df-c7c416d5-e300-49ff-8919-ac1b3e7e3bc4');\n",
              "          const dataTable =\n",
              "            await google.colab.kernel.invokeFunction('convertToInteractive',\n",
              "                                                     [key], {});\n",
              "          if (!dataTable) return;\n",
              "\n",
              "          const docLinkHtml = 'Like what you see? Visit the ' +\n",
              "            '<a target=\"_blank\" href=https://colab.research.google.com/notebooks/data_table.ipynb>data table notebook</a>'\n",
              "            + ' to learn more about interactive tables.';\n",
              "          element.innerHTML = '';\n",
              "          dataTable['output_type'] = 'display_data';\n",
              "          await google.colab.output.renderOutput(dataTable, element);\n",
              "          const docLink = document.createElement('div');\n",
              "          docLink.innerHTML = docLinkHtml;\n",
              "          element.appendChild(docLink);\n",
              "        }\n",
              "      </script>\n",
              "    </div>\n",
              "  </div>\n",
              "  "
            ]
          },
          "metadata": {},
          "execution_count": 18
        }
      ]
    },
    {
      "cell_type": "markdown",
      "source": [
        "# 6.0 Logistic Regression Model\n",
        "--- ---"
      ],
      "metadata": {
        "id": "IhQRvwZ2x0i8"
      }
    },
    {
      "cell_type": "code",
      "source": [
        "# Create a Logistic Regression Model pipeline\n",
        "pipe_log_reg = Pipeline([('imp_mean', SimpleImputer(missing_values=np.nan,\n",
        "                                                    strategy='mean')), # Impute missing data to the mean\n",
        "                         ('scaler', StandardScaler()), # Standardize the data\n",
        "                         ('logreg', LogisticRegression(random_state=0,\n",
        "                                                       penalty='l2',\n",
        "                                                       solver='liblinear'))]) # Logistic Regression model\n",
        "\n",
        "# Create a list of C values for hyperparamter tuning\n",
        "C = [0.001, 0.01, 0.1, 0.2, 0.3, 0.5, 1, 2, 3, 4, 5] \n",
        "\n",
        "# Create a parameter space for grid search\n",
        "parameters = {'logreg__C' : C}\n",
        "\n",
        "# Create grid search object\n",
        "gs_logreg = GridSearchCV(pipe_log_reg, parameters, cv=10)\n",
        "\n",
        "# Fit the grid search\n",
        "gs_logreg.fit(X_train, y_train)\n",
        "\n",
        "# View the best parameters\n",
        "print('Best C:', gs_logreg.best_estimator_.get_params()['logreg__C'])\n",
        "\n",
        "# Calculate the accuracy for the train data\n",
        "gs_logreg_train_accuracy = gs_logreg.score(X_train, y_train)\n",
        "\n",
        "# Calculate the test data accuracy\n",
        "log_reg_test_accuracy = gs_logreg.score(X_test, y_test)\n",
        "\n",
        "# Print the train data accuracy\n",
        "print('The Logistic Regression Model train accuracy (cv=10) is:',\n",
        "      (round(gs_logreg_train_accuracy*100,5)), '%')\n",
        "\n",
        "# Print the test data accuracy\n",
        "print('The Logistic Regression Model test accuracy is:',\n",
        "      (round(log_reg_test_accuracy*100,5)), '%')\n",
        "\n",
        "# Compute the predicted probabilities for the test data\n",
        "y_hat_logreg = gs_logreg.predict(X_test)\n",
        "\n",
        "# Create and plot a confusion matrix\n",
        "cm_logreg = confusion_matrix(y_test, y_hat_logreg)\n",
        "disp = ConfusionMatrixDisplay(confusion_matrix=cm_logreg,\n",
        "                              display_labels=['Benign', 'Malignant'])\n",
        "disp.plot()\n",
        "\n",
        "# Compute and print a classification report\n",
        "logreg_report = classification_report(y_test, y_hat_logreg, output_dict=True)\n",
        "logreg_metrics = pd.DataFrame(logreg_report).transpose()\n",
        "logreg_metrics\n"
      ],
      "metadata": {
        "colab": {
          "base_uri": "https://localhost:8080/",
          "height": 523
        },
        "id": "zhPzZDRsysJc",
        "outputId": "de2f1e5f-2211-4669-8d37-213b804337d3"
      },
      "execution_count": null,
      "outputs": [
        {
          "output_type": "stream",
          "name": "stdout",
          "text": [
            "Best C: 0.5\n",
            "The Logistic Regression Model train accuracy (cv=10) is: 81.25 %\n",
            "The Logistic Regression Model test accuracy is: 80.49793 %\n"
          ]
        },
        {
          "output_type": "execute_result",
          "data": {
            "text/plain": [
              "              precision    recall  f1-score     support\n",
              "0              0.879630  0.736434  0.801688  129.000000\n",
              "1              0.744361  0.883929  0.808163  112.000000\n",
              "accuracy       0.804979  0.804979  0.804979    0.804979\n",
              "macro avg      0.811995  0.810181  0.804926  241.000000\n",
              "weighted avg   0.816766  0.804979  0.804697  241.000000"
            ],
            "text/html": [
              "\n",
              "  <div id=\"df-dda3c05d-935b-4808-beec-8928e488b074\">\n",
              "    <div class=\"colab-df-container\">\n",
              "      <div>\n",
              "<style scoped>\n",
              "    .dataframe tbody tr th:only-of-type {\n",
              "        vertical-align: middle;\n",
              "    }\n",
              "\n",
              "    .dataframe tbody tr th {\n",
              "        vertical-align: top;\n",
              "    }\n",
              "\n",
              "    .dataframe thead th {\n",
              "        text-align: right;\n",
              "    }\n",
              "</style>\n",
              "<table border=\"1\" class=\"dataframe\">\n",
              "  <thead>\n",
              "    <tr style=\"text-align: right;\">\n",
              "      <th></th>\n",
              "      <th>precision</th>\n",
              "      <th>recall</th>\n",
              "      <th>f1-score</th>\n",
              "      <th>support</th>\n",
              "    </tr>\n",
              "  </thead>\n",
              "  <tbody>\n",
              "    <tr>\n",
              "      <th>0</th>\n",
              "      <td>0.879630</td>\n",
              "      <td>0.736434</td>\n",
              "      <td>0.801688</td>\n",
              "      <td>129.000000</td>\n",
              "    </tr>\n",
              "    <tr>\n",
              "      <th>1</th>\n",
              "      <td>0.744361</td>\n",
              "      <td>0.883929</td>\n",
              "      <td>0.808163</td>\n",
              "      <td>112.000000</td>\n",
              "    </tr>\n",
              "    <tr>\n",
              "      <th>accuracy</th>\n",
              "      <td>0.804979</td>\n",
              "      <td>0.804979</td>\n",
              "      <td>0.804979</td>\n",
              "      <td>0.804979</td>\n",
              "    </tr>\n",
              "    <tr>\n",
              "      <th>macro avg</th>\n",
              "      <td>0.811995</td>\n",
              "      <td>0.810181</td>\n",
              "      <td>0.804926</td>\n",
              "      <td>241.000000</td>\n",
              "    </tr>\n",
              "    <tr>\n",
              "      <th>weighted avg</th>\n",
              "      <td>0.816766</td>\n",
              "      <td>0.804979</td>\n",
              "      <td>0.804697</td>\n",
              "      <td>241.000000</td>\n",
              "    </tr>\n",
              "  </tbody>\n",
              "</table>\n",
              "</div>\n",
              "      <button class=\"colab-df-convert\" onclick=\"convertToInteractive('df-dda3c05d-935b-4808-beec-8928e488b074')\"\n",
              "              title=\"Convert this dataframe to an interactive table.\"\n",
              "              style=\"display:none;\">\n",
              "        \n",
              "  <svg xmlns=\"http://www.w3.org/2000/svg\" height=\"24px\"viewBox=\"0 0 24 24\"\n",
              "       width=\"24px\">\n",
              "    <path d=\"M0 0h24v24H0V0z\" fill=\"none\"/>\n",
              "    <path d=\"M18.56 5.44l.94 2.06.94-2.06 2.06-.94-2.06-.94-.94-2.06-.94 2.06-2.06.94zm-11 1L8.5 8.5l.94-2.06 2.06-.94-2.06-.94L8.5 2.5l-.94 2.06-2.06.94zm10 10l.94 2.06.94-2.06 2.06-.94-2.06-.94-.94-2.06-.94 2.06-2.06.94z\"/><path d=\"M17.41 7.96l-1.37-1.37c-.4-.4-.92-.59-1.43-.59-.52 0-1.04.2-1.43.59L10.3 9.45l-7.72 7.72c-.78.78-.78 2.05 0 2.83L4 21.41c.39.39.9.59 1.41.59.51 0 1.02-.2 1.41-.59l7.78-7.78 2.81-2.81c.8-.78.8-2.07 0-2.86zM5.41 20L4 18.59l7.72-7.72 1.47 1.35L5.41 20z\"/>\n",
              "  </svg>\n",
              "      </button>\n",
              "      \n",
              "  <style>\n",
              "    .colab-df-container {\n",
              "      display:flex;\n",
              "      flex-wrap:wrap;\n",
              "      gap: 12px;\n",
              "    }\n",
              "\n",
              "    .colab-df-convert {\n",
              "      background-color: #E8F0FE;\n",
              "      border: none;\n",
              "      border-radius: 50%;\n",
              "      cursor: pointer;\n",
              "      display: none;\n",
              "      fill: #1967D2;\n",
              "      height: 32px;\n",
              "      padding: 0 0 0 0;\n",
              "      width: 32px;\n",
              "    }\n",
              "\n",
              "    .colab-df-convert:hover {\n",
              "      background-color: #E2EBFA;\n",
              "      box-shadow: 0px 1px 2px rgba(60, 64, 67, 0.3), 0px 1px 3px 1px rgba(60, 64, 67, 0.15);\n",
              "      fill: #174EA6;\n",
              "    }\n",
              "\n",
              "    [theme=dark] .colab-df-convert {\n",
              "      background-color: #3B4455;\n",
              "      fill: #D2E3FC;\n",
              "    }\n",
              "\n",
              "    [theme=dark] .colab-df-convert:hover {\n",
              "      background-color: #434B5C;\n",
              "      box-shadow: 0px 1px 3px 1px rgba(0, 0, 0, 0.15);\n",
              "      filter: drop-shadow(0px 1px 2px rgba(0, 0, 0, 0.3));\n",
              "      fill: #FFFFFF;\n",
              "    }\n",
              "  </style>\n",
              "\n",
              "      <script>\n",
              "        const buttonEl =\n",
              "          document.querySelector('#df-dda3c05d-935b-4808-beec-8928e488b074 button.colab-df-convert');\n",
              "        buttonEl.style.display =\n",
              "          google.colab.kernel.accessAllowed ? 'block' : 'none';\n",
              "\n",
              "        async function convertToInteractive(key) {\n",
              "          const element = document.querySelector('#df-dda3c05d-935b-4808-beec-8928e488b074');\n",
              "          const dataTable =\n",
              "            await google.colab.kernel.invokeFunction('convertToInteractive',\n",
              "                                                     [key], {});\n",
              "          if (!dataTable) return;\n",
              "\n",
              "          const docLinkHtml = 'Like what you see? Visit the ' +\n",
              "            '<a target=\"_blank\" href=https://colab.research.google.com/notebooks/data_table.ipynb>data table notebook</a>'\n",
              "            + ' to learn more about interactive tables.';\n",
              "          element.innerHTML = '';\n",
              "          dataTable['output_type'] = 'display_data';\n",
              "          await google.colab.output.renderOutput(dataTable, element);\n",
              "          const docLink = document.createElement('div');\n",
              "          docLink.innerHTML = docLinkHtml;\n",
              "          element.appendChild(docLink);\n",
              "        }\n",
              "      </script>\n",
              "    </div>\n",
              "  </div>\n",
              "  "
            ]
          },
          "metadata": {},
          "execution_count": 19
        },
        {
          "output_type": "display_data",
          "data": {
            "text/plain": [
              "<Figure size 432x288 with 2 Axes>"
            ],
            "image/png": "[encoded data removed]"
          },
          "metadata": {
            "needs_background": "light"
          }
        }
      ]
    },
    {
      "cell_type": "code",
      "source": [
        "# Compute Recall and Precision Scores\n",
        "recall_logreg = recall_score(y_test, y_hat_logreg)\n",
        "precision_logreg = precision_score(y_test, y_hat_logreg)"
      ],
      "metadata": {
        "id": "R1cl8g4mAMgE"
      },
      "execution_count": null,
      "outputs": []
    },
    {
      "cell_type": "code",
      "source": [
        "# Create an ROC AUC Curve\n",
        "disp = RocCurveDisplay.from_estimator(gs_logreg, X_test, y_test, name='Logistic Regression')\n",
        "plt.plot([0, 1], [0, 1], linestyle='--');"
      ],
      "metadata": {
        "colab": {
          "base_uri": "https://localhost:8080/",
          "height": 279
        },
        "id": "JdbRxvQYfEyw",
        "outputId": "0b0ea582-360e-433f-8742-a713a7acb449"
      },
      "execution_count": null,
      "outputs": [
        {
          "output_type": "display_data",
          "data": {
            "text/plain": [
              "<Figure size 432x288 with 1 Axes>"
            ],
            "image/png": "[encoded data removed]"
          },
          "metadata": {
            "needs_background": "light"
          }
        }
      ]
    },
    {
      "cell_type": "markdown",
      "source": [
        "# 7.0 K-Nearest Neighbors Model\n",
        "--- ---"
      ],
      "metadata": {
        "id": "SwDbsz-xzuYh"
      }
    },
    {
      "cell_type": "code",
      "source": [
        "# Construct a K Nearest Neighbors pipeline to impute, scale, and classify\n",
        "pipe_knn = Pipeline([('imp_mean', SimpleImputer(missing_values=np.nan,\n",
        "                                                strategy='mean')), # Impute missing data to the mean\n",
        "                     ('scaler', StandardScaler()), # Standardize the data\n",
        "                     ('knn_model', KNeighborsClassifier())]) # Instantiate a KNN model\n",
        "\n",
        "# Create a list of number of neighbors\n",
        "n_features_to_select = list(range(1,30))\n",
        "\n",
        "# Create a parameter space for grid search\n",
        "parameters = {'knn_model__n_neighbors' : n_features_to_select}\n",
        "\n",
        "# Create grid search object\n",
        "gs_knn = GridSearchCV(pipe_knn, parameters, cv=10)\n",
        "\n",
        "# Fit the grid search\n",
        "gs_knn.fit(X_train, y_train)\n",
        "\n",
        "# View the best parameters\n",
        "print('Best Number of Neighbors:',\n",
        "      gs_knn.best_estimator_.get_params()['knn_model__n_neighbors'])\n",
        "\n",
        "# Calculate the accuracy for the train data\n",
        "knn_train_accuracy = gs_knn.score(X_train, y_train)\n",
        "\n",
        "# Calculate the accuracy for the test data\n",
        "knn_test_accuracy = gs_knn.score(X_test, y_test)\n",
        "\n",
        "# Print the train data accuracy\n",
        "print('The K Nearest Neighbors Model train accuracy (cv=10) is:',\n",
        "      (round(knn_train_accuracy*100,5)), '%')\n",
        "\n",
        "# Print the test data accuracy\n",
        "print('The K Nearest Neighbors Model test accuracy is:',\n",
        "      (round(knn_test_accuracy*100,5)), '%')\n",
        "\n",
        "# Compute the predicted probabilities for the test data\n",
        "y_hat_knn = gs_knn.predict(X_test)\n",
        "\n",
        "# Create and plot a confusion matrix\n",
        "cm_knn = confusion_matrix(y_test, y_hat_knn)\n",
        "disp = ConfusionMatrixDisplay(confusion_matrix=cm_knn,\n",
        "                              display_labels=['Benign', 'Malignant'])\n",
        "disp.plot()\n",
        "\n",
        "# Compute and print a classification report\n",
        "knn_report = classification_report(y_test, y_hat_knn, output_dict=True)\n",
        "knn_metrics = pd.DataFrame(knn_report).transpose()\n",
        "knn_metrics\n"
      ],
      "metadata": {
        "colab": {
          "base_uri": "https://localhost:8080/",
          "height": 523
        },
        "outputId": "771369a5-94f4-4d7c-a1dc-7dd62aff47a0",
        "id": "vDUXgk9pI1YW"
      },
      "execution_count": null,
      "outputs": [
        {
          "output_type": "stream",
          "name": "stdout",
          "text": [
            "Best Number of Neighbors: 13\n",
            "The K Nearest Neighbors Model train accuracy (cv=10) is: 80.55556 %\n",
            "The K Nearest Neighbors Model test accuracy is: 79.25311 %\n"
          ]
        },
        {
          "output_type": "execute_result",
          "data": {
            "text/plain": [
              "              precision    recall  f1-score     support\n",
              "0              0.876190  0.713178  0.786325  129.000000\n",
              "1              0.727941  0.883929  0.798387  112.000000\n",
              "accuracy       0.792531  0.792531  0.792531    0.792531\n",
              "macro avg      0.802066  0.798553  0.792356  241.000000\n",
              "weighted avg   0.807295  0.792531  0.791931  241.000000"
            ],
            "text/html": [
              "\n",
              "  <div id=\"df-8b7d3512-b6fe-4230-a171-7282ae72271f\">\n",
              "    <div class=\"colab-df-container\">\n",
              "      <div>\n",
              "<style scoped>\n",
              "    .dataframe tbody tr th:only-of-type {\n",
              "        vertical-align: middle;\n",
              "    }\n",
              "\n",
              "    .dataframe tbody tr th {\n",
              "        vertical-align: top;\n",
              "    }\n",
              "\n",
              "    .dataframe thead th {\n",
              "        text-align: right;\n",
              "    }\n",
              "</style>\n",
              "<table border=\"1\" class=\"dataframe\">\n",
              "  <thead>\n",
              "    <tr style=\"text-align: right;\">\n",
              "      <th></th>\n",
              "      <th>precision</th>\n",
              "      <th>recall</th>\n",
              "      <th>f1-score</th>\n",
              "      <th>support</th>\n",
              "    </tr>\n",
              "  </thead>\n",
              "  <tbody>\n",
              "    <tr>\n",
              "      <th>0</th>\n",
              "      <td>0.876190</td>\n",
              "      <td>0.713178</td>\n",
              "      <td>0.786325</td>\n",
              "      <td>129.000000</td>\n",
              "    </tr>\n",
              "    <tr>\n",
              "      <th>1</th>\n",
              "      <td>0.727941</td>\n",
              "      <td>0.883929</td>\n",
              "      <td>0.798387</td>\n",
              "      <td>112.000000</td>\n",
              "    </tr>\n",
              "    <tr>\n",
              "      <th>accuracy</th>\n",
              "      <td>0.792531</td>\n",
              "      <td>0.792531</td>\n",
              "      <td>0.792531</td>\n",
              "      <td>0.792531</td>\n",
              "    </tr>\n",
              "    <tr>\n",
              "      <th>macro avg</th>\n",
              "      <td>0.802066</td>\n",
              "      <td>0.798553</td>\n",
              "      <td>0.792356</td>\n",
              "      <td>241.000000</td>\n",
              "    </tr>\n",
              "    <tr>\n",
              "      <th>weighted avg</th>\n",
              "      <td>0.807295</td>\n",
              "      <td>0.792531</td>\n",
              "      <td>0.791931</td>\n",
              "      <td>241.000000</td>\n",
              "    </tr>\n",
              "  </tbody>\n",
              "</table>\n",
              "</div>\n",
              "      <button class=\"colab-df-convert\" onclick=\"convertToInteractive('df-8b7d3512-b6fe-4230-a171-7282ae72271f')\"\n",
              "              title=\"Convert this dataframe to an interactive table.\"\n",
              "              style=\"display:none;\">\n",
              "        \n",
              "  <svg xmlns=\"http://www.w3.org/2000/svg\" height=\"24px\"viewBox=\"0 0 24 24\"\n",
              "       width=\"24px\">\n",
              "    <path d=\"M0 0h24v24H0V0z\" fill=\"none\"/>\n",
              "    <path d=\"M18.56 5.44l.94 2.06.94-2.06 2.06-.94-2.06-.94-.94-2.06-.94 2.06-2.06.94zm-11 1L8.5 8.5l.94-2.06 2.06-.94-2.06-.94L8.5 2.5l-.94 2.06-2.06.94zm10 10l.94 2.06.94-2.06 2.06-.94-2.06-.94-.94-2.06-.94 2.06-2.06.94z\"/><path d=\"M17.41 7.96l-1.37-1.37c-.4-.4-.92-.59-1.43-.59-.52 0-1.04.2-1.43.59L10.3 9.45l-7.72 7.72c-.78.78-.78 2.05 0 2.83L4 21.41c.39.39.9.59 1.41.59.51 0 1.02-.2 1.41-.59l7.78-7.78 2.81-2.81c.8-.78.8-2.07 0-2.86zM5.41 20L4 18.59l7.72-7.72 1.47 1.35L5.41 20z\"/>\n",
              "  </svg>\n",
              "      </button>\n",
              "      \n",
              "  <style>\n",
              "    .colab-df-container {\n",
              "      display:flex;\n",
              "      flex-wrap:wrap;\n",
              "      gap: 12px;\n",
              "    }\n",
              "\n",
              "    .colab-df-convert {\n",
              "      background-color: #E8F0FE;\n",
              "      border: none;\n",
              "      border-radius: 50%;\n",
              "      cursor: pointer;\n",
              "      display: none;\n",
              "      fill: #1967D2;\n",
              "      height: 32px;\n",
              "      padding: 0 0 0 0;\n",
              "      width: 32px;\n",
              "    }\n",
              "\n",
              "    .colab-df-convert:hover {\n",
              "      background-color: #E2EBFA;\n",
              "      box-shadow: 0px 1px 2px rgba(60, 64, 67, 0.3), 0px 1px 3px 1px rgba(60, 64, 67, 0.15);\n",
              "      fill: #174EA6;\n",
              "    }\n",
              "\n",
              "    [theme=dark] .colab-df-convert {\n",
              "      background-color: #3B4455;\n",
              "      fill: #D2E3FC;\n",
              "    }\n",
              "\n",
              "    [theme=dark] .colab-df-convert:hover {\n",
              "      background-color: #434B5C;\n",
              "      box-shadow: 0px 1px 3px 1px rgba(0, 0, 0, 0.15);\n",
              "      filter: drop-shadow(0px 1px 2px rgba(0, 0, 0, 0.3));\n",
              "      fill: #FFFFFF;\n",
              "    }\n",
              "  </style>\n",
              "\n",
              "      <script>\n",
              "        const buttonEl =\n",
              "          document.querySelector('#df-8b7d3512-b6fe-4230-a171-7282ae72271f button.colab-df-convert');\n",
              "        buttonEl.style.display =\n",
              "          google.colab.kernel.accessAllowed ? 'block' : 'none';\n",
              "\n",
              "        async function convertToInteractive(key) {\n",
              "          const element = document.querySelector('#df-8b7d3512-b6fe-4230-a171-7282ae72271f');\n",
              "          const dataTable =\n",
              "            await google.colab.kernel.invokeFunction('convertToInteractive',\n",
              "                                                     [key], {});\n",
              "          if (!dataTable) return;\n",
              "\n",
              "          const docLinkHtml = 'Like what you see? Visit the ' +\n",
              "            '<a target=\"_blank\" href=https://colab.research.google.com/notebooks/data_table.ipynb>data table notebook</a>'\n",
              "            + ' to learn more about interactive tables.';\n",
              "          element.innerHTML = '';\n",
              "          dataTable['output_type'] = 'display_data';\n",
              "          await google.colab.output.renderOutput(dataTable, element);\n",
              "          const docLink = document.createElement('div');\n",
              "          docLink.innerHTML = docLinkHtml;\n",
              "          element.appendChild(docLink);\n",
              "        }\n",
              "      </script>\n",
              "    </div>\n",
              "  </div>\n",
              "  "
            ]
          },
          "metadata": {},
          "execution_count": 22
        },
        {
          "output_type": "display_data",
          "data": {
            "text/plain": [
              "<Figure size 432x288 with 2 Axes>"
            ],
            "image/png": "[encoded data removed]"
          },
          "metadata": {
            "needs_background": "light"
          }
        }
      ]
    },
    {
      "cell_type": "code",
      "source": [
        "# Compute Recall and Precision Scores\n",
        "recall_knn = recall_score(y_test, y_hat_knn)\n",
        "precision_knn = precision_score(y_test, y_hat_knn)"
      ],
      "metadata": {
        "id": "nda2C2UvAh7S"
      },
      "execution_count": null,
      "outputs": []
    },
    {
      "cell_type": "code",
      "source": [
        "# Create an ROC AUC Curve\n",
        "disp = RocCurveDisplay.from_estimator(gs_knn, X_test, y_test, name='K-Nearest Neighbors')\n",
        "plt.plot([0, 1], [0, 1], linestyle='--');"
      ],
      "metadata": {
        "colab": {
          "base_uri": "https://localhost:8080/",
          "height": 279
        },
        "id": "HGvhO4_Bm0QY",
        "outputId": "f8415e17-aa85-4f85-c910-5eb461ae00d3"
      },
      "execution_count": null,
      "outputs": [
        {
          "output_type": "display_data",
          "data": {
            "text/plain": [
              "<Figure size 432x288 with 1 Axes>"
            ],
            "image/png": "[encoded data removed]"
          },
          "metadata": {
            "needs_background": "light"
          }
        }
      ]
    },
    {
      "cell_type": "markdown",
      "source": [
        "# 8.0 Support Vector Machine Model\n",
        "--- ---"
      ],
      "metadata": {
        "id": "FtTQpZp00n6w"
      }
    },
    {
      "cell_type": "code",
      "source": [
        "# Construct a Support Vector Machine pipeline to impute, scale, and classify\n",
        "pipe_SVC = Pipeline([('imp_mean', SimpleImputer(missing_values=np.nan,\n",
        "                                                strategy='mean')), # Impute missing data to the mean\n",
        "                     ('scaler', StandardScaler()), # Standardize the data\n",
        "                     ('SVC_model', SVC())]) # Instantiate a SVC model\n",
        "\n",
        "# Create a list of C values for hyperparamter tuning\n",
        "C = list(range(1,len(X_train.columns)+1))\n",
        "\n",
        "# Create a parameter space for grid search\n",
        "parameters = {'SVC_model__C' : C,\n",
        "              'SVC_model__kernel' : ['poly', 'linear', 'rbf']\n",
        "              }\n",
        "\n",
        "# Create grid search object\n",
        "gs_SVC = GridSearchCV(pipe_SVC, parameters, cv=10)\n",
        "\n",
        "# Fit the grid search to the training data\n",
        "gs_SVC.fit(X_train, y_train)\n",
        "\n",
        "# View the best parameters\n",
        "print('Best C:', gs_SVC.best_estimator_.get_params()['SVC_model__C'])\n",
        "print('Best kernel:', gs_SVC.best_estimator_.get_params()['SVC_model__kernel'])\n",
        "\n",
        "# Calculate the accuracy for the train data\n",
        "gs_SVC_train_accuracy = gs_SVC.score(X_train, y_train)\n",
        "\n",
        "# Calculate the accuracy for the test data\n",
        "gs_SVC_test_accuracy = gs_SVC.score(X_test, y_test)\n",
        "\n",
        "# Print the train data accuracy\n",
        "print('The Support Vector Model train accuracy (cv=10) is:',\n",
        "      (round(gs_SVC_train_accuracy*100,5)), '%')\n",
        "\n",
        "# Print the test data accuracy\n",
        "print('The Support Vector Model test accuracy is:',\n",
        "      (round(gs_SVC_test_accuracy*100,5)), '%')\n",
        "\n",
        "# Compute the predicted probabilities for the test data\n",
        "y_hat_SVC = gs_SVC.predict(X_test)\n",
        "\n",
        "# Create and plot a confusion matrix\n",
        "cm_SVC = confusion_matrix(y_test, y_hat_SVC)\n",
        "disp = ConfusionMatrixDisplay(confusion_matrix=cm_SVC,\n",
        "                              display_labels=['Benign', 'Malignant'])\n",
        "disp.plot()\n",
        "\n",
        "# Compute and print a classification report\n",
        "SVC_report = classification_report(y_test, y_hat_SVC, output_dict=True)\n",
        "SVC_metrics = pd.DataFrame(SVC_report).transpose()\n",
        "SVC_metrics\n"
      ],
      "metadata": {
        "colab": {
          "base_uri": "https://localhost:8080/",
          "height": 541
        },
        "outputId": "cbff7316-295b-4a73-85d4-622ec073894b",
        "id": "bGByaLVp26D-"
      },
      "execution_count": null,
      "outputs": [
        {
          "output_type": "stream",
          "name": "stdout",
          "text": [
            "Best C: 2\n",
            "Best kernel: rbf\n",
            "The Support Vector Model train accuracy (cv=10) is: 82.77778 %\n",
            "The Support Vector Model test accuracy is: 79.25311 %\n"
          ]
        },
        {
          "output_type": "execute_result",
          "data": {
            "text/plain": [
              "              precision    recall  f1-score     support\n",
              "0              0.849558  0.744186  0.793388  129.000000\n",
              "1              0.742188  0.848214  0.791667  112.000000\n",
              "accuracy       0.792531  0.792531  0.792531    0.792531\n",
              "macro avg      0.795873  0.796200  0.792528  241.000000\n",
              "weighted avg   0.799659  0.792531  0.792588  241.000000"
            ],
            "text/html": [
              "\n",
              "  <div id=\"df-c6b57d6c-76f2-4b5e-a7f9-64db0bd1ba83\">\n",
              "    <div class=\"colab-df-container\">\n",
              "      <div>\n",
              "<style scoped>\n",
              "    .dataframe tbody tr th:only-of-type {\n",
              "        vertical-align: middle;\n",
              "    }\n",
              "\n",
              "    .dataframe tbody tr th {\n",
              "        vertical-align: top;\n",
              "    }\n",
              "\n",
              "    .dataframe thead th {\n",
              "        text-align: right;\n",
              "    }\n",
              "</style>\n",
              "<table border=\"1\" class=\"dataframe\">\n",
              "  <thead>\n",
              "    <tr style=\"text-align: right;\">\n",
              "      <th></th>\n",
              "      <th>precision</th>\n",
              "      <th>recall</th>\n",
              "      <th>f1-score</th>\n",
              "      <th>support</th>\n",
              "    </tr>\n",
              "  </thead>\n",
              "  <tbody>\n",
              "    <tr>\n",
              "      <th>0</th>\n",
              "      <td>0.849558</td>\n",
              "      <td>0.744186</td>\n",
              "      <td>0.793388</td>\n",
              "      <td>129.000000</td>\n",
              "    </tr>\n",
              "    <tr>\n",
              "      <th>1</th>\n",
              "      <td>0.742188</td>\n",
              "      <td>0.848214</td>\n",
              "      <td>0.791667</td>\n",
              "      <td>112.000000</td>\n",
              "    </tr>\n",
              "    <tr>\n",
              "      <th>accuracy</th>\n",
              "      <td>0.792531</td>\n",
              "      <td>0.792531</td>\n",
              "      <td>0.792531</td>\n",
              "      <td>0.792531</td>\n",
              "    </tr>\n",
              "    <tr>\n",
              "      <th>macro avg</th>\n",
              "      <td>0.795873</td>\n",
              "      <td>0.796200</td>\n",
              "      <td>0.792528</td>\n",
              "      <td>241.000000</td>\n",
              "    </tr>\n",
              "    <tr>\n",
              "      <th>weighted avg</th>\n",
              "      <td>0.799659</td>\n",
              "      <td>0.792531</td>\n",
              "      <td>0.792588</td>\n",
              "      <td>241.000000</td>\n",
              "    </tr>\n",
              "  </tbody>\n",
              "</table>\n",
              "</div>\n",
              "      <button class=\"colab-df-convert\" onclick=\"convertToInteractive('df-c6b57d6c-76f2-4b5e-a7f9-64db0bd1ba83')\"\n",
              "              title=\"Convert this dataframe to an interactive table.\"\n",
              "              style=\"display:none;\">\n",
              "        \n",
              "  <svg xmlns=\"http://www.w3.org/2000/svg\" height=\"24px\"viewBox=\"0 0 24 24\"\n",
              "       width=\"24px\">\n",
              "    <path d=\"M0 0h24v24H0V0z\" fill=\"none\"/>\n",
              "    <path d=\"M18.56 5.44l.94 2.06.94-2.06 2.06-.94-2.06-.94-.94-2.06-.94 2.06-2.06.94zm-11 1L8.5 8.5l.94-2.06 2.06-.94-2.06-.94L8.5 2.5l-.94 2.06-2.06.94zm10 10l.94 2.06.94-2.06 2.06-.94-2.06-.94-.94-2.06-.94 2.06-2.06.94z\"/><path d=\"M17.41 7.96l-1.37-1.37c-.4-.4-.92-.59-1.43-.59-.52 0-1.04.2-1.43.59L10.3 9.45l-7.72 7.72c-.78.78-.78 2.05 0 2.83L4 21.41c.39.39.9.59 1.41.59.51 0 1.02-.2 1.41-.59l7.78-7.78 2.81-2.81c.8-.78.8-2.07 0-2.86zM5.41 20L4 18.59l7.72-7.72 1.47 1.35L5.41 20z\"/>\n",
              "  </svg>\n",
              "      </button>\n",
              "      \n",
              "  <style>\n",
              "    .colab-df-container {\n",
              "      display:flex;\n",
              "      flex-wrap:wrap;\n",
              "      gap: 12px;\n",
              "    }\n",
              "\n",
              "    .colab-df-convert {\n",
              "      background-color: #E8F0FE;\n",
              "      border: none;\n",
              "      border-radius: 50%;\n",
              "      cursor: pointer;\n",
              "      display: none;\n",
              "      fill: #1967D2;\n",
              "      height: 32px;\n",
              "      padding: 0 0 0 0;\n",
              "      width: 32px;\n",
              "    }\n",
              "\n",
              "    .colab-df-convert:hover {\n",
              "      background-color: #E2EBFA;\n",
              "      box-shadow: 0px 1px 2px rgba(60, 64, 67, 0.3), 0px 1px 3px 1px rgba(60, 64, 67, 0.15);\n",
              "      fill: #174EA6;\n",
              "    }\n",
              "\n",
              "    [theme=dark] .colab-df-convert {\n",
              "      background-color: #3B4455;\n",
              "      fill: #D2E3FC;\n",
              "    }\n",
              "\n",
              "    [theme=dark] .colab-df-convert:hover {\n",
              "      background-color: #434B5C;\n",
              "      box-shadow: 0px 1px 3px 1px rgba(0, 0, 0, 0.15);\n",
              "      filter: drop-shadow(0px 1px 2px rgba(0, 0, 0, 0.3));\n",
              "      fill: #FFFFFF;\n",
              "    }\n",
              "  </style>\n",
              "\n",
              "      <script>\n",
              "        const buttonEl =\n",
              "          document.querySelector('#df-c6b57d6c-76f2-4b5e-a7f9-64db0bd1ba83 button.colab-df-convert');\n",
              "        buttonEl.style.display =\n",
              "          google.colab.kernel.accessAllowed ? 'block' : 'none';\n",
              "\n",
              "        async function convertToInteractive(key) {\n",
              "          const element = document.querySelector('#df-c6b57d6c-76f2-4b5e-a7f9-64db0bd1ba83');\n",
              "          const dataTable =\n",
              "            await google.colab.kernel.invokeFunction('convertToInteractive',\n",
              "                                                     [key], {});\n",
              "          if (!dataTable) return;\n",
              "\n",
              "          const docLinkHtml = 'Like what you see? Visit the ' +\n",
              "            '<a target=\"_blank\" href=https://colab.research.google.com/notebooks/data_table.ipynb>data table notebook</a>'\n",
              "            + ' to learn more about interactive tables.';\n",
              "          element.innerHTML = '';\n",
              "          dataTable['output_type'] = 'display_data';\n",
              "          await google.colab.output.renderOutput(dataTable, element);\n",
              "          const docLink = document.createElement('div');\n",
              "          docLink.innerHTML = docLinkHtml;\n",
              "          element.appendChild(docLink);\n",
              "        }\n",
              "      </script>\n",
              "    </div>\n",
              "  </div>\n",
              "  "
            ]
          },
          "metadata": {},
          "execution_count": 25
        },
        {
          "output_type": "display_data",
          "data": {
            "text/plain": [
              "<Figure size 432x288 with 2 Axes>"
            ],
            "image/png": "[encoded data removed]"
          },
          "metadata": {
            "needs_background": "light"
          }
        }
      ]
    },
    {
      "cell_type": "code",
      "source": [
        "# Compute Recall and Precision Scores\n",
        "recall_svc = recall_score(y_test, y_hat_SVC)\n",
        "precision_svc = precision_score(y_test, y_hat_SVC)"
      ],
      "metadata": {
        "id": "n8IzXPH4A2Iy"
      },
      "execution_count": null,
      "outputs": []
    },
    {
      "cell_type": "code",
      "source": [
        "# Create an ROC AUC Curve\n",
        "disp = RocCurveDisplay.from_estimator(gs_SVC, X_test, y_test, name='Support Vector')\n",
        "plt.plot([0, 1], [0, 1], linestyle='--');"
      ],
      "metadata": {
        "colab": {
          "base_uri": "https://localhost:8080/",
          "height": 279
        },
        "id": "oCecFloJwREC",
        "outputId": "806d6b4f-9a28-44ed-bcee-af8e89c00b7b"
      },
      "execution_count": null,
      "outputs": [
        {
          "output_type": "display_data",
          "data": {
            "text/plain": [
              "<Figure size 432x288 with 1 Axes>"
            ],
            "image/png": "[encoded data removed]"
          },
          "metadata": {
            "needs_background": "light"
          }
        }
      ]
    },
    {
      "cell_type": "markdown",
      "source": [
        "# 9.0 Decision Tree Model"
      ],
      "metadata": {
        "id": "SfyVFmLW2Nz6"
      }
    },
    {
      "cell_type": "code",
      "source": [
        "# Construct a Decision Tree pipeline to impute, scale, and classify\n",
        "pipe_tree = Pipeline([('imp_mean', SimpleImputer(missing_values=np.nan,\n",
        "                                                 strategy='mean')), # Impute missing data to the mean\n",
        "                      ('scaler', StandardScaler()), # Standardize the data\n",
        "                      ('tree', DecisionTreeClassifier(random_state=42))]) # Instantiate a tree model\n",
        "\n",
        "# Create a list of features to select\n",
        "n_features_to_select = list(range(1,len(X_train.columns)+1))\n",
        "\n",
        "# Create a parameter space for grid search\n",
        "parameters = {\n",
        "              'tree__max_depth' : n_features_to_select,\n",
        "              'tree__max_features' : n_features_to_select,\n",
        "              'tree__criterion' : ['entropy'] # ['gini', 'entropy']\n",
        "              }\n",
        "\n",
        "# Create grid search object\n",
        "gs_tree = GridSearchCV(pipe_tree, parameters, cv=10)\n",
        "\n",
        "# Fit the model to the training data\n",
        "gs_tree.fit(X_train, y_train)\n",
        "\n",
        "# View the best parameters\n",
        "print('Best Criterion:',\n",
        "      gs_tree.best_estimator_.get_params()['tree__criterion'])\n",
        "print('Best Depth:',\n",
        "      gs_tree.best_estimator_.get_params()['tree__max_depth'])\n",
        "print('Best Number of Features:',\n",
        "      gs_tree.best_estimator_.get_params()['tree__max_features'])\n",
        "\n",
        "# Calculate the accuracy for the train data\n",
        "tree_train_accuracy = gs_tree.score(X_train, y_train)\n",
        "\n",
        "# Calculate the accuracy for the test data\n",
        "tree_test_accuracy = gs_tree.score(X_test, y_test)\n",
        "\n",
        "# Print the train data accuracy\n",
        "print('The Decision Tree Model train accuracy (cv=10) is:',\n",
        "      (round(tree_train_accuracy*100,5)), '%')\n",
        "\n",
        "# Print the test data accuracy\n",
        "print('The Decision Tree Model test accuracy is:',\n",
        "      (round(tree_test_accuracy*100,5)), '%')\n",
        "\n",
        "# Compute the predicted probabilities for the test data\n",
        "y_hat_tree = gs_tree.predict(X_test)\n",
        "\n",
        "# Create and plot a confusion matrix\n",
        "cm_tree = confusion_matrix(y_test, y_hat_tree)\n",
        "disp = ConfusionMatrixDisplay(confusion_matrix=cm_tree,\n",
        "                              display_labels=['Benign', 'Malignant'])\n",
        "disp.plot()\n",
        "\n",
        "# Compute and print a classification report\n",
        "tree_report = classification_report(y_test, y_hat_tree, output_dict=True)\n",
        "tree_metrics = pd.DataFrame(tree_report).transpose()\n",
        "tree_metrics\n"
      ],
      "metadata": {
        "colab": {
          "base_uri": "https://localhost:8080/",
          "height": 559
        },
        "outputId": "c9e49b71-5567-4002-ed02-97a5662ea9f2",
        "id": "5eFAHEqHBPr8"
      },
      "execution_count": null,
      "outputs": [
        {
          "output_type": "stream",
          "name": "stdout",
          "text": [
            "Best Criterion: entropy\n",
            "Best Depth: 5\n",
            "Best Number of Features: 8\n",
            "The Decision Tree Model train accuracy (cv=10) is: 82.22222 %\n",
            "The Decision Tree Model test accuracy is: 79.66805 %\n"
          ]
        },
        {
          "output_type": "execute_result",
          "data": {
            "text/plain": [
              "              precision    recall  f1-score    support\n",
              "0              0.877358  0.720930  0.791489  129.00000\n",
              "1              0.733333  0.883929  0.801619  112.00000\n",
              "accuracy       0.796680  0.796680  0.796680    0.79668\n",
              "macro avg      0.805346  0.802429  0.796554  241.00000\n",
              "weighted avg   0.810426  0.796680  0.796197  241.00000"
            ],
            "text/html": [
              "\n",
              "  <div id=\"df-b157d12c-6e93-4550-bf0d-bf5d9d719277\">\n",
              "    <div class=\"colab-df-container\">\n",
              "      <div>\n",
              "<style scoped>\n",
              "    .dataframe tbody tr th:only-of-type {\n",
              "        vertical-align: middle;\n",
              "    }\n",
              "\n",
              "    .dataframe tbody tr th {\n",
              "        vertical-align: top;\n",
              "    }\n",
              "\n",
              "    .dataframe thead th {\n",
              "        text-align: right;\n",
              "    }\n",
              "</style>\n",
              "<table border=\"1\" class=\"dataframe\">\n",
              "  <thead>\n",
              "    <tr style=\"text-align: right;\">\n",
              "      <th></th>\n",
              "      <th>precision</th>\n",
              "      <th>recall</th>\n",
              "      <th>f1-score</th>\n",
              "      <th>support</th>\n",
              "    </tr>\n",
              "  </thead>\n",
              "  <tbody>\n",
              "    <tr>\n",
              "      <th>0</th>\n",
              "      <td>0.877358</td>\n",
              "      <td>0.720930</td>\n",
              "      <td>0.791489</td>\n",
              "      <td>129.00000</td>\n",
              "    </tr>\n",
              "    <tr>\n",
              "      <th>1</th>\n",
              "      <td>0.733333</td>\n",
              "      <td>0.883929</td>\n",
              "      <td>0.801619</td>\n",
              "      <td>112.00000</td>\n",
              "    </tr>\n",
              "    <tr>\n",
              "      <th>accuracy</th>\n",
              "      <td>0.796680</td>\n",
              "      <td>0.796680</td>\n",
              "      <td>0.796680</td>\n",
              "      <td>0.79668</td>\n",
              "    </tr>\n",
              "    <tr>\n",
              "      <th>macro avg</th>\n",
              "      <td>0.805346</td>\n",
              "      <td>0.802429</td>\n",
              "      <td>0.796554</td>\n",
              "      <td>241.00000</td>\n",
              "    </tr>\n",
              "    <tr>\n",
              "      <th>weighted avg</th>\n",
              "      <td>0.810426</td>\n",
              "      <td>0.796680</td>\n",
              "      <td>0.796197</td>\n",
              "      <td>241.00000</td>\n",
              "    </tr>\n",
              "  </tbody>\n",
              "</table>\n",
              "</div>\n",
              "      <button class=\"colab-df-convert\" onclick=\"convertToInteractive('df-b157d12c-6e93-4550-bf0d-bf5d9d719277')\"\n",
              "              title=\"Convert this dataframe to an interactive table.\"\n",
              "              style=\"display:none;\">\n",
              "        \n",
              "  <svg xmlns=\"http://www.w3.org/2000/svg\" height=\"24px\"viewBox=\"0 0 24 24\"\n",
              "       width=\"24px\">\n",
              "    <path d=\"M0 0h24v24H0V0z\" fill=\"none\"/>\n",
              "    <path d=\"M18.56 5.44l.94 2.06.94-2.06 2.06-.94-2.06-.94-.94-2.06-.94 2.06-2.06.94zm-11 1L8.5 8.5l.94-2.06 2.06-.94-2.06-.94L8.5 2.5l-.94 2.06-2.06.94zm10 10l.94 2.06.94-2.06 2.06-.94-2.06-.94-.94-2.06-.94 2.06-2.06.94z\"/><path d=\"M17.41 7.96l-1.37-1.37c-.4-.4-.92-.59-1.43-.59-.52 0-1.04.2-1.43.59L10.3 9.45l-7.72 7.72c-.78.78-.78 2.05 0 2.83L4 21.41c.39.39.9.59 1.41.59.51 0 1.02-.2 1.41-.59l7.78-7.78 2.81-2.81c.8-.78.8-2.07 0-2.86zM5.41 20L4 18.59l7.72-7.72 1.47 1.35L5.41 20z\"/>\n",
              "  </svg>\n",
              "      </button>\n",
              "      \n",
              "  <style>\n",
              "    .colab-df-container {\n",
              "      display:flex;\n",
              "      flex-wrap:wrap;\n",
              "      gap: 12px;\n",
              "    }\n",
              "\n",
              "    .colab-df-convert {\n",
              "      background-color: #E8F0FE;\n",
              "      border: none;\n",
              "      border-radius: 50%;\n",
              "      cursor: pointer;\n",
              "      display: none;\n",
              "      fill: #1967D2;\n",
              "      height: 32px;\n",
              "      padding: 0 0 0 0;\n",
              "      width: 32px;\n",
              "    }\n",
              "\n",
              "    .colab-df-convert:hover {\n",
              "      background-color: #E2EBFA;\n",
              "      box-shadow: 0px 1px 2px rgba(60, 64, 67, 0.3), 0px 1px 3px 1px rgba(60, 64, 67, 0.15);\n",
              "      fill: #174EA6;\n",
              "    }\n",
              "\n",
              "    [theme=dark] .colab-df-convert {\n",
              "      background-color: #3B4455;\n",
              "      fill: #D2E3FC;\n",
              "    }\n",
              "\n",
              "    [theme=dark] .colab-df-convert:hover {\n",
              "      background-color: #434B5C;\n",
              "      box-shadow: 0px 1px 3px 1px rgba(0, 0, 0, 0.15);\n",
              "      filter: drop-shadow(0px 1px 2px rgba(0, 0, 0, 0.3));\n",
              "      fill: #FFFFFF;\n",
              "    }\n",
              "  </style>\n",
              "\n",
              "      <script>\n",
              "        const buttonEl =\n",
              "          document.querySelector('#df-b157d12c-6e93-4550-bf0d-bf5d9d719277 button.colab-df-convert');\n",
              "        buttonEl.style.display =\n",
              "          google.colab.kernel.accessAllowed ? 'block' : 'none';\n",
              "\n",
              "        async function convertToInteractive(key) {\n",
              "          const element = document.querySelector('#df-b157d12c-6e93-4550-bf0d-bf5d9d719277');\n",
              "          const dataTable =\n",
              "            await google.colab.kernel.invokeFunction('convertToInteractive',\n",
              "                                                     [key], {});\n",
              "          if (!dataTable) return;\n",
              "\n",
              "          const docLinkHtml = 'Like what you see? Visit the ' +\n",
              "            '<a target=\"_blank\" href=https://colab.research.google.com/notebooks/data_table.ipynb>data table notebook</a>'\n",
              "            + ' to learn more about interactive tables.';\n",
              "          element.innerHTML = '';\n",
              "          dataTable['output_type'] = 'display_data';\n",
              "          await google.colab.output.renderOutput(dataTable, element);\n",
              "          const docLink = document.createElement('div');\n",
              "          docLink.innerHTML = docLinkHtml;\n",
              "          element.appendChild(docLink);\n",
              "        }\n",
              "      </script>\n",
              "    </div>\n",
              "  </div>\n",
              "  "
            ]
          },
          "metadata": {},
          "execution_count": 28
        },
        {
          "output_type": "display_data",
          "data": {
            "text/plain": [
              "<Figure size 432x288 with 2 Axes>"
            ],
            "image/png": "[encoded data removed]"
          },
          "metadata": {
            "needs_background": "light"
          }
        }
      ]
    },
    {
      "cell_type": "code",
      "source": [
        "# Compute Recall and Precision Scores\n",
        "recall_tree = recall_score(y_test, y_hat_tree)\n",
        "precision_tree = precision_score(y_test, y_hat_tree)"
      ],
      "metadata": {
        "id": "mYk_Um5cBJ74"
      },
      "execution_count": null,
      "outputs": []
    },
    {
      "cell_type": "code",
      "source": [
        "# Create an ROC AUC Curve\n",
        "disp = RocCurveDisplay.from_estimator(gs_tree, X_test, y_test, name='Decision Tree')\n",
        "plt.plot([0, 1], [0, 1], linestyle='--');"
      ],
      "metadata": {
        "colab": {
          "base_uri": "https://localhost:8080/",
          "height": 279
        },
        "id": "t9QR4qhAwrIV",
        "outputId": "6a31804c-823d-4161-d706-aea4ee04f29a"
      },
      "execution_count": null,
      "outputs": [
        {
          "output_type": "display_data",
          "data": {
            "text/plain": [
              "<Figure size 432x288 with 1 Axes>"
            ],
            "image/png": "[encoded data removed]"
          },
          "metadata": {
            "needs_background": "light"
          }
        }
      ]
    },
    {
      "cell_type": "markdown",
      "source": [
        "#10.0 Random Forest Model"
      ],
      "metadata": {
        "id": "mVCotgAt2us_"
      }
    },
    {
      "cell_type": "code",
      "source": [
        "# Construct a Random Forest pipeline to impute, scale, and classify\n",
        "pipe_RF_tree = Pipeline([('imp_mean', SimpleImputer(missing_values=np.nan,\n",
        "                                                 strategy='mean')), # Impute missing data to the mean\n",
        "                         ('scaler', StandardScaler()), # Standardize the data\n",
        "                         ('RF_tree', RandomForestClassifier(random_state=42))]) # Instantiate a tree model\n",
        "\n",
        "# Create a list of features to select\n",
        "n_features_to_select = list(range(1,10))\n",
        "\n",
        "# Create a list of max depth to select\n",
        "max_depth = list(range(1,10))\n",
        "\n",
        "# Create a parameter space for grid search\n",
        "parameters = {\n",
        "              'RF_tree__max_depth' : max_depth,\n",
        "              'RF_tree__max_features' : n_features_to_select,\n",
        "              'RF_tree__criterion' : ['entropy'] # ['gini', 'entropy']\n",
        "              }\n",
        "\n",
        "# Create grid search object\n",
        "gs_RF_tree = GridSearchCV(pipe_RF_tree, parameters, cv=10)\n",
        "\n",
        "# Fit the model to the training data\n",
        "gs_RF_tree.fit(X_train, y_train)\n",
        "\n",
        "# View the best parameters\n",
        "print('Best Criterion:',\n",
        "      gs_RF_tree.best_estimator_.get_params()['RF_tree__criterion'])\n",
        "print('Best Depth:', \n",
        "      gs_RF_tree.best_estimator_.get_params()['RF_tree__max_depth'])\n",
        "print('Best Number of Features:',\n",
        "      gs_RF_tree.best_estimator_.get_params()['RF_tree__max_features'])\n",
        "\n",
        "# Calculate the accuracy for the train data\n",
        "RF_train_accuracy = gs_RF_tree.score(X_train, y_train)\n",
        "\n",
        "# Calculate the accuracy for the test data\n",
        "RF_test_accuracy = gs_RF_tree.score(X_test, y_test)\n",
        "\n",
        "# Print the train data accuracy\n",
        "print('The Random Forest Model train accuracy (cv=10) is:',\n",
        "      (round(tree_train_accuracy*100,5)), '%')\n",
        "\n",
        "# Print the test data accuracy\n",
        "print('The Random Forest Model test accuracy is:',\n",
        "      (round(tree_test_accuracy*100,5)), '%')\n",
        "\n",
        "# Compute the predicted probabilities for the test data\n",
        "y_hat_RF_tree = gs_RF_tree.predict(X_test)\n",
        "\n",
        "# Create and plot a confusion matrix\n",
        "cm_tree = confusion_matrix(y_test, y_hat_RF_tree)\n",
        "disp = ConfusionMatrixDisplay(confusion_matrix=cm_tree,\n",
        "                              display_labels=['Benign', 'Malignant'])\n",
        "disp.plot()\n",
        "\n",
        "# Compute and print a classification report\n",
        "RF_tree_report = classification_report(y_test, y_hat_RF_tree, output_dict=True)\n",
        "RF_tree_metrics = pd.DataFrame(tree_report).transpose()\n",
        "RF_tree_metrics\n"
      ],
      "metadata": {
        "colab": {
          "base_uri": "https://localhost:8080/",
          "height": 563
        },
        "outputId": "051690c9-aa5e-4eb5-c0ee-d745616cd367",
        "id": "4FalggRVswO5"
      },
      "execution_count": null,
      "outputs": [
        {
          "output_type": "stream",
          "name": "stdout",
          "text": [
            "Best Criterion: entropy\n",
            "Best Depth: 5\n",
            "Best Number of Features: 4\n",
            "The Random Forest Model train accuracy (cv=10) is: 82.22222 %\n",
            "The Random Forest Model test accuracy is: 79.66805 %\n"
          ]
        },
        {
          "output_type": "execute_result",
          "data": {
            "text/plain": [
              "              precision    recall  f1-score    support\n",
              "0              0.877358  0.720930  0.791489  129.00000\n",
              "1              0.733333  0.883929  0.801619  112.00000\n",
              "accuracy       0.796680  0.796680  0.796680    0.79668\n",
              "macro avg      0.805346  0.802429  0.796554  241.00000\n",
              "weighted avg   0.810426  0.796680  0.796197  241.00000"
            ],
            "text/html": [
              "\n",
              "  <div id=\"df-7c541a65-54dd-47df-b4af-3bb2f4bdb2bc\">\n",
              "    <div class=\"colab-df-container\">\n",
              "      <div>\n",
              "<style scoped>\n",
              "    .dataframe tbody tr th:only-of-type {\n",
              "        vertical-align: middle;\n",
              "    }\n",
              "\n",
              "    .dataframe tbody tr th {\n",
              "        vertical-align: top;\n",
              "    }\n",
              "\n",
              "    .dataframe thead th {\n",
              "        text-align: right;\n",
              "    }\n",
              "</style>\n",
              "<table border=\"1\" class=\"dataframe\">\n",
              "  <thead>\n",
              "    <tr style=\"text-align: right;\">\n",
              "      <th></th>\n",
              "      <th>precision</th>\n",
              "      <th>recall</th>\n",
              "      <th>f1-score</th>\n",
              "      <th>support</th>\n",
              "    </tr>\n",
              "  </thead>\n",
              "  <tbody>\n",
              "    <tr>\n",
              "      <th>0</th>\n",
              "      <td>0.877358</td>\n",
              "      <td>0.720930</td>\n",
              "      <td>0.791489</td>\n",
              "      <td>129.00000</td>\n",
              "    </tr>\n",
              "    <tr>\n",
              "      <th>1</th>\n",
              "      <td>0.733333</td>\n",
              "      <td>0.883929</td>\n",
              "      <td>0.801619</td>\n",
              "      <td>112.00000</td>\n",
              "    </tr>\n",
              "    <tr>\n",
              "      <th>accuracy</th>\n",
              "      <td>0.796680</td>\n",
              "      <td>0.796680</td>\n",
              "      <td>0.796680</td>\n",
              "      <td>0.79668</td>\n",
              "    </tr>\n",
              "    <tr>\n",
              "      <th>macro avg</th>\n",
              "      <td>0.805346</td>\n",
              "      <td>0.802429</td>\n",
              "      <td>0.796554</td>\n",
              "      <td>241.00000</td>\n",
              "    </tr>\n",
              "    <tr>\n",
              "      <th>weighted avg</th>\n",
              "      <td>0.810426</td>\n",
              "      <td>0.796680</td>\n",
              "      <td>0.796197</td>\n",
              "      <td>241.00000</td>\n",
              "    </tr>\n",
              "  </tbody>\n",
              "</table>\n",
              "</div>\n",
              "      <button class=\"colab-df-convert\" onclick=\"convertToInteractive('df-7c541a65-54dd-47df-b4af-3bb2f4bdb2bc')\"\n",
              "              title=\"Convert this dataframe to an interactive table.\"\n",
              "              style=\"display:none;\">\n",
              "        \n",
              "  <svg xmlns=\"http://www.w3.org/2000/svg\" height=\"24px\"viewBox=\"0 0 24 24\"\n",
              "       width=\"24px\">\n",
              "    <path d=\"M0 0h24v24H0V0z\" fill=\"none\"/>\n",
              "    <path d=\"M18.56 5.44l.94 2.06.94-2.06 2.06-.94-2.06-.94-.94-2.06-.94 2.06-2.06.94zm-11 1L8.5 8.5l.94-2.06 2.06-.94-2.06-.94L8.5 2.5l-.94 2.06-2.06.94zm10 10l.94 2.06.94-2.06 2.06-.94-2.06-.94-.94-2.06-.94 2.06-2.06.94z\"/><path d=\"M17.41 7.96l-1.37-1.37c-.4-.4-.92-.59-1.43-.59-.52 0-1.04.2-1.43.59L10.3 9.45l-7.72 7.72c-.78.78-.78 2.05 0 2.83L4 21.41c.39.39.9.59 1.41.59.51 0 1.02-.2 1.41-.59l7.78-7.78 2.81-2.81c.8-.78.8-2.07 0-2.86zM5.41 20L4 18.59l7.72-7.72 1.47 1.35L5.41 20z\"/>\n",
              "  </svg>\n",
              "      </button>\n",
              "      \n",
              "  <style>\n",
              "    .colab-df-container {\n",
              "      display:flex;\n",
              "      flex-wrap:wrap;\n",
              "      gap: 12px;\n",
              "    }\n",
              "\n",
              "    .colab-df-convert {\n",
              "      background-color: #E8F0FE;\n",
              "      border: none;\n",
              "      border-radius: 50%;\n",
              "      cursor: pointer;\n",
              "      display: none;\n",
              "      fill: #1967D2;\n",
              "      height: 32px;\n",
              "      padding: 0 0 0 0;\n",
              "      width: 32px;\n",
              "    }\n",
              "\n",
              "    .colab-df-convert:hover {\n",
              "      background-color: #E2EBFA;\n",
              "      box-shadow: 0px 1px 2px rgba(60, 64, 67, 0.3), 0px 1px 3px 1px rgba(60, 64, 67, 0.15);\n",
              "      fill: #174EA6;\n",
              "    }\n",
              "\n",
              "    [theme=dark] .colab-df-convert {\n",
              "      background-color: #3B4455;\n",
              "      fill: #D2E3FC;\n",
              "    }\n",
              "\n",
              "    [theme=dark] .colab-df-convert:hover {\n",
              "      background-color: #434B5C;\n",
              "      box-shadow: 0px 1px 3px 1px rgba(0, 0, 0, 0.15);\n",
              "      filter: drop-shadow(0px 1px 2px rgba(0, 0, 0, 0.3));\n",
              "      fill: #FFFFFF;\n",
              "    }\n",
              "  </style>\n",
              "\n",
              "      <script>\n",
              "        const buttonEl =\n",
              "          document.querySelector('#df-7c541a65-54dd-47df-b4af-3bb2f4bdb2bc button.colab-df-convert');\n",
              "        buttonEl.style.display =\n",
              "          google.colab.kernel.accessAllowed ? 'block' : 'none';\n",
              "\n",
              "        async function convertToInteractive(key) {\n",
              "          const element = document.querySelector('#df-7c541a65-54dd-47df-b4af-3bb2f4bdb2bc');\n",
              "          const dataTable =\n",
              "            await google.colab.kernel.invokeFunction('convertToInteractive',\n",
              "                                                     [key], {});\n",
              "          if (!dataTable) return;\n",
              "\n",
              "          const docLinkHtml = 'Like what you see? Visit the ' +\n",
              "            '<a target=\"_blank\" href=https://colab.research.google.com/notebooks/data_table.ipynb>data table notebook</a>'\n",
              "            + ' to learn more about interactive tables.';\n",
              "          element.innerHTML = '';\n",
              "          dataTable['output_type'] = 'display_data';\n",
              "          await google.colab.output.renderOutput(dataTable, element);\n",
              "          const docLink = document.createElement('div');\n",
              "          docLink.innerHTML = docLinkHtml;\n",
              "          element.appendChild(docLink);\n",
              "        }\n",
              "      </script>\n",
              "    </div>\n",
              "  </div>\n",
              "  "
            ]
          },
          "metadata": {},
          "execution_count": 31
        },
        {
          "output_type": "display_data",
          "data": {
            "text/plain": [
              "<Figure size 432x288 with 2 Axes>"
            ],
            "image/png": "[encoded data removed]"
          },
          "metadata": {
            "needs_background": "light"
          }
        }
      ]
    },
    {
      "cell_type": "code",
      "source": [
        "# Compute Recall and Precision Scores\n",
        "recall_RF_tree = recall_score(y_test, y_hat_RF_tree)\n",
        "precision_RF_tree = precision_score(y_test, y_hat_RF_tree)"
      ],
      "metadata": {
        "id": "gg7XCSK3BdU9"
      },
      "execution_count": null,
      "outputs": []
    },
    {
      "cell_type": "code",
      "source": [
        "# Create an ROC AUC Curve\n",
        "disp = RocCurveDisplay.from_estimator(gs_RF_tree, X_test, y_test, name='Random Forest')\n",
        "plt.plot([0, 1], [0, 1], linestyle='--');"
      ],
      "metadata": {
        "colab": {
          "base_uri": "https://localhost:8080/",
          "height": 279
        },
        "id": "0DFCTet4w0qK",
        "outputId": "730c2b45-7810-4c09-870e-16bf5e781f08"
      },
      "execution_count": null,
      "outputs": [
        {
          "output_type": "display_data",
          "data": {
            "text/plain": [
              "<Figure size 432x288 with 1 Axes>"
            ],
            "image/png": "[encoded data removed]"
          },
          "metadata": {
            "needs_background": "light"
          }
        }
      ]
    },
    {
      "cell_type": "markdown",
      "source": [
        "#11.0 AdaBoost Model"
      ],
      "metadata": {
        "id": "Im2AmS4T5Rjf"
      }
    },
    {
      "cell_type": "code",
      "source": [
        "# Construct a AdaBoost pipeline to impute, scale, and classify\n",
        "pipe_Ada = Pipeline([('imp_mean', SimpleImputer(missing_values=np.nan,\n",
        "                                                strategy='mean')), # Impute missing data to the mean\n",
        "                      ('scaler', StandardScaler()), # Standardize the data\n",
        "                      ('Ada', AdaBoostClassifier(random_state=42))]) # Instantiate a AdaBoost model\n",
        "\n",
        "# Create a list of estimators\n",
        "n_features_to_select = [40, 50, 70, 80, 90, 100]\n",
        "\n",
        "# Create a list of learning rates for hyperparamter tuning\n",
        "learning_rate = [0.3, 0.4, 0.5, 0.6, 0.7, 0.8, 0.9, 1, 1.1, 1.2]\n",
        "\n",
        "# Create a parameter space for grid search\n",
        "parameters = {\n",
        "              'Ada__n_estimators' : n_features_to_select,\n",
        "              'Ada__learning_rate' : learning_rate,\n",
        "              }\n",
        "\n",
        "# Create grid search object\n",
        "gs_Ada = GridSearchCV(pipe_Ada, parameters, cv=10)\n",
        "\n",
        "# Fit the model to the training data\n",
        "gs_Ada.fit(X_train, y_train)\n",
        "\n",
        "# View the best parameters\n",
        "print('Best Number of Estimators:',\n",
        "      gs_Ada.best_estimator_.get_params()['Ada__n_estimators'])\n",
        "print('Best Learning Rate:',\n",
        "      gs_Ada.best_estimator_.get_params()['Ada__learning_rate'])\n",
        "\n",
        "# Calculate the accuracy for the train data\n",
        "Ada_train_accuracy = gs_Ada.score(X_train, y_train)\n",
        "\n",
        "# Calculate the accuracy for the test data\n",
        "Ada_test_accuracy = gs_Ada.score(X_test, y_test)\n",
        "\n",
        "# Print the train data accuracy\n",
        "print('The AdaBoost Model train accuracy (cv=10) is:',\n",
        "      (round(Ada_train_accuracy*100,5)), '%')\n",
        "\n",
        "# Print the test data accuracy\n",
        "print('The AdaBoost Model test accuracy is:',\n",
        "      (round(Ada_test_accuracy*100,5)), '%')\n",
        "\n",
        "# Compute the predicted probabilities for the test data\n",
        "y_hat_Ada = gs_Ada.predict(X_test)\n",
        "\n",
        "# Create and plot a confusion matrix\n",
        "cm_Ada = confusion_matrix(y_test, y_hat_Ada)\n",
        "disp = ConfusionMatrixDisplay(confusion_matrix=cm_Ada,\n",
        "                              display_labels=['Benign', 'Malignant'])\n",
        "disp.plot()\n",
        "\n",
        "# Compute and print a classification report\n",
        "Ada_report = classification_report(y_test, y_hat_Ada, output_dict=True)\n",
        "Ada_metrics = pd.DataFrame(Ada_report).transpose()\n",
        "Ada_metrics\n",
        "\n",
        "# Save Figure\n",
        "# plt.savefig('AdaBoost Confusion.png')"
      ],
      "metadata": {
        "colab": {
          "base_uri": "https://localhost:8080/",
          "height": 543
        },
        "outputId": "e71d021b-b65d-4bd6-989e-75f0b5a39947",
        "id": "mHotLgZ00bOs"
      },
      "execution_count": null,
      "outputs": [
        {
          "output_type": "stream",
          "name": "stdout",
          "text": [
            "Best Number of Estimators: 70\n",
            "Best Learning Rate: 0.5\n",
            "The AdaBoost Model train accuracy (cv=10) is: 81.38889 %\n",
            "The AdaBoost Model test accuracy is: 82.98755 %\n"
          ]
        },
        {
          "output_type": "execute_result",
          "data": {
            "text/plain": [
              "              precision    recall  f1-score     support\n",
              "0              0.900000  0.767442  0.828452  129.000000\n",
              "1              0.770992  0.901786  0.831276  112.000000\n",
              "accuracy       0.829876  0.829876  0.829876    0.829876\n",
              "macro avg      0.835496  0.834614  0.829864  241.000000\n",
              "weighted avg   0.840046  0.829876  0.829764  241.000000"
            ],
            "text/html": [
              "\n",
              "  <div id=\"df-6e37c365-40fd-48ab-a507-1fca12595f12\">\n",
              "    <div class=\"colab-df-container\">\n",
              "      <div>\n",
              "<style scoped>\n",
              "    .dataframe tbody tr th:only-of-type {\n",
              "        vertical-align: middle;\n",
              "    }\n",
              "\n",
              "    .dataframe tbody tr th {\n",
              "        vertical-align: top;\n",
              "    }\n",
              "\n",
              "    .dataframe thead th {\n",
              "        text-align: right;\n",
              "    }\n",
              "</style>\n",
              "<table border=\"1\" class=\"dataframe\">\n",
              "  <thead>\n",
              "    <tr style=\"text-align: right;\">\n",
              "      <th></th>\n",
              "      <th>precision</th>\n",
              "      <th>recall</th>\n",
              "      <th>f1-score</th>\n",
              "      <th>support</th>\n",
              "    </tr>\n",
              "  </thead>\n",
              "  <tbody>\n",
              "    <tr>\n",
              "      <th>0</th>\n",
              "      <td>0.900000</td>\n",
              "      <td>0.767442</td>\n",
              "      <td>0.828452</td>\n",
              "      <td>129.000000</td>\n",
              "    </tr>\n",
              "    <tr>\n",
              "      <th>1</th>\n",
              "      <td>0.770992</td>\n",
              "      <td>0.901786</td>\n",
              "      <td>0.831276</td>\n",
              "      <td>112.000000</td>\n",
              "    </tr>\n",
              "    <tr>\n",
              "      <th>accuracy</th>\n",
              "      <td>0.829876</td>\n",
              "      <td>0.829876</td>\n",
              "      <td>0.829876</td>\n",
              "      <td>0.829876</td>\n",
              "    </tr>\n",
              "    <tr>\n",
              "      <th>macro avg</th>\n",
              "      <td>0.835496</td>\n",
              "      <td>0.834614</td>\n",
              "      <td>0.829864</td>\n",
              "      <td>241.000000</td>\n",
              "    </tr>\n",
              "    <tr>\n",
              "      <th>weighted avg</th>\n",
              "      <td>0.840046</td>\n",
              "      <td>0.829876</td>\n",
              "      <td>0.829764</td>\n",
              "      <td>241.000000</td>\n",
              "    </tr>\n",
              "  </tbody>\n",
              "</table>\n",
              "</div>\n",
              "      <button class=\"colab-df-convert\" onclick=\"convertToInteractive('df-6e37c365-40fd-48ab-a507-1fca12595f12')\"\n",
              "              title=\"Convert this dataframe to an interactive table.\"\n",
              "              style=\"display:none;\">\n",
              "        \n",
              "  <svg xmlns=\"http://www.w3.org/2000/svg\" height=\"24px\"viewBox=\"0 0 24 24\"\n",
              "       width=\"24px\">\n",
              "    <path d=\"M0 0h24v24H0V0z\" fill=\"none\"/>\n",
              "    <path d=\"M18.56 5.44l.94 2.06.94-2.06 2.06-.94-2.06-.94-.94-2.06-.94 2.06-2.06.94zm-11 1L8.5 8.5l.94-2.06 2.06-.94-2.06-.94L8.5 2.5l-.94 2.06-2.06.94zm10 10l.94 2.06.94-2.06 2.06-.94-2.06-.94-.94-2.06-.94 2.06-2.06.94z\"/><path d=\"M17.41 7.96l-1.37-1.37c-.4-.4-.92-.59-1.43-.59-.52 0-1.04.2-1.43.59L10.3 9.45l-7.72 7.72c-.78.78-.78 2.05 0 2.83L4 21.41c.39.39.9.59 1.41.59.51 0 1.02-.2 1.41-.59l7.78-7.78 2.81-2.81c.8-.78.8-2.07 0-2.86zM5.41 20L4 18.59l7.72-7.72 1.47 1.35L5.41 20z\"/>\n",
              "  </svg>\n",
              "      </button>\n",
              "      \n",
              "  <style>\n",
              "    .colab-df-container {\n",
              "      display:flex;\n",
              "      flex-wrap:wrap;\n",
              "      gap: 12px;\n",
              "    }\n",
              "\n",
              "    .colab-df-convert {\n",
              "      background-color: #E8F0FE;\n",
              "      border: none;\n",
              "      border-radius: 50%;\n",
              "      cursor: pointer;\n",
              "      display: none;\n",
              "      fill: #1967D2;\n",
              "      height: 32px;\n",
              "      padding: 0 0 0 0;\n",
              "      width: 32px;\n",
              "    }\n",
              "\n",
              "    .colab-df-convert:hover {\n",
              "      background-color: #E2EBFA;\n",
              "      box-shadow: 0px 1px 2px rgba(60, 64, 67, 0.3), 0px 1px 3px 1px rgba(60, 64, 67, 0.15);\n",
              "      fill: #174EA6;\n",
              "    }\n",
              "\n",
              "    [theme=dark] .colab-df-convert {\n",
              "      background-color: #3B4455;\n",
              "      fill: #D2E3FC;\n",
              "    }\n",
              "\n",
              "    [theme=dark] .colab-df-convert:hover {\n",
              "      background-color: #434B5C;\n",
              "      box-shadow: 0px 1px 3px 1px rgba(0, 0, 0, 0.15);\n",
              "      filter: drop-shadow(0px 1px 2px rgba(0, 0, 0, 0.3));\n",
              "      fill: #FFFFFF;\n",
              "    }\n",
              "  </style>\n",
              "\n",
              "      <script>\n",
              "        const buttonEl =\n",
              "          document.querySelector('#df-6e37c365-40fd-48ab-a507-1fca12595f12 button.colab-df-convert');\n",
              "        buttonEl.style.display =\n",
              "          google.colab.kernel.accessAllowed ? 'block' : 'none';\n",
              "\n",
              "        async function convertToInteractive(key) {\n",
              "          const element = document.querySelector('#df-6e37c365-40fd-48ab-a507-1fca12595f12');\n",
              "          const dataTable =\n",
              "            await google.colab.kernel.invokeFunction('convertToInteractive',\n",
              "                                                     [key], {});\n",
              "          if (!dataTable) return;\n",
              "\n",
              "          const docLinkHtml = 'Like what you see? Visit the ' +\n",
              "            '<a target=\"_blank\" href=https://colab.research.google.com/notebooks/data_table.ipynb>data table notebook</a>'\n",
              "            + ' to learn more about interactive tables.';\n",
              "          element.innerHTML = '';\n",
              "          dataTable['output_type'] = 'display_data';\n",
              "          await google.colab.output.renderOutput(dataTable, element);\n",
              "          const docLink = document.createElement('div');\n",
              "          docLink.innerHTML = docLinkHtml;\n",
              "          element.appendChild(docLink);\n",
              "        }\n",
              "      </script>\n",
              "    </div>\n",
              "  </div>\n",
              "  "
            ]
          },
          "metadata": {},
          "execution_count": 34
        },
        {
          "output_type": "display_data",
          "data": {
            "text/plain": [
              "<Figure size 432x288 with 2 Axes>"
            ],
            "image/png": "[encoded data removed]"
          },
          "metadata": {
            "needs_background": "light"
          }
        }
      ]
    },
    {
      "cell_type": "code",
      "source": [
        "# Compute Recall and Precision Scores\n",
        "recall_Ada = recall_score(y_test, y_hat_Ada)\n",
        "precision_Ada = precision_score(y_test, y_hat_Ada)"
      ],
      "metadata": {
        "id": "d8gwrCJ-CFzo"
      },
      "execution_count": null,
      "outputs": []
    },
    {
      "cell_type": "code",
      "source": [
        "# Create an ROC AUC Curve\n",
        "disp = RocCurveDisplay.from_estimator(gs_Ada, X_test, y_test, name='AdaBoost')\n",
        "plt.plot([0, 1], [0, 1], linestyle='--');\n",
        "\n",
        "# Save Figure\n",
        "# plt.savefig('AdaBoost AUC.png')"
      ],
      "metadata": {
        "colab": {
          "base_uri": "https://localhost:8080/",
          "height": 279
        },
        "id": "H8wg_VDpxBCX",
        "outputId": "c5c7fa14-c217-4523-b688-ca8ba08d5ef9"
      },
      "execution_count": null,
      "outputs": [
        {
          "output_type": "display_data",
          "data": {
            "text/plain": [
              "<Figure size 432x288 with 1 Axes>"
            ],
            "image/png": "[encoded data removed]"
          },
          "metadata": {
            "needs_background": "light"
          }
        }
      ]
    },
    {
      "cell_type": "markdown",
      "source": [
        "# 12.0 Gradient Boost Model"
      ],
      "metadata": {
        "id": "rZsw-YzsJKN2"
      }
    },
    {
      "cell_type": "code",
      "source": [
        "# Construct a GradientBoosting pipeline to impute, scale, and classify\n",
        "pipe_GB = Pipeline([('imp_mean', SimpleImputer(missing_values=np.nan,\n",
        "                                                 strategy='mean')), # Impute missing data to the mean\n",
        "                      ('scaler', StandardScaler()), # Standardize the data\n",
        "                      ('GB', GradientBoostingClassifier(random_state=42))]) # Instantiate a GradientBoosting model\n",
        "\n",
        "# Create a list of estimators\n",
        "n_esimators_to_select = [1, 3, 5, 10, 20, 30, 40, 50]\n",
        "\n",
        "# Create a list of maximum depths\n",
        "max_depth = [1, 2, 3, 4, 5]\n",
        "\n",
        "# Create a list of learning rates for hyperparamter tuning\n",
        "learning_rate = [0.01, 0.1, 0.2, 0.3, 0.4, 0.5, 0.6, 0.7]\n",
        "\n",
        "# Create a parameter space for grid search\n",
        "parameters = {\n",
        "              'GB__n_estimators' : n_esimators_to_select,\n",
        "              'GB__max_depth' : max_depth,\n",
        "              'GB__learning_rate' : learning_rate,\n",
        "              }\n",
        "\n",
        "# Create grid search object\n",
        "gs_GB = GridSearchCV(pipe_GB, parameters, cv=10)\n",
        "\n",
        "# Fit the model to the training data\n",
        "gs_GB.fit(X_train, y_train)\n",
        "\n",
        "# View the best parameters\n",
        "print('Best Number of Estimators:',\n",
        "      gs_GB.best_estimator_.get_params()['GB__n_estimators'])\n",
        "# print('Best Maximum Depth:',\n",
        "    #   gs_GB.best_estimator_.get_params()['GB__max_depth'])\n",
        "print('Best Learning Rate:',\n",
        "      gs_GB.best_estimator_.get_params()['GB__learning_rate'])\n",
        "\n",
        "# Calculate the accuracy for the train data\n",
        "GB_train_accuracy = gs_GB.score(X_train, y_train)\n",
        "\n",
        "# Calculate the accuracy for the test data\n",
        "GB_test_accuracy = gs_GB.score(X_test, y_test)\n",
        "\n",
        "# Print the train data accuracy\n",
        "print('The GradientBoosting Model train accuracy (cv=10) is:',\n",
        "      (round(GB_train_accuracy*100,5)), '%')\n",
        "\n",
        "# Print the test data accuracy\n",
        "print('The GradientBoosting Model test accuracy is:',\n",
        "      (round(GB_test_accuracy*100,5)), '%')\n",
        "\n",
        "# Compute the predicted probabilities for the test data\n",
        "y_hat_GB = gs_GB.predict(X_test)\n",
        "\n",
        "# Create and plot a confusion matrix\n",
        "cm_GB = confusion_matrix(y_test, y_hat_GB)\n",
        "disp = ConfusionMatrixDisplay(confusion_matrix=cm_GB,\n",
        "                              display_labels=['Benign', 'Malignant'])\n",
        "disp.plot()\n",
        "\n",
        "# Compute and print a classification report\n",
        "GB_report = classification_report(y_test, y_hat_GB, output_dict=True)\n",
        "GB_metrics = pd.DataFrame(GB_report).transpose()\n",
        "GB_metrics\n"
      ],
      "metadata": {
        "colab": {
          "base_uri": "https://localhost:8080/",
          "height": 545
        },
        "outputId": "7e7a95f7-62f9-4e94-e23a-c1127a086abf",
        "id": "aDUHOPFl7Tzx"
      },
      "execution_count": null,
      "outputs": [
        {
          "output_type": "stream",
          "name": "stdout",
          "text": [
            "Best Number of Estimators: 10\n",
            "Best Learning Rate: 0.5\n",
            "The GradientBoosting Model train accuracy (cv=10) is: 80.69444 %\n",
            "The GradientBoosting Model test accuracy is: 80.91286 %\n"
          ]
        },
        {
          "output_type": "execute_result",
          "data": {
            "text/plain": [
              "              precision    recall  f1-score     support\n",
              "0              0.887850  0.736434  0.805085  129.000000\n",
              "1              0.746269  0.892857  0.813008  112.000000\n",
              "accuracy       0.809129  0.809129  0.809129    0.809129\n",
              "macro avg      0.817060  0.814646  0.809046  241.000000\n",
              "weighted avg   0.822053  0.809129  0.808767  241.000000"
            ],
            "text/html": [
              "\n",
              "  <div id=\"df-fa2846e4-d5b7-4cb5-bbe3-58026fa0bfb4\">\n",
              "    <div class=\"colab-df-container\">\n",
              "      <div>\n",
              "<style scoped>\n",
              "    .dataframe tbody tr th:only-of-type {\n",
              "        vertical-align: middle;\n",
              "    }\n",
              "\n",
              "    .dataframe tbody tr th {\n",
              "        vertical-align: top;\n",
              "    }\n",
              "\n",
              "    .dataframe thead th {\n",
              "        text-align: right;\n",
              "    }\n",
              "</style>\n",
              "<table border=\"1\" class=\"dataframe\">\n",
              "  <thead>\n",
              "    <tr style=\"text-align: right;\">\n",
              "      <th></th>\n",
              "      <th>precision</th>\n",
              "      <th>recall</th>\n",
              "      <th>f1-score</th>\n",
              "      <th>support</th>\n",
              "    </tr>\n",
              "  </thead>\n",
              "  <tbody>\n",
              "    <tr>\n",
              "      <th>0</th>\n",
              "      <td>0.887850</td>\n",
              "      <td>0.736434</td>\n",
              "      <td>0.805085</td>\n",
              "      <td>129.000000</td>\n",
              "    </tr>\n",
              "    <tr>\n",
              "      <th>1</th>\n",
              "      <td>0.746269</td>\n",
              "      <td>0.892857</td>\n",
              "      <td>0.813008</td>\n",
              "      <td>112.000000</td>\n",
              "    </tr>\n",
              "    <tr>\n",
              "      <th>accuracy</th>\n",
              "      <td>0.809129</td>\n",
              "      <td>0.809129</td>\n",
              "      <td>0.809129</td>\n",
              "      <td>0.809129</td>\n",
              "    </tr>\n",
              "    <tr>\n",
              "      <th>macro avg</th>\n",
              "      <td>0.817060</td>\n",
              "      <td>0.814646</td>\n",
              "      <td>0.809046</td>\n",
              "      <td>241.000000</td>\n",
              "    </tr>\n",
              "    <tr>\n",
              "      <th>weighted avg</th>\n",
              "      <td>0.822053</td>\n",
              "      <td>0.809129</td>\n",
              "      <td>0.808767</td>\n",
              "      <td>241.000000</td>\n",
              "    </tr>\n",
              "  </tbody>\n",
              "</table>\n",
              "</div>\n",
              "      <button class=\"colab-df-convert\" onclick=\"convertToInteractive('df-fa2846e4-d5b7-4cb5-bbe3-58026fa0bfb4')\"\n",
              "              title=\"Convert this dataframe to an interactive table.\"\n",
              "              style=\"display:none;\">\n",
              "        \n",
              "  <svg xmlns=\"http://www.w3.org/2000/svg\" height=\"24px\"viewBox=\"0 0 24 24\"\n",
              "       width=\"24px\">\n",
              "    <path d=\"M0 0h24v24H0V0z\" fill=\"none\"/>\n",
              "    <path d=\"M18.56 5.44l.94 2.06.94-2.06 2.06-.94-2.06-.94-.94-2.06-.94 2.06-2.06.94zm-11 1L8.5 8.5l.94-2.06 2.06-.94-2.06-.94L8.5 2.5l-.94 2.06-2.06.94zm10 10l.94 2.06.94-2.06 2.06-.94-2.06-.94-.94-2.06-.94 2.06-2.06.94z\"/><path d=\"M17.41 7.96l-1.37-1.37c-.4-.4-.92-.59-1.43-.59-.52 0-1.04.2-1.43.59L10.3 9.45l-7.72 7.72c-.78.78-.78 2.05 0 2.83L4 21.41c.39.39.9.59 1.41.59.51 0 1.02-.2 1.41-.59l7.78-7.78 2.81-2.81c.8-.78.8-2.07 0-2.86zM5.41 20L4 18.59l7.72-7.72 1.47 1.35L5.41 20z\"/>\n",
              "  </svg>\n",
              "      </button>\n",
              "      \n",
              "  <style>\n",
              "    .colab-df-container {\n",
              "      display:flex;\n",
              "      flex-wrap:wrap;\n",
              "      gap: 12px;\n",
              "    }\n",
              "\n",
              "    .colab-df-convert {\n",
              "      background-color: #E8F0FE;\n",
              "      border: none;\n",
              "      border-radius: 50%;\n",
              "      cursor: pointer;\n",
              "      display: none;\n",
              "      fill: #1967D2;\n",
              "      height: 32px;\n",
              "      padding: 0 0 0 0;\n",
              "      width: 32px;\n",
              "    }\n",
              "\n",
              "    .colab-df-convert:hover {\n",
              "      background-color: #E2EBFA;\n",
              "      box-shadow: 0px 1px 2px rgba(60, 64, 67, 0.3), 0px 1px 3px 1px rgba(60, 64, 67, 0.15);\n",
              "      fill: #174EA6;\n",
              "    }\n",
              "\n",
              "    [theme=dark] .colab-df-convert {\n",
              "      background-color: #3B4455;\n",
              "      fill: #D2E3FC;\n",
              "    }\n",
              "\n",
              "    [theme=dark] .colab-df-convert:hover {\n",
              "      background-color: #434B5C;\n",
              "      box-shadow: 0px 1px 3px 1px rgba(0, 0, 0, 0.15);\n",
              "      filter: drop-shadow(0px 1px 2px rgba(0, 0, 0, 0.3));\n",
              "      fill: #FFFFFF;\n",
              "    }\n",
              "  </style>\n",
              "\n",
              "      <script>\n",
              "        const buttonEl =\n",
              "          document.querySelector('#df-fa2846e4-d5b7-4cb5-bbe3-58026fa0bfb4 button.colab-df-convert');\n",
              "        buttonEl.style.display =\n",
              "          google.colab.kernel.accessAllowed ? 'block' : 'none';\n",
              "\n",
              "        async function convertToInteractive(key) {\n",
              "          const element = document.querySelector('#df-fa2846e4-d5b7-4cb5-bbe3-58026fa0bfb4');\n",
              "          const dataTable =\n",
              "            await google.colab.kernel.invokeFunction('convertToInteractive',\n",
              "                                                     [key], {});\n",
              "          if (!dataTable) return;\n",
              "\n",
              "          const docLinkHtml = 'Like what you see? Visit the ' +\n",
              "            '<a target=\"_blank\" href=https://colab.research.google.com/notebooks/data_table.ipynb>data table notebook</a>'\n",
              "            + ' to learn more about interactive tables.';\n",
              "          element.innerHTML = '';\n",
              "          dataTable['output_type'] = 'display_data';\n",
              "          await google.colab.output.renderOutput(dataTable, element);\n",
              "          const docLink = document.createElement('div');\n",
              "          docLink.innerHTML = docLinkHtml;\n",
              "          element.appendChild(docLink);\n",
              "        }\n",
              "      </script>\n",
              "    </div>\n",
              "  </div>\n",
              "  "
            ]
          },
          "metadata": {},
          "execution_count": 37
        },
        {
          "output_type": "display_data",
          "data": {
            "text/plain": [
              "<Figure size 432x288 with 2 Axes>"
            ],
            "image/png": "[encoded data removed]"
          },
          "metadata": {
            "needs_background": "light"
          }
        }
      ]
    },
    {
      "cell_type": "code",
      "source": [
        "# Compute Recall and Precision Scores\n",
        "recall_GB = recall_score(y_test, y_hat_GB)\n",
        "precision_GB = precision_score(y_test, y_hat_GB)"
      ],
      "metadata": {
        "id": "8YhlTdEfCYQu"
      },
      "execution_count": null,
      "outputs": []
    },
    {
      "cell_type": "code",
      "source": [
        "# Create an ROC AUC Curve\n",
        "disp = RocCurveDisplay.from_estimator(gs_GB, X_test, y_test, name='Gradient Boost')\n",
        "plt.plot([0, 1], [0, 1], linestyle='--');"
      ],
      "metadata": {
        "colab": {
          "base_uri": "https://localhost:8080/",
          "height": 279
        },
        "id": "ePV7V56LxG4t",
        "outputId": "4c08c33a-7a4e-4a93-efc6-a4663b27bcff"
      },
      "execution_count": null,
      "outputs": [
        {
          "output_type": "display_data",
          "data": {
            "text/plain": [
              "<Figure size 432x288 with 1 Axes>"
            ],
            "image/png": "[encoded data removed]"
          },
          "metadata": {
            "needs_background": "light"
          }
        }
      ]
    },
    {
      "cell_type": "markdown",
      "source": [
        "#13.0 Results\n",
        "--- ---"
      ],
      "metadata": {
        "id": "sqgpmDB6KcQ0"
      }
    },
    {
      "cell_type": "code",
      "source": [
        "# Present Results\n",
        "classifier_df = pd.DataFrame(['Logistic Regression', 'K_Nearest Neighbors',\n",
        "                              'Support Vector Machine', 'Decision Tree', 'Random Forest',\n",
        "                              'AdaBoost', 'GradientBoost'])\n",
        "\n",
        "train_results_df = pd.DataFrame([gs_logreg_train_accuracy, knn_train_accuracy,\n",
        "                              gs_SVC_train_accuracy, tree_train_accuracy,\n",
        "                              RF_train_accuracy, Ada_train_accuracy,\n",
        "                              GB_train_accuracy])\n",
        "\n",
        "test_results_df = pd.DataFrame([log_reg_test_accuracy, knn_test_accuracy,\n",
        "                             gs_SVC_test_accuracy, tree_test_accuracy,\n",
        "                             RF_test_accuracy, Ada_test_accuracy,\n",
        "                             GB_test_accuracy])\n",
        "\n",
        "test_recall_df = pd.DataFrame([recall_logreg, recall_knn, recall_svc, recall_tree,\n",
        "                               recall_RF_tree, recall_Ada, recall_GB])\n",
        "\n",
        "test_precision_df = pd.DataFrame([precision_logreg, precision_knn, precision_svc,\n",
        "                                  precision_tree, precision_RF_tree,\n",
        "                                  precision_Ada, precision_GB])\n",
        "\n",
        "# Create DataFrame containin results\n",
        "results_df = pd.concat([classifier_df, train_results_df, test_results_df,\n",
        "                        test_recall_df, test_precision_df], axis=1)\n",
        "results_df.columns =['Model', 'Training Accuracy', 'Test Accuracy', 'Test Recall', 'Test Precision']\n",
        "results_df['Training Accuracy'] = results_df['Training Accuracy']*100\n",
        "results_df['Test Accuracy'] = results_df['Test Accuracy']*100\n",
        "results_df['Test Recall'] = results_df['Test Recall']*100\n",
        "results_df['Test Precision'] = results_df['Test Precision']*100\n",
        "\n",
        "# Print the results DataFrame\n",
        "results_df"
      ],
      "metadata": {
        "colab": {
          "base_uri": "https://localhost:8080/",
          "height": 269
        },
        "id": "tAcgfuRZNNVp",
        "outputId": "e0e3dc3c-fc24-4044-ec93-82c1ff75ae19"
      },
      "execution_count": null,
      "outputs": [
        {
          "output_type": "execute_result",
          "data": {
            "text/plain": [
              "                    Model  Training Accuracy  Test Accuracy  Test Recall  \\\n",
              "0     Logistic Regression          81.250000      80.497925    88.392857   \n",
              "1     K_Nearest Neighbors          80.555556      79.253112    88.392857   \n",
              "2  Support Vector Machine          82.777778      79.253112    84.821429   \n",
              "3           Decision Tree          82.222222      79.668050    88.392857   \n",
              "4           Random Forest          82.222222      82.572614    89.285714   \n",
              "5                AdaBoost          81.388889      82.987552    90.178571   \n",
              "6           GradientBoost          80.694444      80.912863    89.285714   \n",
              "\n",
              "   Test Precision  \n",
              "0       74.436090  \n",
              "1       72.794118  \n",
              "2       74.218750  \n",
              "3       73.333333  \n",
              "4       76.923077  \n",
              "5       77.099237  \n",
              "6       74.626866  "
            ],
            "text/html": [
              "\n",
              "  <div id=\"df-d3371156-2dfa-433d-8606-0537505f3b86\">\n",
              "    <div class=\"colab-df-container\">\n",
              "      <div>\n",
              "<style scoped>\n",
              "    .dataframe tbody tr th:only-of-type {\n",
              "        vertical-align: middle;\n",
              "    }\n",
              "\n",
              "    .dataframe tbody tr th {\n",
              "        vertical-align: top;\n",
              "    }\n",
              "\n",
              "    .dataframe thead th {\n",
              "        text-align: right;\n",
              "    }\n",
              "</style>\n",
              "<table border=\"1\" class=\"dataframe\">\n",
              "  <thead>\n",
              "    <tr style=\"text-align: right;\">\n",
              "      <th></th>\n",
              "      <th>Model</th>\n",
              "      <th>Training Accuracy</th>\n",
              "      <th>Test Accuracy</th>\n",
              "      <th>Test Recall</th>\n",
              "      <th>Test Precision</th>\n",
              "    </tr>\n",
              "  </thead>\n",
              "  <tbody>\n",
              "    <tr>\n",
              "      <th>0</th>\n",
              "      <td>Logistic Regression</td>\n",
              "      <td>81.250000</td>\n",
              "      <td>80.497925</td>\n",
              "      <td>88.392857</td>\n",
              "      <td>74.436090</td>\n",
              "    </tr>\n",
              "    <tr>\n",
              "      <th>1</th>\n",
              "      <td>K_Nearest Neighbors</td>\n",
              "      <td>80.555556</td>\n",
              "      <td>79.253112</td>\n",
              "      <td>88.392857</td>\n",
              "      <td>72.794118</td>\n",
              "    </tr>\n",
              "    <tr>\n",
              "      <th>2</th>\n",
              "      <td>Support Vector Machine</td>\n",
              "      <td>82.777778</td>\n",
              "      <td>79.253112</td>\n",
              "      <td>84.821429</td>\n",
              "      <td>74.218750</td>\n",
              "    </tr>\n",
              "    <tr>\n",
              "      <th>3</th>\n",
              "      <td>Decision Tree</td>\n",
              "      <td>82.222222</td>\n",
              "      <td>79.668050</td>\n",
              "      <td>88.392857</td>\n",
              "      <td>73.333333</td>\n",
              "    </tr>\n",
              "    <tr>\n",
              "      <th>4</th>\n",
              "      <td>Random Forest</td>\n",
              "      <td>82.222222</td>\n",
              "      <td>82.572614</td>\n",
              "      <td>89.285714</td>\n",
              "      <td>76.923077</td>\n",
              "    </tr>\n",
              "    <tr>\n",
              "      <th>5</th>\n",
              "      <td>AdaBoost</td>\n",
              "      <td>81.388889</td>\n",
              "      <td>82.987552</td>\n",
              "      <td>90.178571</td>\n",
              "      <td>77.099237</td>\n",
              "    </tr>\n",
              "    <tr>\n",
              "      <th>6</th>\n",
              "      <td>GradientBoost</td>\n",
              "      <td>80.694444</td>\n",
              "      <td>80.912863</td>\n",
              "      <td>89.285714</td>\n",
              "      <td>74.626866</td>\n",
              "    </tr>\n",
              "  </tbody>\n",
              "</table>\n",
              "</div>\n",
              "      <button class=\"colab-df-convert\" onclick=\"convertToInteractive('df-d3371156-2dfa-433d-8606-0537505f3b86')\"\n",
              "              title=\"Convert this dataframe to an interactive table.\"\n",
              "              style=\"display:none;\">\n",
              "        \n",
              "  <svg xmlns=\"http://www.w3.org/2000/svg\" height=\"24px\"viewBox=\"0 0 24 24\"\n",
              "       width=\"24px\">\n",
              "    <path d=\"M0 0h24v24H0V0z\" fill=\"none\"/>\n",
              "    <path d=\"M18.56 5.44l.94 2.06.94-2.06 2.06-.94-2.06-.94-.94-2.06-.94 2.06-2.06.94zm-11 1L8.5 8.5l.94-2.06 2.06-.94-2.06-.94L8.5 2.5l-.94 2.06-2.06.94zm10 10l.94 2.06.94-2.06 2.06-.94-2.06-.94-.94-2.06-.94 2.06-2.06.94z\"/><path d=\"M17.41 7.96l-1.37-1.37c-.4-.4-.92-.59-1.43-.59-.52 0-1.04.2-1.43.59L10.3 9.45l-7.72 7.72c-.78.78-.78 2.05 0 2.83L4 21.41c.39.39.9.59 1.41.59.51 0 1.02-.2 1.41-.59l7.78-7.78 2.81-2.81c.8-.78.8-2.07 0-2.86zM5.41 20L4 18.59l7.72-7.72 1.47 1.35L5.41 20z\"/>\n",
              "  </svg>\n",
              "      </button>\n",
              "      \n",
              "  <style>\n",
              "    .colab-df-container {\n",
              "      display:flex;\n",
              "      flex-wrap:wrap;\n",
              "      gap: 12px;\n",
              "    }\n",
              "\n",
              "    .colab-df-convert {\n",
              "      background-color: #E8F0FE;\n",
              "      border: none;\n",
              "      border-radius: 50%;\n",
              "      cursor: pointer;\n",
              "      display: none;\n",
              "      fill: #1967D2;\n",
              "      height: 32px;\n",
              "      padding: 0 0 0 0;\n",
              "      width: 32px;\n",
              "    }\n",
              "\n",
              "    .colab-df-convert:hover {\n",
              "      background-color: #E2EBFA;\n",
              "      box-shadow: 0px 1px 2px rgba(60, 64, 67, 0.3), 0px 1px 3px 1px rgba(60, 64, 67, 0.15);\n",
              "      fill: #174EA6;\n",
              "    }\n",
              "\n",
              "    [theme=dark] .colab-df-convert {\n",
              "      background-color: #3B4455;\n",
              "      fill: #D2E3FC;\n",
              "    }\n",
              "\n",
              "    [theme=dark] .colab-df-convert:hover {\n",
              "      background-color: #434B5C;\n",
              "      box-shadow: 0px 1px 3px 1px rgba(0, 0, 0, 0.15);\n",
              "      filter: drop-shadow(0px 1px 2px rgba(0, 0, 0, 0.3));\n",
              "      fill: #FFFFFF;\n",
              "    }\n",
              "  </style>\n",
              "\n",
              "      <script>\n",
              "        const buttonEl =\n",
              "          document.querySelector('#df-d3371156-2dfa-433d-8606-0537505f3b86 button.colab-df-convert');\n",
              "        buttonEl.style.display =\n",
              "          google.colab.kernel.accessAllowed ? 'block' : 'none';\n",
              "\n",
              "        async function convertToInteractive(key) {\n",
              "          const element = document.querySelector('#df-d3371156-2dfa-433d-8606-0537505f3b86');\n",
              "          const dataTable =\n",
              "            await google.colab.kernel.invokeFunction('convertToInteractive',\n",
              "                                                     [key], {});\n",
              "          if (!dataTable) return;\n",
              "\n",
              "          const docLinkHtml = 'Like what you see? Visit the ' +\n",
              "            '<a target=\"_blank\" href=https://colab.research.google.com/notebooks/data_table.ipynb>data table notebook</a>'\n",
              "            + ' to learn more about interactive tables.';\n",
              "          element.innerHTML = '';\n",
              "          dataTable['output_type'] = 'display_data';\n",
              "          await google.colab.output.renderOutput(dataTable, element);\n",
              "          const docLink = document.createElement('div');\n",
              "          docLink.innerHTML = docLinkHtml;\n",
              "          element.appendChild(docLink);\n",
              "        }\n",
              "      </script>\n",
              "    </div>\n",
              "  </div>\n",
              "  "
            ]
          },
          "metadata": {},
          "execution_count": 40
        }
      ]
    },
    {
      "cell_type": "markdown",
      "source": [
        "## 13.1 Training Accuracy"
      ],
      "metadata": {
        "id": "tURJxbpDyJ02"
      }
    },
    {
      "cell_type": "code",
      "source": [
        "# Display the Training Results\n",
        "fig = px.bar(results_df, # DataFrame\n",
        "             x='Training Accuracy', # X axis\n",
        "             y='Model', # y axis\n",
        "             orientation='h', # horizontal orientation\n",
        "             title='<b>Training Data % Accuracy<b>', # Bold Title\n",
        "             width=1000, # Set figure width\n",
        "             height=600, # Set figure height\n",
        "             text_auto=True, # Turn on bar totals\n",
        "             color='Model', # column to color by\n",
        "             color_discrete_sequence=px.colors.qualitative.G10, # Color Pallete\n",
        "             )\n",
        "\n",
        "fig.update_layout(title_x=.5, # Centers the Title\n",
        "                  titlefont={'size': 24}, # title size\n",
        "                  barmode='stack', # Stack the bars\n",
        "                  yaxis={'categoryorder' : 'total ascending'}, # descending order                 \n",
        "                  )\n",
        "fig.show()\n",
        "\n",
        "# fig.write_image(\"Training.png\", engine=\"kaleido\")\n"
      ],
      "metadata": {
        "colab": {
          "base_uri": "https://localhost:8080/",
          "height": 617
        },
        "id": "erXvH7CqNP30",
        "outputId": "b668697f-9d44-4f24-adc7-1494a13fd516"
      },
      "execution_count": null,
      "outputs": [
        {
          "output_type": "display_data",
          "data": {
            "text/html": [
              "<html>\n",
              "<head><meta charset=\"utf-8\" /></head>\n",
              "<body>\n",
              "    <div>            <script src=\"https://cdnjs.cloudflare.com/ajax/libs/mathjax/2.7.5/MathJax.js?config=TeX-AMS-MML_SVG\"></script><script type=\"text/javascript\">if (window.MathJax) {MathJax.Hub.Config({SVG: {font: \"STIX-Web\"}});}</script>                <script type=\"text/javascript\">window.PlotlyConfig = {MathJaxConfig: 'local'};</script>\n",
              "        <script src=\"https://cdn.plot.ly/plotly-2.8.3.min.js\"></script>                <div id=\"b670028e-b912-4d90-a5fb-e702da2c4c53\" class=\"plotly-graph-div\" style=\"height:600px; width:1000px;\"></div>            <script type=\"text/javascript\">                                    window.PLOTLYENV=window.PLOTLYENV || {};                                    if (document.getElementById(\"b670028e-b912-4d90-a5fb-e702da2c4c53\")) {                    Plotly.newPlot(                        \"b670028e-b912-4d90-a5fb-e702da2c4c53\",                        [{\"alignmentgroup\":\"True\",\"hovertemplate\":\"Model=%{y}<br>Training Accuracy=%{x}<extra></extra>\",\"legendgroup\":\"Logistic Regression\",\"marker\":{\"color\":\"#3366CC\",\"pattern\":{\"shape\":\"\"}},\"name\":\"Logistic Regression\",\"offsetgroup\":\"Logistic Regression\",\"orientation\":\"h\",\"showlegend\":true,\"textposition\":\"auto\",\"texttemplate\":\"%{x}\",\"x\":[81.25],\"xaxis\":\"x\",\"y\":[\"Logistic Regression\"],\"yaxis\":\"y\",\"type\":\"bar\"},{\"alignmentgroup\":\"True\",\"hovertemplate\":\"Model=%{y}<br>Training Accuracy=%{x}<extra></extra>\",\"legendgroup\":\"K_Nearest Neighbors\",\"marker\":{\"color\":\"#DC3912\",\"pattern\":{\"shape\":\"\"}},\"name\":\"K_Nearest Neighbors\",\"offsetgroup\":\"K_Nearest Neighbors\",\"orientation\":\"h\",\"showlegend\":true,\"textposition\":\"auto\",\"texttemplate\":\"%{x}\",\"x\":[80.55555555555556],\"xaxis\":\"x\",\"y\":[\"K_Nearest Neighbors\"],\"yaxis\":\"y\",\"type\":\"bar\"},{\"alignmentgroup\":\"True\",\"hovertemplate\":\"Model=%{y}<br>Training Accuracy=%{x}<extra></extra>\",\"legendgroup\":\"Support Vector Machine\",\"marker\":{\"color\":\"#FF9900\",\"pattern\":{\"shape\":\"\"}},\"name\":\"Support Vector Machine\",\"offsetgroup\":\"Support Vector Machine\",\"orientation\":\"h\",\"showlegend\":true,\"textposition\":\"auto\",\"texttemplate\":\"%{x}\",\"x\":[82.77777777777777],\"xaxis\":\"x\",\"y\":[\"Support Vector Machine\"],\"yaxis\":\"y\",\"type\":\"bar\"},{\"alignmentgroup\":\"True\",\"hovertemplate\":\"Model=%{y}<br>Training Accuracy=%{x}<extra></extra>\",\"legendgroup\":\"Decision Tree\",\"marker\":{\"color\":\"#109618\",\"pattern\":{\"shape\":\"\"}},\"name\":\"Decision Tree\",\"offsetgroup\":\"Decision Tree\",\"orientation\":\"h\",\"showlegend\":true,\"textposition\":\"auto\",\"texttemplate\":\"%{x}\",\"x\":[82.22222222222221],\"xaxis\":\"x\",\"y\":[\"Decision Tree\"],\"yaxis\":\"y\",\"type\":\"bar\"},{\"alignmentgroup\":\"True\",\"hovertemplate\":\"Model=%{y}<br>Training Accuracy=%{x}<extra></extra>\",\"legendgroup\":\"Random Forest\",\"marker\":{\"color\":\"#990099\",\"pattern\":{\"shape\":\"\"}},\"name\":\"Random Forest\",\"offsetgroup\":\"Random Forest\",\"orientation\":\"h\",\"showlegend\":true,\"textposition\":\"auto\",\"texttemplate\":\"%{x}\",\"x\":[82.22222222222221],\"xaxis\":\"x\",\"y\":[\"Random Forest\"],\"yaxis\":\"y\",\"type\":\"bar\"},{\"alignmentgroup\":\"True\",\"hovertemplate\":\"Model=%{y}<br>Training Accuracy=%{x}<extra></extra>\",\"legendgroup\":\"AdaBoost\",\"marker\":{\"color\":\"#0099C6\",\"pattern\":{\"shape\":\"\"}},\"name\":\"AdaBoost\",\"offsetgroup\":\"AdaBoost\",\"orientation\":\"h\",\"showlegend\":true,\"textposition\":\"auto\",\"texttemplate\":\"%{x}\",\"x\":[81.38888888888889],\"xaxis\":\"x\",\"y\":[\"AdaBoost\"],\"yaxis\":\"y\",\"type\":\"bar\"},{\"alignmentgroup\":\"True\",\"hovertemplate\":\"Model=%{y}<br>Training Accuracy=%{x}<extra></extra>\",\"legendgroup\":\"GradientBoost\",\"marker\":{\"color\":\"#DD4477\",\"pattern\":{\"shape\":\"\"}},\"name\":\"GradientBoost\",\"offsetgroup\":\"GradientBoost\",\"orientation\":\"h\",\"showlegend\":true,\"textposition\":\"auto\",\"texttemplate\":\"%{x}\",\"x\":[80.69444444444444],\"xaxis\":\"x\",\"y\":[\"GradientBoost\"],\"yaxis\":\"y\",\"type\":\"bar\"}],                        {\"template\":{\"data\":{\"bar\":[{\"error_x\":{\"color\":\"#2a3f5f\"},\"error_y\":{\"color\":\"#2a3f5f\"},\"marker\":{\"line\":{\"color\":\"#E5ECF6\",\"width\":0.5},\"pattern\":{\"fillmode\":\"overlay\",\"size\":10,\"solidity\":0.2}},\"type\":\"bar\"}],\"barpolar\":[{\"marker\":{\"line\":{\"color\":\"#E5ECF6\",\"width\":0.5},\"pattern\":{\"fillmode\":\"overlay\",\"size\":10,\"solidity\":0.2}},\"type\":\"barpolar\"}],\"carpet\":[{\"aaxis\":{\"endlinecolor\":\"#2a3f5f\",\"gridcolor\":\"white\",\"linecolor\":\"white\",\"minorgridcolor\":\"white\",\"startlinecolor\":\"#2a3f5f\"},\"baxis\":{\"endlinecolor\":\"#2a3f5f\",\"gridcolor\":\"white\",\"linecolor\":\"white\",\"minorgridcolor\":\"white\",\"startlinecolor\":\"#2a3f5f\"},\"type\":\"carpet\"}],\"choropleth\":[{\"colorbar\":{\"outlinewidth\":0,\"ticks\":\"\"},\"type\":\"choropleth\"}],\"contour\":[{\"colorbar\":{\"outlinewidth\":0,\"ticks\":\"\"},\"colorscale\":[[0.0,\"#0d0887\"],[0.1111111111111111,\"#46039f\"],[0.2222222222222222,\"#7201a8\"],[0.3333333333333333,\"#9c179e\"],[0.4444444444444444,\"#bd3786\"],[0.5555555555555556,\"#d8576b\"],[0.6666666666666666,\"#ed7953\"],[0.7777777777777778,\"#fb9f3a\"],[0.8888888888888888,\"#fdca26\"],[1.0,\"#f0f921\"]],\"type\":\"contour\"}],\"contourcarpet\":[{\"colorbar\":{\"outlinewidth\":0,\"ticks\":\"\"},\"type\":\"contourcarpet\"}],\"heatmap\":[{\"colorbar\":{\"outlinewidth\":0,\"ticks\":\"\"},\"colorscale\":[[0.0,\"#0d0887\"],[0.1111111111111111,\"#46039f\"],[0.2222222222222222,\"#7201a8\"],[0.3333333333333333,\"#9c179e\"],[0.4444444444444444,\"#bd3786\"],[0.5555555555555556,\"#d8576b\"],[0.6666666666666666,\"#ed7953\"],[0.7777777777777778,\"#fb9f3a\"],[0.8888888888888888,\"#fdca26\"],[1.0,\"#f0f921\"]],\"type\":\"heatmap\"}],\"heatmapgl\":[{\"colorbar\":{\"outlinewidth\":0,\"ticks\":\"\"},\"colorscale\":[[0.0,\"#0d0887\"],[0.1111111111111111,\"#46039f\"],[0.2222222222222222,\"#7201a8\"],[0.3333333333333333,\"#9c179e\"],[0.4444444444444444,\"#bd3786\"],[0.5555555555555556,\"#d8576b\"],[0.6666666666666666,\"#ed7953\"],[0.7777777777777778,\"#fb9f3a\"],[0.8888888888888888,\"#fdca26\"],[1.0,\"#f0f921\"]],\"type\":\"heatmapgl\"}],\"histogram\":[{\"marker\":{\"pattern\":{\"fillmode\":\"overlay\",\"size\":10,\"solidity\":0.2}},\"type\":\"histogram\"}],\"histogram2d\":[{\"colorbar\":{\"outlinewidth\":0,\"ticks\":\"\"},\"colorscale\":[[0.0,\"#0d0887\"],[0.1111111111111111,\"#46039f\"],[0.2222222222222222,\"#7201a8\"],[0.3333333333333333,\"#9c179e\"],[0.4444444444444444,\"#bd3786\"],[0.5555555555555556,\"#d8576b\"],[0.6666666666666666,\"#ed7953\"],[0.7777777777777778,\"#fb9f3a\"],[0.8888888888888888,\"#fdca26\"],[1.0,\"#f0f921\"]],\"type\":\"histogram2d\"}],\"histogram2dcontour\":[{\"colorbar\":{\"outlinewidth\":0,\"ticks\":\"\"},\"colorscale\":[[0.0,\"#0d0887\"],[0.1111111111111111,\"#46039f\"],[0.2222222222222222,\"#7201a8\"],[0.3333333333333333,\"#9c179e\"],[0.4444444444444444,\"#bd3786\"],[0.5555555555555556,\"#d8576b\"],[0.6666666666666666,\"#ed7953\"],[0.7777777777777778,\"#fb9f3a\"],[0.8888888888888888,\"#fdca26\"],[1.0,\"#f0f921\"]],\"type\":\"histogram2dcontour\"}],\"mesh3d\":[{\"colorbar\":{\"outlinewidth\":0,\"ticks\":\"\"},\"type\":\"mesh3d\"}],\"parcoords\":[{\"line\":{\"colorbar\":{\"outlinewidth\":0,\"ticks\":\"\"}},\"type\":\"parcoords\"}],\"pie\":[{\"automargin\":true,\"type\":\"pie\"}],\"scatter\":[{\"marker\":{\"colorbar\":{\"outlinewidth\":0,\"ticks\":\"\"}},\"type\":\"scatter\"}],\"scatter3d\":[{\"line\":{\"colorbar\":{\"outlinewidth\":0,\"ticks\":\"\"}},\"marker\":{\"colorbar\":{\"outlinewidth\":0,\"ticks\":\"\"}},\"type\":\"scatter3d\"}],\"scattercarpet\":[{\"marker\":{\"colorbar\":{\"outlinewidth\":0,\"ticks\":\"\"}},\"type\":\"scattercarpet\"}],\"scattergeo\":[{\"marker\":{\"colorbar\":{\"outlinewidth\":0,\"ticks\":\"\"}},\"type\":\"scattergeo\"}],\"scattergl\":[{\"marker\":{\"colorbar\":{\"outlinewidth\":0,\"ticks\":\"\"}},\"type\":\"scattergl\"}],\"scattermapbox\":[{\"marker\":{\"colorbar\":{\"outlinewidth\":0,\"ticks\":\"\"}},\"type\":\"scattermapbox\"}],\"scatterpolar\":[{\"marker\":{\"colorbar\":{\"outlinewidth\":0,\"ticks\":\"\"}},\"type\":\"scatterpolar\"}],\"scatterpolargl\":[{\"marker\":{\"colorbar\":{\"outlinewidth\":0,\"ticks\":\"\"}},\"type\":\"scatterpolargl\"}],\"scatterternary\":[{\"marker\":{\"colorbar\":{\"outlinewidth\":0,\"ticks\":\"\"}},\"type\":\"scatterternary\"}],\"surface\":[{\"colorbar\":{\"outlinewidth\":0,\"ticks\":\"\"},\"colorscale\":[[0.0,\"#0d0887\"],[0.1111111111111111,\"#46039f\"],[0.2222222222222222,\"#7201a8\"],[0.3333333333333333,\"#9c179e\"],[0.4444444444444444,\"#bd3786\"],[0.5555555555555556,\"#d8576b\"],[0.6666666666666666,\"#ed7953\"],[0.7777777777777778,\"#fb9f3a\"],[0.8888888888888888,\"#fdca26\"],[1.0,\"#f0f921\"]],\"type\":\"surface\"}],\"table\":[{\"cells\":{\"fill\":{\"color\":\"#EBF0F8\"},\"line\":{\"color\":\"white\"}},\"header\":{\"fill\":{\"color\":\"#C8D4E3\"},\"line\":{\"color\":\"white\"}},\"type\":\"table\"}]},\"layout\":{\"annotationdefaults\":{\"arrowcolor\":\"#2a3f5f\",\"arrowhead\":0,\"arrowwidth\":1},\"autotypenumbers\":\"strict\",\"coloraxis\":{\"colorbar\":{\"outlinewidth\":0,\"ticks\":\"\"}},\"colorscale\":{\"diverging\":[[0,\"#8e0152\"],[0.1,\"#c51b7d\"],[0.2,\"#de77ae\"],[0.3,\"#f1b6da\"],[0.4,\"#fde0ef\"],[0.5,\"#f7f7f7\"],[0.6,\"#e6f5d0\"],[0.7,\"#b8e186\"],[0.8,\"#7fbc41\"],[0.9,\"#4d9221\"],[1,\"#276419\"]],\"sequential\":[[0.0,\"#0d0887\"],[0.1111111111111111,\"#46039f\"],[0.2222222222222222,\"#7201a8\"],[0.3333333333333333,\"#9c179e\"],[0.4444444444444444,\"#bd3786\"],[0.5555555555555556,\"#d8576b\"],[0.6666666666666666,\"#ed7953\"],[0.7777777777777778,\"#fb9f3a\"],[0.8888888888888888,\"#fdca26\"],[1.0,\"#f0f921\"]],\"sequentialminus\":[[0.0,\"#0d0887\"],[0.1111111111111111,\"#46039f\"],[0.2222222222222222,\"#7201a8\"],[0.3333333333333333,\"#9c179e\"],[0.4444444444444444,\"#bd3786\"],[0.5555555555555556,\"#d8576b\"],[0.6666666666666666,\"#ed7953\"],[0.7777777777777778,\"#fb9f3a\"],[0.8888888888888888,\"#fdca26\"],[1.0,\"#f0f921\"]]},\"colorway\":[\"#636efa\",\"#EF553B\",\"#00cc96\",\"#ab63fa\",\"#FFA15A\",\"#19d3f3\",\"#FF6692\",\"#B6E880\",\"#FF97FF\",\"#FECB52\"],\"font\":{\"color\":\"#2a3f5f\"},\"geo\":{\"bgcolor\":\"white\",\"lakecolor\":\"white\",\"landcolor\":\"#E5ECF6\",\"showlakes\":true,\"showland\":true,\"subunitcolor\":\"white\"},\"hoverlabel\":{\"align\":\"left\"},\"hovermode\":\"closest\",\"mapbox\":{\"style\":\"light\"},\"paper_bgcolor\":\"white\",\"plot_bgcolor\":\"#E5ECF6\",\"polar\":{\"angularaxis\":{\"gridcolor\":\"white\",\"linecolor\":\"white\",\"ticks\":\"\"},\"bgcolor\":\"#E5ECF6\",\"radialaxis\":{\"gridcolor\":\"white\",\"linecolor\":\"white\",\"ticks\":\"\"}},\"scene\":{\"xaxis\":{\"backgroundcolor\":\"#E5ECF6\",\"gridcolor\":\"white\",\"gridwidth\":2,\"linecolor\":\"white\",\"showbackground\":true,\"ticks\":\"\",\"zerolinecolor\":\"white\"},\"yaxis\":{\"backgroundcolor\":\"#E5ECF6\",\"gridcolor\":\"white\",\"gridwidth\":2,\"linecolor\":\"white\",\"showbackground\":true,\"ticks\":\"\",\"zerolinecolor\":\"white\"},\"zaxis\":{\"backgroundcolor\":\"#E5ECF6\",\"gridcolor\":\"white\",\"gridwidth\":2,\"linecolor\":\"white\",\"showbackground\":true,\"ticks\":\"\",\"zerolinecolor\":\"white\"}},\"shapedefaults\":{\"line\":{\"color\":\"#2a3f5f\"}},\"ternary\":{\"aaxis\":{\"gridcolor\":\"white\",\"linecolor\":\"white\",\"ticks\":\"\"},\"baxis\":{\"gridcolor\":\"white\",\"linecolor\":\"white\",\"ticks\":\"\"},\"bgcolor\":\"#E5ECF6\",\"caxis\":{\"gridcolor\":\"white\",\"linecolor\":\"white\",\"ticks\":\"\"}},\"title\":{\"x\":0.05},\"xaxis\":{\"automargin\":true,\"gridcolor\":\"white\",\"linecolor\":\"white\",\"ticks\":\"\",\"title\":{\"standoff\":15},\"zerolinecolor\":\"white\",\"zerolinewidth\":2},\"yaxis\":{\"automargin\":true,\"gridcolor\":\"white\",\"linecolor\":\"white\",\"ticks\":\"\",\"title\":{\"standoff\":15},\"zerolinecolor\":\"white\",\"zerolinewidth\":2}}},\"xaxis\":{\"anchor\":\"y\",\"domain\":[0.0,1.0],\"title\":{\"text\":\"Training Accuracy\"}},\"yaxis\":{\"anchor\":\"x\",\"domain\":[0.0,1.0],\"title\":{\"text\":\"Model\"},\"categoryorder\":\"total ascending\",\"categoryarray\":[\"GradientBoost\",\"AdaBoost\",\"Random Forest\",\"Decision Tree\",\"Support Vector Machine\",\"K_Nearest Neighbors\",\"Logistic Regression\"]},\"legend\":{\"title\":{\"text\":\"Model\"},\"tracegroupgap\":0},\"title\":{\"text\":\"<b>Training Data % Accuracy<b>\",\"font\":{\"size\":24},\"x\":0.5},\"barmode\":\"stack\",\"height\":600,\"width\":1000},                        {\"responsive\": true}                    ).then(function(){\n",
              "                            \n",
              "var gd = document.getElementById('b670028e-b912-4d90-a5fb-e702da2c4c53');\n",
              "var x = new MutationObserver(function (mutations, observer) {{\n",
              "        var display = window.getComputedStyle(gd).display;\n",
              "        if (!display || display === 'none') {{\n",
              "            console.log([gd, 'removed!']);\n",
              "            Plotly.purge(gd);\n",
              "            observer.disconnect();\n",
              "        }}\n",
              "}});\n",
              "\n",
              "// Listen for the removal of the full notebook cells\n",
              "var notebookContainer = gd.closest('#notebook-container');\n",
              "if (notebookContainer) {{\n",
              "    x.observe(notebookContainer, {childList: true});\n",
              "}}\n",
              "\n",
              "// Listen for the clearing of the current output cell\n",
              "var outputEl = gd.closest('.output');\n",
              "if (outputEl) {{\n",
              "    x.observe(outputEl, {childList: true});\n",
              "}}\n",
              "\n",
              "                        })                };                            </script>        </div>\n",
              "</body>\n",
              "</html>"
            ]
          },
          "metadata": {}
        }
      ]
    },
    {
      "cell_type": "markdown",
      "source": [
        "## 13.2 Test Accuracy"
      ],
      "metadata": {
        "id": "ikpdYTdMyPZ8"
      }
    },
    {
      "cell_type": "code",
      "source": [
        "# Display the Test Results\n",
        "fig = px.bar(results_df, # DataFrame\n",
        "             x='Test Accuracy', # X axis\n",
        "             y='Model', # y axis\n",
        "             orientation='h', # horizontal orientation\n",
        "             title='<b>Test Data % Accuracy<b>', # Bold Title\n",
        "             width=1000, # Set figure width\n",
        "             height=600, # Set figure height\n",
        "             text_auto=True, # Turn on bar totals\n",
        "             color='Model', # column to color by\n",
        "             color_discrete_sequence=px.colors.qualitative.G10, # Color Pallete\n",
        "             )\n",
        "\n",
        "fig.update_layout(title_x=.5, # Centers the Title\n",
        "                  titlefont={'size': 24}, # title size\n",
        "                  barmode='stack', # Stack the bars\n",
        "                  yaxis={'categoryorder' : 'total ascending'}, # descending order\n",
        "                  )\n",
        "fig.show()\n",
        "\n",
        "# fig.write_image(\"Test.png\", engine=\"kaleido\")\n"
      ],
      "metadata": {
        "colab": {
          "base_uri": "https://localhost:8080/",
          "height": 617
        },
        "id": "EWYqX9hKNSH2",
        "outputId": "143f2b57-45fa-46fb-df57-57d7414689af"
      },
      "execution_count": null,
      "outputs": [
        {
          "output_type": "display_data",
          "data": {
            "text/html": [
              "<html>\n",
              "<head><meta charset=\"utf-8\" /></head>\n",
              "<body>\n",
              "    <div>            <script src=\"https://cdnjs.cloudflare.com/ajax/libs/mathjax/2.7.5/MathJax.js?config=TeX-AMS-MML_SVG\"></script><script type=\"text/javascript\">if (window.MathJax) {MathJax.Hub.Config({SVG: {font: \"STIX-Web\"}});}</script>                <script type=\"text/javascript\">window.PlotlyConfig = {MathJaxConfig: 'local'};</script>\n",
              "        <script src=\"https://cdn.plot.ly/plotly-2.8.3.min.js\"></script>                <div id=\"f241afa1-feef-4a3e-a92a-a3e676f2b964\" class=\"plotly-graph-div\" style=\"height:600px; width:1000px;\"></div>            <script type=\"text/javascript\">                                    window.PLOTLYENV=window.PLOTLYENV || {};                                    if (document.getElementById(\"f241afa1-feef-4a3e-a92a-a3e676f2b964\")) {                    Plotly.newPlot(                        \"f241afa1-feef-4a3e-a92a-a3e676f2b964\",                        [{\"alignmentgroup\":\"True\",\"hovertemplate\":\"Model=%{y}<br>Test Accuracy=%{x}<extra></extra>\",\"legendgroup\":\"Logistic Regression\",\"marker\":{\"color\":\"#3366CC\",\"pattern\":{\"shape\":\"\"}},\"name\":\"Logistic Regression\",\"offsetgroup\":\"Logistic Regression\",\"orientation\":\"h\",\"showlegend\":true,\"textposition\":\"auto\",\"texttemplate\":\"%{x}\",\"x\":[80.49792531120332],\"xaxis\":\"x\",\"y\":[\"Logistic Regression\"],\"yaxis\":\"y\",\"type\":\"bar\"},{\"alignmentgroup\":\"True\",\"hovertemplate\":\"Model=%{y}<br>Test Accuracy=%{x}<extra></extra>\",\"legendgroup\":\"K_Nearest Neighbors\",\"marker\":{\"color\":\"#DC3912\",\"pattern\":{\"shape\":\"\"}},\"name\":\"K_Nearest Neighbors\",\"offsetgroup\":\"K_Nearest Neighbors\",\"orientation\":\"h\",\"showlegend\":true,\"textposition\":\"auto\",\"texttemplate\":\"%{x}\",\"x\":[79.25311203319502],\"xaxis\":\"x\",\"y\":[\"K_Nearest Neighbors\"],\"yaxis\":\"y\",\"type\":\"bar\"},{\"alignmentgroup\":\"True\",\"hovertemplate\":\"Model=%{y}<br>Test Accuracy=%{x}<extra></extra>\",\"legendgroup\":\"Support Vector Machine\",\"marker\":{\"color\":\"#FF9900\",\"pattern\":{\"shape\":\"\"}},\"name\":\"Support Vector Machine\",\"offsetgroup\":\"Support Vector Machine\",\"orientation\":\"h\",\"showlegend\":true,\"textposition\":\"auto\",\"texttemplate\":\"%{x}\",\"x\":[79.25311203319502],\"xaxis\":\"x\",\"y\":[\"Support Vector Machine\"],\"yaxis\":\"y\",\"type\":\"bar\"},{\"alignmentgroup\":\"True\",\"hovertemplate\":\"Model=%{y}<br>Test Accuracy=%{x}<extra></extra>\",\"legendgroup\":\"Decision Tree\",\"marker\":{\"color\":\"#109618\",\"pattern\":{\"shape\":\"\"}},\"name\":\"Decision Tree\",\"offsetgroup\":\"Decision Tree\",\"orientation\":\"h\",\"showlegend\":true,\"textposition\":\"auto\",\"texttemplate\":\"%{x}\",\"x\":[79.66804979253112],\"xaxis\":\"x\",\"y\":[\"Decision Tree\"],\"yaxis\":\"y\",\"type\":\"bar\"},{\"alignmentgroup\":\"True\",\"hovertemplate\":\"Model=%{y}<br>Test Accuracy=%{x}<extra></extra>\",\"legendgroup\":\"Random Forest\",\"marker\":{\"color\":\"#990099\",\"pattern\":{\"shape\":\"\"}},\"name\":\"Random Forest\",\"offsetgroup\":\"Random Forest\",\"orientation\":\"h\",\"showlegend\":true,\"textposition\":\"auto\",\"texttemplate\":\"%{x}\",\"x\":[82.57261410788381],\"xaxis\":\"x\",\"y\":[\"Random Forest\"],\"yaxis\":\"y\",\"type\":\"bar\"},{\"alignmentgroup\":\"True\",\"hovertemplate\":\"Model=%{y}<br>Test Accuracy=%{x}<extra></extra>\",\"legendgroup\":\"AdaBoost\",\"marker\":{\"color\":\"#0099C6\",\"pattern\":{\"shape\":\"\"}},\"name\":\"AdaBoost\",\"offsetgroup\":\"AdaBoost\",\"orientation\":\"h\",\"showlegend\":true,\"textposition\":\"auto\",\"texttemplate\":\"%{x}\",\"x\":[82.98755186721992],\"xaxis\":\"x\",\"y\":[\"AdaBoost\"],\"yaxis\":\"y\",\"type\":\"bar\"},{\"alignmentgroup\":\"True\",\"hovertemplate\":\"Model=%{y}<br>Test Accuracy=%{x}<extra></extra>\",\"legendgroup\":\"GradientBoost\",\"marker\":{\"color\":\"#DD4477\",\"pattern\":{\"shape\":\"\"}},\"name\":\"GradientBoost\",\"offsetgroup\":\"GradientBoost\",\"orientation\":\"h\",\"showlegend\":true,\"textposition\":\"auto\",\"texttemplate\":\"%{x}\",\"x\":[80.91286307053942],\"xaxis\":\"x\",\"y\":[\"GradientBoost\"],\"yaxis\":\"y\",\"type\":\"bar\"}],                        {\"template\":{\"data\":{\"bar\":[{\"error_x\":{\"color\":\"#2a3f5f\"},\"error_y\":{\"color\":\"#2a3f5f\"},\"marker\":{\"line\":{\"color\":\"#E5ECF6\",\"width\":0.5},\"pattern\":{\"fillmode\":\"overlay\",\"size\":10,\"solidity\":0.2}},\"type\":\"bar\"}],\"barpolar\":[{\"marker\":{\"line\":{\"color\":\"#E5ECF6\",\"width\":0.5},\"pattern\":{\"fillmode\":\"overlay\",\"size\":10,\"solidity\":0.2}},\"type\":\"barpolar\"}],\"carpet\":[{\"aaxis\":{\"endlinecolor\":\"#2a3f5f\",\"gridcolor\":\"white\",\"linecolor\":\"white\",\"minorgridcolor\":\"white\",\"startlinecolor\":\"#2a3f5f\"},\"baxis\":{\"endlinecolor\":\"#2a3f5f\",\"gridcolor\":\"white\",\"linecolor\":\"white\",\"minorgridcolor\":\"white\",\"startlinecolor\":\"#2a3f5f\"},\"type\":\"carpet\"}],\"choropleth\":[{\"colorbar\":{\"outlinewidth\":0,\"ticks\":\"\"},\"type\":\"choropleth\"}],\"contour\":[{\"colorbar\":{\"outlinewidth\":0,\"ticks\":\"\"},\"colorscale\":[[0.0,\"#0d0887\"],[0.1111111111111111,\"#46039f\"],[0.2222222222222222,\"#7201a8\"],[0.3333333333333333,\"#9c179e\"],[0.4444444444444444,\"#bd3786\"],[0.5555555555555556,\"#d8576b\"],[0.6666666666666666,\"#ed7953\"],[0.7777777777777778,\"#fb9f3a\"],[0.8888888888888888,\"#fdca26\"],[1.0,\"#f0f921\"]],\"type\":\"contour\"}],\"contourcarpet\":[{\"colorbar\":{\"outlinewidth\":0,\"ticks\":\"\"},\"type\":\"contourcarpet\"}],\"heatmap\":[{\"colorbar\":{\"outlinewidth\":0,\"ticks\":\"\"},\"colorscale\":[[0.0,\"#0d0887\"],[0.1111111111111111,\"#46039f\"],[0.2222222222222222,\"#7201a8\"],[0.3333333333333333,\"#9c179e\"],[0.4444444444444444,\"#bd3786\"],[0.5555555555555556,\"#d8576b\"],[0.6666666666666666,\"#ed7953\"],[0.7777777777777778,\"#fb9f3a\"],[0.8888888888888888,\"#fdca26\"],[1.0,\"#f0f921\"]],\"type\":\"heatmap\"}],\"heatmapgl\":[{\"colorbar\":{\"outlinewidth\":0,\"ticks\":\"\"},\"colorscale\":[[0.0,\"#0d0887\"],[0.1111111111111111,\"#46039f\"],[0.2222222222222222,\"#7201a8\"],[0.3333333333333333,\"#9c179e\"],[0.4444444444444444,\"#bd3786\"],[0.5555555555555556,\"#d8576b\"],[0.6666666666666666,\"#ed7953\"],[0.7777777777777778,\"#fb9f3a\"],[0.8888888888888888,\"#fdca26\"],[1.0,\"#f0f921\"]],\"type\":\"heatmapgl\"}],\"histogram\":[{\"marker\":{\"pattern\":{\"fillmode\":\"overlay\",\"size\":10,\"solidity\":0.2}},\"type\":\"histogram\"}],\"histogram2d\":[{\"colorbar\":{\"outlinewidth\":0,\"ticks\":\"\"},\"colorscale\":[[0.0,\"#0d0887\"],[0.1111111111111111,\"#46039f\"],[0.2222222222222222,\"#7201a8\"],[0.3333333333333333,\"#9c179e\"],[0.4444444444444444,\"#bd3786\"],[0.5555555555555556,\"#d8576b\"],[0.6666666666666666,\"#ed7953\"],[0.7777777777777778,\"#fb9f3a\"],[0.8888888888888888,\"#fdca26\"],[1.0,\"#f0f921\"]],\"type\":\"histogram2d\"}],\"histogram2dcontour\":[{\"colorbar\":{\"outlinewidth\":0,\"ticks\":\"\"},\"colorscale\":[[0.0,\"#0d0887\"],[0.1111111111111111,\"#46039f\"],[0.2222222222222222,\"#7201a8\"],[0.3333333333333333,\"#9c179e\"],[0.4444444444444444,\"#bd3786\"],[0.5555555555555556,\"#d8576b\"],[0.6666666666666666,\"#ed7953\"],[0.7777777777777778,\"#fb9f3a\"],[0.8888888888888888,\"#fdca26\"],[1.0,\"#f0f921\"]],\"type\":\"histogram2dcontour\"}],\"mesh3d\":[{\"colorbar\":{\"outlinewidth\":0,\"ticks\":\"\"},\"type\":\"mesh3d\"}],\"parcoords\":[{\"line\":{\"colorbar\":{\"outlinewidth\":0,\"ticks\":\"\"}},\"type\":\"parcoords\"}],\"pie\":[{\"automargin\":true,\"type\":\"pie\"}],\"scatter\":[{\"marker\":{\"colorbar\":{\"outlinewidth\":0,\"ticks\":\"\"}},\"type\":\"scatter\"}],\"scatter3d\":[{\"line\":{\"colorbar\":{\"outlinewidth\":0,\"ticks\":\"\"}},\"marker\":{\"colorbar\":{\"outlinewidth\":0,\"ticks\":\"\"}},\"type\":\"scatter3d\"}],\"scattercarpet\":[{\"marker\":{\"colorbar\":{\"outlinewidth\":0,\"ticks\":\"\"}},\"type\":\"scattercarpet\"}],\"scattergeo\":[{\"marker\":{\"colorbar\":{\"outlinewidth\":0,\"ticks\":\"\"}},\"type\":\"scattergeo\"}],\"scattergl\":[{\"marker\":{\"colorbar\":{\"outlinewidth\":0,\"ticks\":\"\"}},\"type\":\"scattergl\"}],\"scattermapbox\":[{\"marker\":{\"colorbar\":{\"outlinewidth\":0,\"ticks\":\"\"}},\"type\":\"scattermapbox\"}],\"scatterpolar\":[{\"marker\":{\"colorbar\":{\"outlinewidth\":0,\"ticks\":\"\"}},\"type\":\"scatterpolar\"}],\"scatterpolargl\":[{\"marker\":{\"colorbar\":{\"outlinewidth\":0,\"ticks\":\"\"}},\"type\":\"scatterpolargl\"}],\"scatterternary\":[{\"marker\":{\"colorbar\":{\"outlinewidth\":0,\"ticks\":\"\"}},\"type\":\"scatterternary\"}],\"surface\":[{\"colorbar\":{\"outlinewidth\":0,\"ticks\":\"\"},\"colorscale\":[[0.0,\"#0d0887\"],[0.1111111111111111,\"#46039f\"],[0.2222222222222222,\"#7201a8\"],[0.3333333333333333,\"#9c179e\"],[0.4444444444444444,\"#bd3786\"],[0.5555555555555556,\"#d8576b\"],[0.6666666666666666,\"#ed7953\"],[0.7777777777777778,\"#fb9f3a\"],[0.8888888888888888,\"#fdca26\"],[1.0,\"#f0f921\"]],\"type\":\"surface\"}],\"table\":[{\"cells\":{\"fill\":{\"color\":\"#EBF0F8\"},\"line\":{\"color\":\"white\"}},\"header\":{\"fill\":{\"color\":\"#C8D4E3\"},\"line\":{\"color\":\"white\"}},\"type\":\"table\"}]},\"layout\":{\"annotationdefaults\":{\"arrowcolor\":\"#2a3f5f\",\"arrowhead\":0,\"arrowwidth\":1},\"autotypenumbers\":\"strict\",\"coloraxis\":{\"colorbar\":{\"outlinewidth\":0,\"ticks\":\"\"}},\"colorscale\":{\"diverging\":[[0,\"#8e0152\"],[0.1,\"#c51b7d\"],[0.2,\"#de77ae\"],[0.3,\"#f1b6da\"],[0.4,\"#fde0ef\"],[0.5,\"#f7f7f7\"],[0.6,\"#e6f5d0\"],[0.7,\"#b8e186\"],[0.8,\"#7fbc41\"],[0.9,\"#4d9221\"],[1,\"#276419\"]],\"sequential\":[[0.0,\"#0d0887\"],[0.1111111111111111,\"#46039f\"],[0.2222222222222222,\"#7201a8\"],[0.3333333333333333,\"#9c179e\"],[0.4444444444444444,\"#bd3786\"],[0.5555555555555556,\"#d8576b\"],[0.6666666666666666,\"#ed7953\"],[0.7777777777777778,\"#fb9f3a\"],[0.8888888888888888,\"#fdca26\"],[1.0,\"#f0f921\"]],\"sequentialminus\":[[0.0,\"#0d0887\"],[0.1111111111111111,\"#46039f\"],[0.2222222222222222,\"#7201a8\"],[0.3333333333333333,\"#9c179e\"],[0.4444444444444444,\"#bd3786\"],[0.5555555555555556,\"#d8576b\"],[0.6666666666666666,\"#ed7953\"],[0.7777777777777778,\"#fb9f3a\"],[0.8888888888888888,\"#fdca26\"],[1.0,\"#f0f921\"]]},\"colorway\":[\"#636efa\",\"#EF553B\",\"#00cc96\",\"#ab63fa\",\"#FFA15A\",\"#19d3f3\",\"#FF6692\",\"#B6E880\",\"#FF97FF\",\"#FECB52\"],\"font\":{\"color\":\"#2a3f5f\"},\"geo\":{\"bgcolor\":\"white\",\"lakecolor\":\"white\",\"landcolor\":\"#E5ECF6\",\"showlakes\":true,\"showland\":true,\"subunitcolor\":\"white\"},\"hoverlabel\":{\"align\":\"left\"},\"hovermode\":\"closest\",\"mapbox\":{\"style\":\"light\"},\"paper_bgcolor\":\"white\",\"plot_bgcolor\":\"#E5ECF6\",\"polar\":{\"angularaxis\":{\"gridcolor\":\"white\",\"linecolor\":\"white\",\"ticks\":\"\"},\"bgcolor\":\"#E5ECF6\",\"radialaxis\":{\"gridcolor\":\"white\",\"linecolor\":\"white\",\"ticks\":\"\"}},\"scene\":{\"xaxis\":{\"backgroundcolor\":\"#E5ECF6\",\"gridcolor\":\"white\",\"gridwidth\":2,\"linecolor\":\"white\",\"showbackground\":true,\"ticks\":\"\",\"zerolinecolor\":\"white\"},\"yaxis\":{\"backgroundcolor\":\"#E5ECF6\",\"gridcolor\":\"white\",\"gridwidth\":2,\"linecolor\":\"white\",\"showbackground\":true,\"ticks\":\"\",\"zerolinecolor\":\"white\"},\"zaxis\":{\"backgroundcolor\":\"#E5ECF6\",\"gridcolor\":\"white\",\"gridwidth\":2,\"linecolor\":\"white\",\"showbackground\":true,\"ticks\":\"\",\"zerolinecolor\":\"white\"}},\"shapedefaults\":{\"line\":{\"color\":\"#2a3f5f\"}},\"ternary\":{\"aaxis\":{\"gridcolor\":\"white\",\"linecolor\":\"white\",\"ticks\":\"\"},\"baxis\":{\"gridcolor\":\"white\",\"linecolor\":\"white\",\"ticks\":\"\"},\"bgcolor\":\"#E5ECF6\",\"caxis\":{\"gridcolor\":\"white\",\"linecolor\":\"white\",\"ticks\":\"\"}},\"title\":{\"x\":0.05},\"xaxis\":{\"automargin\":true,\"gridcolor\":\"white\",\"linecolor\":\"white\",\"ticks\":\"\",\"title\":{\"standoff\":15},\"zerolinecolor\":\"white\",\"zerolinewidth\":2},\"yaxis\":{\"automargin\":true,\"gridcolor\":\"white\",\"linecolor\":\"white\",\"ticks\":\"\",\"title\":{\"standoff\":15},\"zerolinecolor\":\"white\",\"zerolinewidth\":2}}},\"xaxis\":{\"anchor\":\"y\",\"domain\":[0.0,1.0],\"title\":{\"text\":\"Test Accuracy\"}},\"yaxis\":{\"anchor\":\"x\",\"domain\":[0.0,1.0],\"title\":{\"text\":\"Model\"},\"categoryorder\":\"total ascending\",\"categoryarray\":[\"GradientBoost\",\"AdaBoost\",\"Random Forest\",\"Decision Tree\",\"Support Vector Machine\",\"K_Nearest Neighbors\",\"Logistic Regression\"]},\"legend\":{\"title\":{\"text\":\"Model\"},\"tracegroupgap\":0},\"title\":{\"text\":\"<b>Test Data % Accuracy<b>\",\"font\":{\"size\":24},\"x\":0.5},\"barmode\":\"stack\",\"height\":600,\"width\":1000},                        {\"responsive\": true}                    ).then(function(){\n",
              "                            \n",
              "var gd = document.getElementById('f241afa1-feef-4a3e-a92a-a3e676f2b964');\n",
              "var x = new MutationObserver(function (mutations, observer) {{\n",
              "        var display = window.getComputedStyle(gd).display;\n",
              "        if (!display || display === 'none') {{\n",
              "            console.log([gd, 'removed!']);\n",
              "            Plotly.purge(gd);\n",
              "            observer.disconnect();\n",
              "        }}\n",
              "}});\n",
              "\n",
              "// Listen for the removal of the full notebook cells\n",
              "var notebookContainer = gd.closest('#notebook-container');\n",
              "if (notebookContainer) {{\n",
              "    x.observe(notebookContainer, {childList: true});\n",
              "}}\n",
              "\n",
              "// Listen for the clearing of the current output cell\n",
              "var outputEl = gd.closest('.output');\n",
              "if (outputEl) {{\n",
              "    x.observe(outputEl, {childList: true});\n",
              "}}\n",
              "\n",
              "                        })                };                            </script>        </div>\n",
              "</body>\n",
              "</html>"
            ]
          },
          "metadata": {}
        }
      ]
    },
    {
      "cell_type": "markdown",
      "source": [
        "## 13.4 Test Recall"
      ],
      "metadata": {
        "id": "N_SLn8kIFvic"
      }
    },
    {
      "cell_type": "code",
      "source": [
        "# Display the Test Results\n",
        "fig = px.bar(results_df, # DataFrame\n",
        "             x='Test Recall', # X axis\n",
        "             y='Model', # y axis\n",
        "             orientation='h', # horizontal orientation\n",
        "             title='<b>Test Data % Recall<b>', # Bold Title\n",
        "             width=1000, # Set figure width\n",
        "             height=600, # Set figure height\n",
        "             text_auto=True, # Turn on bar totals\n",
        "             color='Model', # column to color by\n",
        "             color_discrete_sequence=px.colors.qualitative.G10, # Color Pallete\n",
        "             )\n",
        "\n",
        "fig.update_layout(title_x=.5, # Centers the Title\n",
        "                  titlefont={'size': 24}, # title size\n",
        "                  barmode='stack', # Stack the bars\n",
        "                  yaxis={'categoryorder' : 'total ascending'}, # descending order\n",
        "                  )\n",
        "fig.show()\n",
        "\n",
        "# fig.write_image(\"Recall.png\", engine=\"kaleido\")"
      ],
      "metadata": {
        "colab": {
          "base_uri": "https://localhost:8080/",
          "height": 617
        },
        "id": "4id4P0VWF1Cs",
        "outputId": "55ac5362-6b70-4976-9720-bdd627783fcb"
      },
      "execution_count": null,
      "outputs": [
        {
          "output_type": "display_data",
          "data": {
            "text/html": [
              "<html>\n",
              "<head><meta charset=\"utf-8\" /></head>\n",
              "<body>\n",
              "    <div>            <script src=\"https://cdnjs.cloudflare.com/ajax/libs/mathjax/2.7.5/MathJax.js?config=TeX-AMS-MML_SVG\"></script><script type=\"text/javascript\">if (window.MathJax) {MathJax.Hub.Config({SVG: {font: \"STIX-Web\"}});}</script>                <script type=\"text/javascript\">window.PlotlyConfig = {MathJaxConfig: 'local'};</script>\n",
              "        <script src=\"https://cdn.plot.ly/plotly-2.8.3.min.js\"></script>                <div id=\"26d7574f-a536-4bc1-a7de-ad65e67c03a5\" class=\"plotly-graph-div\" style=\"height:600px; width:1000px;\"></div>            <script type=\"text/javascript\">                                    window.PLOTLYENV=window.PLOTLYENV || {};                                    if (document.getElementById(\"26d7574f-a536-4bc1-a7de-ad65e67c03a5\")) {                    Plotly.newPlot(                        \"26d7574f-a536-4bc1-a7de-ad65e67c03a5\",                        [{\"alignmentgroup\":\"True\",\"hovertemplate\":\"Model=%{y}<br>Test Recall=%{x}<extra></extra>\",\"legendgroup\":\"Logistic Regression\",\"marker\":{\"color\":\"#3366CC\",\"pattern\":{\"shape\":\"\"}},\"name\":\"Logistic Regression\",\"offsetgroup\":\"Logistic Regression\",\"orientation\":\"h\",\"showlegend\":true,\"textposition\":\"auto\",\"texttemplate\":\"%{x}\",\"x\":[88.39285714285714],\"xaxis\":\"x\",\"y\":[\"Logistic Regression\"],\"yaxis\":\"y\",\"type\":\"bar\"},{\"alignmentgroup\":\"True\",\"hovertemplate\":\"Model=%{y}<br>Test Recall=%{x}<extra></extra>\",\"legendgroup\":\"K_Nearest Neighbors\",\"marker\":{\"color\":\"#DC3912\",\"pattern\":{\"shape\":\"\"}},\"name\":\"K_Nearest Neighbors\",\"offsetgroup\":\"K_Nearest Neighbors\",\"orientation\":\"h\",\"showlegend\":true,\"textposition\":\"auto\",\"texttemplate\":\"%{x}\",\"x\":[88.39285714285714],\"xaxis\":\"x\",\"y\":[\"K_Nearest Neighbors\"],\"yaxis\":\"y\",\"type\":\"bar\"},{\"alignmentgroup\":\"True\",\"hovertemplate\":\"Model=%{y}<br>Test Recall=%{x}<extra></extra>\",\"legendgroup\":\"Support Vector Machine\",\"marker\":{\"color\":\"#FF9900\",\"pattern\":{\"shape\":\"\"}},\"name\":\"Support Vector Machine\",\"offsetgroup\":\"Support Vector Machine\",\"orientation\":\"h\",\"showlegend\":true,\"textposition\":\"auto\",\"texttemplate\":\"%{x}\",\"x\":[84.82142857142857],\"xaxis\":\"x\",\"y\":[\"Support Vector Machine\"],\"yaxis\":\"y\",\"type\":\"bar\"},{\"alignmentgroup\":\"True\",\"hovertemplate\":\"Model=%{y}<br>Test Recall=%{x}<extra></extra>\",\"legendgroup\":\"Decision Tree\",\"marker\":{\"color\":\"#109618\",\"pattern\":{\"shape\":\"\"}},\"name\":\"Decision Tree\",\"offsetgroup\":\"Decision Tree\",\"orientation\":\"h\",\"showlegend\":true,\"textposition\":\"auto\",\"texttemplate\":\"%{x}\",\"x\":[88.39285714285714],\"xaxis\":\"x\",\"y\":[\"Decision Tree\"],\"yaxis\":\"y\",\"type\":\"bar\"},{\"alignmentgroup\":\"True\",\"hovertemplate\":\"Model=%{y}<br>Test Recall=%{x}<extra></extra>\",\"legendgroup\":\"Random Forest\",\"marker\":{\"color\":\"#990099\",\"pattern\":{\"shape\":\"\"}},\"name\":\"Random Forest\",\"offsetgroup\":\"Random Forest\",\"orientation\":\"h\",\"showlegend\":true,\"textposition\":\"auto\",\"texttemplate\":\"%{x}\",\"x\":[89.28571428571429],\"xaxis\":\"x\",\"y\":[\"Random Forest\"],\"yaxis\":\"y\",\"type\":\"bar\"},{\"alignmentgroup\":\"True\",\"hovertemplate\":\"Model=%{y}<br>Test Recall=%{x}<extra></extra>\",\"legendgroup\":\"AdaBoost\",\"marker\":{\"color\":\"#0099C6\",\"pattern\":{\"shape\":\"\"}},\"name\":\"AdaBoost\",\"offsetgroup\":\"AdaBoost\",\"orientation\":\"h\",\"showlegend\":true,\"textposition\":\"auto\",\"texttemplate\":\"%{x}\",\"x\":[90.17857142857143],\"xaxis\":\"x\",\"y\":[\"AdaBoost\"],\"yaxis\":\"y\",\"type\":\"bar\"},{\"alignmentgroup\":\"True\",\"hovertemplate\":\"Model=%{y}<br>Test Recall=%{x}<extra></extra>\",\"legendgroup\":\"GradientBoost\",\"marker\":{\"color\":\"#DD4477\",\"pattern\":{\"shape\":\"\"}},\"name\":\"GradientBoost\",\"offsetgroup\":\"GradientBoost\",\"orientation\":\"h\",\"showlegend\":true,\"textposition\":\"auto\",\"texttemplate\":\"%{x}\",\"x\":[89.28571428571429],\"xaxis\":\"x\",\"y\":[\"GradientBoost\"],\"yaxis\":\"y\",\"type\":\"bar\"}],                        {\"template\":{\"data\":{\"bar\":[{\"error_x\":{\"color\":\"#2a3f5f\"},\"error_y\":{\"color\":\"#2a3f5f\"},\"marker\":{\"line\":{\"color\":\"#E5ECF6\",\"width\":0.5},\"pattern\":{\"fillmode\":\"overlay\",\"size\":10,\"solidity\":0.2}},\"type\":\"bar\"}],\"barpolar\":[{\"marker\":{\"line\":{\"color\":\"#E5ECF6\",\"width\":0.5},\"pattern\":{\"fillmode\":\"overlay\",\"size\":10,\"solidity\":0.2}},\"type\":\"barpolar\"}],\"carpet\":[{\"aaxis\":{\"endlinecolor\":\"#2a3f5f\",\"gridcolor\":\"white\",\"linecolor\":\"white\",\"minorgridcolor\":\"white\",\"startlinecolor\":\"#2a3f5f\"},\"baxis\":{\"endlinecolor\":\"#2a3f5f\",\"gridcolor\":\"white\",\"linecolor\":\"white\",\"minorgridcolor\":\"white\",\"startlinecolor\":\"#2a3f5f\"},\"type\":\"carpet\"}],\"choropleth\":[{\"colorbar\":{\"outlinewidth\":0,\"ticks\":\"\"},\"type\":\"choropleth\"}],\"contour\":[{\"colorbar\":{\"outlinewidth\":0,\"ticks\":\"\"},\"colorscale\":[[0.0,\"#0d0887\"],[0.1111111111111111,\"#46039f\"],[0.2222222222222222,\"#7201a8\"],[0.3333333333333333,\"#9c179e\"],[0.4444444444444444,\"#bd3786\"],[0.5555555555555556,\"#d8576b\"],[0.6666666666666666,\"#ed7953\"],[0.7777777777777778,\"#fb9f3a\"],[0.8888888888888888,\"#fdca26\"],[1.0,\"#f0f921\"]],\"type\":\"contour\"}],\"contourcarpet\":[{\"colorbar\":{\"outlinewidth\":0,\"ticks\":\"\"},\"type\":\"contourcarpet\"}],\"heatmap\":[{\"colorbar\":{\"outlinewidth\":0,\"ticks\":\"\"},\"colorscale\":[[0.0,\"#0d0887\"],[0.1111111111111111,\"#46039f\"],[0.2222222222222222,\"#7201a8\"],[0.3333333333333333,\"#9c179e\"],[0.4444444444444444,\"#bd3786\"],[0.5555555555555556,\"#d8576b\"],[0.6666666666666666,\"#ed7953\"],[0.7777777777777778,\"#fb9f3a\"],[0.8888888888888888,\"#fdca26\"],[1.0,\"#f0f921\"]],\"type\":\"heatmap\"}],\"heatmapgl\":[{\"colorbar\":{\"outlinewidth\":0,\"ticks\":\"\"},\"colorscale\":[[0.0,\"#0d0887\"],[0.1111111111111111,\"#46039f\"],[0.2222222222222222,\"#7201a8\"],[0.3333333333333333,\"#9c179e\"],[0.4444444444444444,\"#bd3786\"],[0.5555555555555556,\"#d8576b\"],[0.6666666666666666,\"#ed7953\"],[0.7777777777777778,\"#fb9f3a\"],[0.8888888888888888,\"#fdca26\"],[1.0,\"#f0f921\"]],\"type\":\"heatmapgl\"}],\"histogram\":[{\"marker\":{\"pattern\":{\"fillmode\":\"overlay\",\"size\":10,\"solidity\":0.2}},\"type\":\"histogram\"}],\"histogram2d\":[{\"colorbar\":{\"outlinewidth\":0,\"ticks\":\"\"},\"colorscale\":[[0.0,\"#0d0887\"],[0.1111111111111111,\"#46039f\"],[0.2222222222222222,\"#7201a8\"],[0.3333333333333333,\"#9c179e\"],[0.4444444444444444,\"#bd3786\"],[0.5555555555555556,\"#d8576b\"],[0.6666666666666666,\"#ed7953\"],[0.7777777777777778,\"#fb9f3a\"],[0.8888888888888888,\"#fdca26\"],[1.0,\"#f0f921\"]],\"type\":\"histogram2d\"}],\"histogram2dcontour\":[{\"colorbar\":{\"outlinewidth\":0,\"ticks\":\"\"},\"colorscale\":[[0.0,\"#0d0887\"],[0.1111111111111111,\"#46039f\"],[0.2222222222222222,\"#7201a8\"],[0.3333333333333333,\"#9c179e\"],[0.4444444444444444,\"#bd3786\"],[0.5555555555555556,\"#d8576b\"],[0.6666666666666666,\"#ed7953\"],[0.7777777777777778,\"#fb9f3a\"],[0.8888888888888888,\"#fdca26\"],[1.0,\"#f0f921\"]],\"type\":\"histogram2dcontour\"}],\"mesh3d\":[{\"colorbar\":{\"outlinewidth\":0,\"ticks\":\"\"},\"type\":\"mesh3d\"}],\"parcoords\":[{\"line\":{\"colorbar\":{\"outlinewidth\":0,\"ticks\":\"\"}},\"type\":\"parcoords\"}],\"pie\":[{\"automargin\":true,\"type\":\"pie\"}],\"scatter\":[{\"marker\":{\"colorbar\":{\"outlinewidth\":0,\"ticks\":\"\"}},\"type\":\"scatter\"}],\"scatter3d\":[{\"line\":{\"colorbar\":{\"outlinewidth\":0,\"ticks\":\"\"}},\"marker\":{\"colorbar\":{\"outlinewidth\":0,\"ticks\":\"\"}},\"type\":\"scatter3d\"}],\"scattercarpet\":[{\"marker\":{\"colorbar\":{\"outlinewidth\":0,\"ticks\":\"\"}},\"type\":\"scattercarpet\"}],\"scattergeo\":[{\"marker\":{\"colorbar\":{\"outlinewidth\":0,\"ticks\":\"\"}},\"type\":\"scattergeo\"}],\"scattergl\":[{\"marker\":{\"colorbar\":{\"outlinewidth\":0,\"ticks\":\"\"}},\"type\":\"scattergl\"}],\"scattermapbox\":[{\"marker\":{\"colorbar\":{\"outlinewidth\":0,\"ticks\":\"\"}},\"type\":\"scattermapbox\"}],\"scatterpolar\":[{\"marker\":{\"colorbar\":{\"outlinewidth\":0,\"ticks\":\"\"}},\"type\":\"scatterpolar\"}],\"scatterpolargl\":[{\"marker\":{\"colorbar\":{\"outlinewidth\":0,\"ticks\":\"\"}},\"type\":\"scatterpolargl\"}],\"scatterternary\":[{\"marker\":{\"colorbar\":{\"outlinewidth\":0,\"ticks\":\"\"}},\"type\":\"scatterternary\"}],\"surface\":[{\"colorbar\":{\"outlinewidth\":0,\"ticks\":\"\"},\"colorscale\":[[0.0,\"#0d0887\"],[0.1111111111111111,\"#46039f\"],[0.2222222222222222,\"#7201a8\"],[0.3333333333333333,\"#9c179e\"],[0.4444444444444444,\"#bd3786\"],[0.5555555555555556,\"#d8576b\"],[0.6666666666666666,\"#ed7953\"],[0.7777777777777778,\"#fb9f3a\"],[0.8888888888888888,\"#fdca26\"],[1.0,\"#f0f921\"]],\"type\":\"surface\"}],\"table\":[{\"cells\":{\"fill\":{\"color\":\"#EBF0F8\"},\"line\":{\"color\":\"white\"}},\"header\":{\"fill\":{\"color\":\"#C8D4E3\"},\"line\":{\"color\":\"white\"}},\"type\":\"table\"}]},\"layout\":{\"annotationdefaults\":{\"arrowcolor\":\"#2a3f5f\",\"arrowhead\":0,\"arrowwidth\":1},\"autotypenumbers\":\"strict\",\"coloraxis\":{\"colorbar\":{\"outlinewidth\":0,\"ticks\":\"\"}},\"colorscale\":{\"diverging\":[[0,\"#8e0152\"],[0.1,\"#c51b7d\"],[0.2,\"#de77ae\"],[0.3,\"#f1b6da\"],[0.4,\"#fde0ef\"],[0.5,\"#f7f7f7\"],[0.6,\"#e6f5d0\"],[0.7,\"#b8e186\"],[0.8,\"#7fbc41\"],[0.9,\"#4d9221\"],[1,\"#276419\"]],\"sequential\":[[0.0,\"#0d0887\"],[0.1111111111111111,\"#46039f\"],[0.2222222222222222,\"#7201a8\"],[0.3333333333333333,\"#9c179e\"],[0.4444444444444444,\"#bd3786\"],[0.5555555555555556,\"#d8576b\"],[0.6666666666666666,\"#ed7953\"],[0.7777777777777778,\"#fb9f3a\"],[0.8888888888888888,\"#fdca26\"],[1.0,\"#f0f921\"]],\"sequentialminus\":[[0.0,\"#0d0887\"],[0.1111111111111111,\"#46039f\"],[0.2222222222222222,\"#7201a8\"],[0.3333333333333333,\"#9c179e\"],[0.4444444444444444,\"#bd3786\"],[0.5555555555555556,\"#d8576b\"],[0.6666666666666666,\"#ed7953\"],[0.7777777777777778,\"#fb9f3a\"],[0.8888888888888888,\"#fdca26\"],[1.0,\"#f0f921\"]]},\"colorway\":[\"#636efa\",\"#EF553B\",\"#00cc96\",\"#ab63fa\",\"#FFA15A\",\"#19d3f3\",\"#FF6692\",\"#B6E880\",\"#FF97FF\",\"#FECB52\"],\"font\":{\"color\":\"#2a3f5f\"},\"geo\":{\"bgcolor\":\"white\",\"lakecolor\":\"white\",\"landcolor\":\"#E5ECF6\",\"showlakes\":true,\"showland\":true,\"subunitcolor\":\"white\"},\"hoverlabel\":{\"align\":\"left\"},\"hovermode\":\"closest\",\"mapbox\":{\"style\":\"light\"},\"paper_bgcolor\":\"white\",\"plot_bgcolor\":\"#E5ECF6\",\"polar\":{\"angularaxis\":{\"gridcolor\":\"white\",\"linecolor\":\"white\",\"ticks\":\"\"},\"bgcolor\":\"#E5ECF6\",\"radialaxis\":{\"gridcolor\":\"white\",\"linecolor\":\"white\",\"ticks\":\"\"}},\"scene\":{\"xaxis\":{\"backgroundcolor\":\"#E5ECF6\",\"gridcolor\":\"white\",\"gridwidth\":2,\"linecolor\":\"white\",\"showbackground\":true,\"ticks\":\"\",\"zerolinecolor\":\"white\"},\"yaxis\":{\"backgroundcolor\":\"#E5ECF6\",\"gridcolor\":\"white\",\"gridwidth\":2,\"linecolor\":\"white\",\"showbackground\":true,\"ticks\":\"\",\"zerolinecolor\":\"white\"},\"zaxis\":{\"backgroundcolor\":\"#E5ECF6\",\"gridcolor\":\"white\",\"gridwidth\":2,\"linecolor\":\"white\",\"showbackground\":true,\"ticks\":\"\",\"zerolinecolor\":\"white\"}},\"shapedefaults\":{\"line\":{\"color\":\"#2a3f5f\"}},\"ternary\":{\"aaxis\":{\"gridcolor\":\"white\",\"linecolor\":\"white\",\"ticks\":\"\"},\"baxis\":{\"gridcolor\":\"white\",\"linecolor\":\"white\",\"ticks\":\"\"},\"bgcolor\":\"#E5ECF6\",\"caxis\":{\"gridcolor\":\"white\",\"linecolor\":\"white\",\"ticks\":\"\"}},\"title\":{\"x\":0.05},\"xaxis\":{\"automargin\":true,\"gridcolor\":\"white\",\"linecolor\":\"white\",\"ticks\":\"\",\"title\":{\"standoff\":15},\"zerolinecolor\":\"white\",\"zerolinewidth\":2},\"yaxis\":{\"automargin\":true,\"gridcolor\":\"white\",\"linecolor\":\"white\",\"ticks\":\"\",\"title\":{\"standoff\":15},\"zerolinecolor\":\"white\",\"zerolinewidth\":2}}},\"xaxis\":{\"anchor\":\"y\",\"domain\":[0.0,1.0],\"title\":{\"text\":\"Test Recall\"}},\"yaxis\":{\"anchor\":\"x\",\"domain\":[0.0,1.0],\"title\":{\"text\":\"Model\"},\"categoryorder\":\"total ascending\",\"categoryarray\":[\"GradientBoost\",\"AdaBoost\",\"Random Forest\",\"Decision Tree\",\"Support Vector Machine\",\"K_Nearest Neighbors\",\"Logistic Regression\"]},\"legend\":{\"title\":{\"text\":\"Model\"},\"tracegroupgap\":0},\"title\":{\"text\":\"<b>Test Data % Recall<b>\",\"font\":{\"size\":24},\"x\":0.5},\"barmode\":\"stack\",\"height\":600,\"width\":1000},                        {\"responsive\": true}                    ).then(function(){\n",
              "                            \n",
              "var gd = document.getElementById('26d7574f-a536-4bc1-a7de-ad65e67c03a5');\n",
              "var x = new MutationObserver(function (mutations, observer) {{\n",
              "        var display = window.getComputedStyle(gd).display;\n",
              "        if (!display || display === 'none') {{\n",
              "            console.log([gd, 'removed!']);\n",
              "            Plotly.purge(gd);\n",
              "            observer.disconnect();\n",
              "        }}\n",
              "}});\n",
              "\n",
              "// Listen for the removal of the full notebook cells\n",
              "var notebookContainer = gd.closest('#notebook-container');\n",
              "if (notebookContainer) {{\n",
              "    x.observe(notebookContainer, {childList: true});\n",
              "}}\n",
              "\n",
              "// Listen for the clearing of the current output cell\n",
              "var outputEl = gd.closest('.output');\n",
              "if (outputEl) {{\n",
              "    x.observe(outputEl, {childList: true});\n",
              "}}\n",
              "\n",
              "                        })                };                            </script>        </div>\n",
              "</body>\n",
              "</html>"
            ]
          },
          "metadata": {}
        }
      ]
    },
    {
      "cell_type": "markdown",
      "source": [
        "## 13.4 Test Precision"
      ],
      "metadata": {
        "id": "tdSAE6krGLlq"
      }
    },
    {
      "cell_type": "code",
      "source": [
        "# Display the Test Results\n",
        "fig = px.bar(results_df, # DataFrame\n",
        "             x='Test Precision', # X axis\n",
        "             y='Model', # y axis\n",
        "             orientation='h', # horizontal orientation\n",
        "             title='<b>Test Data % Precision<b>', # Bold Title\n",
        "             width=1000, # Set figure width\n",
        "             height=600, # Set figure height\n",
        "             text_auto=True, # Turn on bar totals\n",
        "             color='Model', # column to color by\n",
        "             color_discrete_sequence=px.colors.qualitative.G10, # Color Pallete\n",
        "             )\n",
        "\n",
        "fig.update_layout(title_x=.5, # Centers the Title\n",
        "                  titlefont={'size': 24}, # title size\n",
        "                  barmode='stack', # Stack the bars\n",
        "                  yaxis={'categoryorder' : 'total ascending'}, # descending order\n",
        "                  )\n",
        "fig.show()\n",
        "\n",
        "# fig.write_image(\"Precision.png\", engine=\"kaleido\")"
      ],
      "metadata": {
        "colab": {
          "base_uri": "https://localhost:8080/",
          "height": 617
        },
        "id": "Ax9FYa2MGO0F",
        "outputId": "ad8f0c4e-f843-4aa6-aeb9-6d26fc6f07b2"
      },
      "execution_count": null,
      "outputs": [
        {
          "output_type": "display_data",
          "data": {
            "text/html": [
              "<html>\n",
              "<head><meta charset=\"utf-8\" /></head>\n",
              "<body>\n",
              "    <div>            <script src=\"https://cdnjs.cloudflare.com/ajax/libs/mathjax/2.7.5/MathJax.js?config=TeX-AMS-MML_SVG\"></script><script type=\"text/javascript\">if (window.MathJax) {MathJax.Hub.Config({SVG: {font: \"STIX-Web\"}});}</script>                <script type=\"text/javascript\">window.PlotlyConfig = {MathJaxConfig: 'local'};</script>\n",
              "        <script src=\"https://cdn.plot.ly/plotly-2.8.3.min.js\"></script>                <div id=\"4d5278ae-adc0-4e6d-99f4-d7cb878fdb4a\" class=\"plotly-graph-div\" style=\"height:600px; width:1000px;\"></div>            <script type=\"text/javascript\">                                    window.PLOTLYENV=window.PLOTLYENV || {};                                    if (document.getElementById(\"4d5278ae-adc0-4e6d-99f4-d7cb878fdb4a\")) {                    Plotly.newPlot(                        \"4d5278ae-adc0-4e6d-99f4-d7cb878fdb4a\",                        [{\"alignmentgroup\":\"True\",\"hovertemplate\":\"Model=%{y}<br>Test Precision=%{x}<extra></extra>\",\"legendgroup\":\"Logistic Regression\",\"marker\":{\"color\":\"#3366CC\",\"pattern\":{\"shape\":\"\"}},\"name\":\"Logistic Regression\",\"offsetgroup\":\"Logistic Regression\",\"orientation\":\"h\",\"showlegend\":true,\"textposition\":\"auto\",\"texttemplate\":\"%{x}\",\"x\":[74.43609022556392],\"xaxis\":\"x\",\"y\":[\"Logistic Regression\"],\"yaxis\":\"y\",\"type\":\"bar\"},{\"alignmentgroup\":\"True\",\"hovertemplate\":\"Model=%{y}<br>Test Precision=%{x}<extra></extra>\",\"legendgroup\":\"K_Nearest Neighbors\",\"marker\":{\"color\":\"#DC3912\",\"pattern\":{\"shape\":\"\"}},\"name\":\"K_Nearest Neighbors\",\"offsetgroup\":\"K_Nearest Neighbors\",\"orientation\":\"h\",\"showlegend\":true,\"textposition\":\"auto\",\"texttemplate\":\"%{x}\",\"x\":[72.79411764705883],\"xaxis\":\"x\",\"y\":[\"K_Nearest Neighbors\"],\"yaxis\":\"y\",\"type\":\"bar\"},{\"alignmentgroup\":\"True\",\"hovertemplate\":\"Model=%{y}<br>Test Precision=%{x}<extra></extra>\",\"legendgroup\":\"Support Vector Machine\",\"marker\":{\"color\":\"#FF9900\",\"pattern\":{\"shape\":\"\"}},\"name\":\"Support Vector Machine\",\"offsetgroup\":\"Support Vector Machine\",\"orientation\":\"h\",\"showlegend\":true,\"textposition\":\"auto\",\"texttemplate\":\"%{x}\",\"x\":[74.21875],\"xaxis\":\"x\",\"y\":[\"Support Vector Machine\"],\"yaxis\":\"y\",\"type\":\"bar\"},{\"alignmentgroup\":\"True\",\"hovertemplate\":\"Model=%{y}<br>Test Precision=%{x}<extra></extra>\",\"legendgroup\":\"Decision Tree\",\"marker\":{\"color\":\"#109618\",\"pattern\":{\"shape\":\"\"}},\"name\":\"Decision Tree\",\"offsetgroup\":\"Decision Tree\",\"orientation\":\"h\",\"showlegend\":true,\"textposition\":\"auto\",\"texttemplate\":\"%{x}\",\"x\":[73.33333333333333],\"xaxis\":\"x\",\"y\":[\"Decision Tree\"],\"yaxis\":\"y\",\"type\":\"bar\"},{\"alignmentgroup\":\"True\",\"hovertemplate\":\"Model=%{y}<br>Test Precision=%{x}<extra></extra>\",\"legendgroup\":\"Random Forest\",\"marker\":{\"color\":\"#990099\",\"pattern\":{\"shape\":\"\"}},\"name\":\"Random Forest\",\"offsetgroup\":\"Random Forest\",\"orientation\":\"h\",\"showlegend\":true,\"textposition\":\"auto\",\"texttemplate\":\"%{x}\",\"x\":[76.92307692307693],\"xaxis\":\"x\",\"y\":[\"Random Forest\"],\"yaxis\":\"y\",\"type\":\"bar\"},{\"alignmentgroup\":\"True\",\"hovertemplate\":\"Model=%{y}<br>Test Precision=%{x}<extra></extra>\",\"legendgroup\":\"AdaBoost\",\"marker\":{\"color\":\"#0099C6\",\"pattern\":{\"shape\":\"\"}},\"name\":\"AdaBoost\",\"offsetgroup\":\"AdaBoost\",\"orientation\":\"h\",\"showlegend\":true,\"textposition\":\"auto\",\"texttemplate\":\"%{x}\",\"x\":[77.09923664122137],\"xaxis\":\"x\",\"y\":[\"AdaBoost\"],\"yaxis\":\"y\",\"type\":\"bar\"},{\"alignmentgroup\":\"True\",\"hovertemplate\":\"Model=%{y}<br>Test Precision=%{x}<extra></extra>\",\"legendgroup\":\"GradientBoost\",\"marker\":{\"color\":\"#DD4477\",\"pattern\":{\"shape\":\"\"}},\"name\":\"GradientBoost\",\"offsetgroup\":\"GradientBoost\",\"orientation\":\"h\",\"showlegend\":true,\"textposition\":\"auto\",\"texttemplate\":\"%{x}\",\"x\":[74.6268656716418],\"xaxis\":\"x\",\"y\":[\"GradientBoost\"],\"yaxis\":\"y\",\"type\":\"bar\"}],                        {\"template\":{\"data\":{\"bar\":[{\"error_x\":{\"color\":\"#2a3f5f\"},\"error_y\":{\"color\":\"#2a3f5f\"},\"marker\":{\"line\":{\"color\":\"#E5ECF6\",\"width\":0.5},\"pattern\":{\"fillmode\":\"overlay\",\"size\":10,\"solidity\":0.2}},\"type\":\"bar\"}],\"barpolar\":[{\"marker\":{\"line\":{\"color\":\"#E5ECF6\",\"width\":0.5},\"pattern\":{\"fillmode\":\"overlay\",\"size\":10,\"solidity\":0.2}},\"type\":\"barpolar\"}],\"carpet\":[{\"aaxis\":{\"endlinecolor\":\"#2a3f5f\",\"gridcolor\":\"white\",\"linecolor\":\"white\",\"minorgridcolor\":\"white\",\"startlinecolor\":\"#2a3f5f\"},\"baxis\":{\"endlinecolor\":\"#2a3f5f\",\"gridcolor\":\"white\",\"linecolor\":\"white\",\"minorgridcolor\":\"white\",\"startlinecolor\":\"#2a3f5f\"},\"type\":\"carpet\"}],\"choropleth\":[{\"colorbar\":{\"outlinewidth\":0,\"ticks\":\"\"},\"type\":\"choropleth\"}],\"contour\":[{\"colorbar\":{\"outlinewidth\":0,\"ticks\":\"\"},\"colorscale\":[[0.0,\"#0d0887\"],[0.1111111111111111,\"#46039f\"],[0.2222222222222222,\"#7201a8\"],[0.3333333333333333,\"#9c179e\"],[0.4444444444444444,\"#bd3786\"],[0.5555555555555556,\"#d8576b\"],[0.6666666666666666,\"#ed7953\"],[0.7777777777777778,\"#fb9f3a\"],[0.8888888888888888,\"#fdca26\"],[1.0,\"#f0f921\"]],\"type\":\"contour\"}],\"contourcarpet\":[{\"colorbar\":{\"outlinewidth\":0,\"ticks\":\"\"},\"type\":\"contourcarpet\"}],\"heatmap\":[{\"colorbar\":{\"outlinewidth\":0,\"ticks\":\"\"},\"colorscale\":[[0.0,\"#0d0887\"],[0.1111111111111111,\"#46039f\"],[0.2222222222222222,\"#7201a8\"],[0.3333333333333333,\"#9c179e\"],[0.4444444444444444,\"#bd3786\"],[0.5555555555555556,\"#d8576b\"],[0.6666666666666666,\"#ed7953\"],[0.7777777777777778,\"#fb9f3a\"],[0.8888888888888888,\"#fdca26\"],[1.0,\"#f0f921\"]],\"type\":\"heatmap\"}],\"heatmapgl\":[{\"colorbar\":{\"outlinewidth\":0,\"ticks\":\"\"},\"colorscale\":[[0.0,\"#0d0887\"],[0.1111111111111111,\"#46039f\"],[0.2222222222222222,\"#7201a8\"],[0.3333333333333333,\"#9c179e\"],[0.4444444444444444,\"#bd3786\"],[0.5555555555555556,\"#d8576b\"],[0.6666666666666666,\"#ed7953\"],[0.7777777777777778,\"#fb9f3a\"],[0.8888888888888888,\"#fdca26\"],[1.0,\"#f0f921\"]],\"type\":\"heatmapgl\"}],\"histogram\":[{\"marker\":{\"pattern\":{\"fillmode\":\"overlay\",\"size\":10,\"solidity\":0.2}},\"type\":\"histogram\"}],\"histogram2d\":[{\"colorbar\":{\"outlinewidth\":0,\"ticks\":\"\"},\"colorscale\":[[0.0,\"#0d0887\"],[0.1111111111111111,\"#46039f\"],[0.2222222222222222,\"#7201a8\"],[0.3333333333333333,\"#9c179e\"],[0.4444444444444444,\"#bd3786\"],[0.5555555555555556,\"#d8576b\"],[0.6666666666666666,\"#ed7953\"],[0.7777777777777778,\"#fb9f3a\"],[0.8888888888888888,\"#fdca26\"],[1.0,\"#f0f921\"]],\"type\":\"histogram2d\"}],\"histogram2dcontour\":[{\"colorbar\":{\"outlinewidth\":0,\"ticks\":\"\"},\"colorscale\":[[0.0,\"#0d0887\"],[0.1111111111111111,\"#46039f\"],[0.2222222222222222,\"#7201a8\"],[0.3333333333333333,\"#9c179e\"],[0.4444444444444444,\"#bd3786\"],[0.5555555555555556,\"#d8576b\"],[0.6666666666666666,\"#ed7953\"],[0.7777777777777778,\"#fb9f3a\"],[0.8888888888888888,\"#fdca26\"],[1.0,\"#f0f921\"]],\"type\":\"histogram2dcontour\"}],\"mesh3d\":[{\"colorbar\":{\"outlinewidth\":0,\"ticks\":\"\"},\"type\":\"mesh3d\"}],\"parcoords\":[{\"line\":{\"colorbar\":{\"outlinewidth\":0,\"ticks\":\"\"}},\"type\":\"parcoords\"}],\"pie\":[{\"automargin\":true,\"type\":\"pie\"}],\"scatter\":[{\"marker\":{\"colorbar\":{\"outlinewidth\":0,\"ticks\":\"\"}},\"type\":\"scatter\"}],\"scatter3d\":[{\"line\":{\"colorbar\":{\"outlinewidth\":0,\"ticks\":\"\"}},\"marker\":{\"colorbar\":{\"outlinewidth\":0,\"ticks\":\"\"}},\"type\":\"scatter3d\"}],\"scattercarpet\":[{\"marker\":{\"colorbar\":{\"outlinewidth\":0,\"ticks\":\"\"}},\"type\":\"scattercarpet\"}],\"scattergeo\":[{\"marker\":{\"colorbar\":{\"outlinewidth\":0,\"ticks\":\"\"}},\"type\":\"scattergeo\"}],\"scattergl\":[{\"marker\":{\"colorbar\":{\"outlinewidth\":0,\"ticks\":\"\"}},\"type\":\"scattergl\"}],\"scattermapbox\":[{\"marker\":{\"colorbar\":{\"outlinewidth\":0,\"ticks\":\"\"}},\"type\":\"scattermapbox\"}],\"scatterpolar\":[{\"marker\":{\"colorbar\":{\"outlinewidth\":0,\"ticks\":\"\"}},\"type\":\"scatterpolar\"}],\"scatterpolargl\":[{\"marker\":{\"colorbar\":{\"outlinewidth\":0,\"ticks\":\"\"}},\"type\":\"scatterpolargl\"}],\"scatterternary\":[{\"marker\":{\"colorbar\":{\"outlinewidth\":0,\"ticks\":\"\"}},\"type\":\"scatterternary\"}],\"surface\":[{\"colorbar\":{\"outlinewidth\":0,\"ticks\":\"\"},\"colorscale\":[[0.0,\"#0d0887\"],[0.1111111111111111,\"#46039f\"],[0.2222222222222222,\"#7201a8\"],[0.3333333333333333,\"#9c179e\"],[0.4444444444444444,\"#bd3786\"],[0.5555555555555556,\"#d8576b\"],[0.6666666666666666,\"#ed7953\"],[0.7777777777777778,\"#fb9f3a\"],[0.8888888888888888,\"#fdca26\"],[1.0,\"#f0f921\"]],\"type\":\"surface\"}],\"table\":[{\"cells\":{\"fill\":{\"color\":\"#EBF0F8\"},\"line\":{\"color\":\"white\"}},\"header\":{\"fill\":{\"color\":\"#C8D4E3\"},\"line\":{\"color\":\"white\"}},\"type\":\"table\"}]},\"layout\":{\"annotationdefaults\":{\"arrowcolor\":\"#2a3f5f\",\"arrowhead\":0,\"arrowwidth\":1},\"autotypenumbers\":\"strict\",\"coloraxis\":{\"colorbar\":{\"outlinewidth\":0,\"ticks\":\"\"}},\"colorscale\":{\"diverging\":[[0,\"#8e0152\"],[0.1,\"#c51b7d\"],[0.2,\"#de77ae\"],[0.3,\"#f1b6da\"],[0.4,\"#fde0ef\"],[0.5,\"#f7f7f7\"],[0.6,\"#e6f5d0\"],[0.7,\"#b8e186\"],[0.8,\"#7fbc41\"],[0.9,\"#4d9221\"],[1,\"#276419\"]],\"sequential\":[[0.0,\"#0d0887\"],[0.1111111111111111,\"#46039f\"],[0.2222222222222222,\"#7201a8\"],[0.3333333333333333,\"#9c179e\"],[0.4444444444444444,\"#bd3786\"],[0.5555555555555556,\"#d8576b\"],[0.6666666666666666,\"#ed7953\"],[0.7777777777777778,\"#fb9f3a\"],[0.8888888888888888,\"#fdca26\"],[1.0,\"#f0f921\"]],\"sequentialminus\":[[0.0,\"#0d0887\"],[0.1111111111111111,\"#46039f\"],[0.2222222222222222,\"#7201a8\"],[0.3333333333333333,\"#9c179e\"],[0.4444444444444444,\"#bd3786\"],[0.5555555555555556,\"#d8576b\"],[0.6666666666666666,\"#ed7953\"],[0.7777777777777778,\"#fb9f3a\"],[0.8888888888888888,\"#fdca26\"],[1.0,\"#f0f921\"]]},\"colorway\":[\"#636efa\",\"#EF553B\",\"#00cc96\",\"#ab63fa\",\"#FFA15A\",\"#19d3f3\",\"#FF6692\",\"#B6E880\",\"#FF97FF\",\"#FECB52\"],\"font\":{\"color\":\"#2a3f5f\"},\"geo\":{\"bgcolor\":\"white\",\"lakecolor\":\"white\",\"landcolor\":\"#E5ECF6\",\"showlakes\":true,\"showland\":true,\"subunitcolor\":\"white\"},\"hoverlabel\":{\"align\":\"left\"},\"hovermode\":\"closest\",\"mapbox\":{\"style\":\"light\"},\"paper_bgcolor\":\"white\",\"plot_bgcolor\":\"#E5ECF6\",\"polar\":{\"angularaxis\":{\"gridcolor\":\"white\",\"linecolor\":\"white\",\"ticks\":\"\"},\"bgcolor\":\"#E5ECF6\",\"radialaxis\":{\"gridcolor\":\"white\",\"linecolor\":\"white\",\"ticks\":\"\"}},\"scene\":{\"xaxis\":{\"backgroundcolor\":\"#E5ECF6\",\"gridcolor\":\"white\",\"gridwidth\":2,\"linecolor\":\"white\",\"showbackground\":true,\"ticks\":\"\",\"zerolinecolor\":\"white\"},\"yaxis\":{\"backgroundcolor\":\"#E5ECF6\",\"gridcolor\":\"white\",\"gridwidth\":2,\"linecolor\":\"white\",\"showbackground\":true,\"ticks\":\"\",\"zerolinecolor\":\"white\"},\"zaxis\":{\"backgroundcolor\":\"#E5ECF6\",\"gridcolor\":\"white\",\"gridwidth\":2,\"linecolor\":\"white\",\"showbackground\":true,\"ticks\":\"\",\"zerolinecolor\":\"white\"}},\"shapedefaults\":{\"line\":{\"color\":\"#2a3f5f\"}},\"ternary\":{\"aaxis\":{\"gridcolor\":\"white\",\"linecolor\":\"white\",\"ticks\":\"\"},\"baxis\":{\"gridcolor\":\"white\",\"linecolor\":\"white\",\"ticks\":\"\"},\"bgcolor\":\"#E5ECF6\",\"caxis\":{\"gridcolor\":\"white\",\"linecolor\":\"white\",\"ticks\":\"\"}},\"title\":{\"x\":0.05},\"xaxis\":{\"automargin\":true,\"gridcolor\":\"white\",\"linecolor\":\"white\",\"ticks\":\"\",\"title\":{\"standoff\":15},\"zerolinecolor\":\"white\",\"zerolinewidth\":2},\"yaxis\":{\"automargin\":true,\"gridcolor\":\"white\",\"linecolor\":\"white\",\"ticks\":\"\",\"title\":{\"standoff\":15},\"zerolinecolor\":\"white\",\"zerolinewidth\":2}}},\"xaxis\":{\"anchor\":\"y\",\"domain\":[0.0,1.0],\"title\":{\"text\":\"Test Precision\"}},\"yaxis\":{\"anchor\":\"x\",\"domain\":[0.0,1.0],\"title\":{\"text\":\"Model\"},\"categoryorder\":\"total ascending\",\"categoryarray\":[\"GradientBoost\",\"AdaBoost\",\"Random Forest\",\"Decision Tree\",\"Support Vector Machine\",\"K_Nearest Neighbors\",\"Logistic Regression\"]},\"legend\":{\"title\":{\"text\":\"Model\"},\"tracegroupgap\":0},\"title\":{\"text\":\"<b>Test Data % Precision<b>\",\"font\":{\"size\":24},\"x\":0.5},\"barmode\":\"stack\",\"height\":600,\"width\":1000},                        {\"responsive\": true}                    ).then(function(){\n",
              "                            \n",
              "var gd = document.getElementById('4d5278ae-adc0-4e6d-99f4-d7cb878fdb4a');\n",
              "var x = new MutationObserver(function (mutations, observer) {{\n",
              "        var display = window.getComputedStyle(gd).display;\n",
              "        if (!display || display === 'none') {{\n",
              "            console.log([gd, 'removed!']);\n",
              "            Plotly.purge(gd);\n",
              "            observer.disconnect();\n",
              "        }}\n",
              "}});\n",
              "\n",
              "// Listen for the removal of the full notebook cells\n",
              "var notebookContainer = gd.closest('#notebook-container');\n",
              "if (notebookContainer) {{\n",
              "    x.observe(notebookContainer, {childList: true});\n",
              "}}\n",
              "\n",
              "// Listen for the clearing of the current output cell\n",
              "var outputEl = gd.closest('.output');\n",
              "if (outputEl) {{\n",
              "    x.observe(outputEl, {childList: true});\n",
              "}}\n",
              "\n",
              "                        })                };                            </script>        </div>\n",
              "</body>\n",
              "</html>"
            ]
          },
          "metadata": {}
        }
      ]
    },
    {
      "cell_type": "markdown",
      "source": [
        "## 13.5 ROC AUC Curves"
      ],
      "metadata": {
        "id": "lFOOTT2uv5fH"
      }
    },
    {
      "cell_type": "code",
      "source": [
        "# ROC AUC plot for all models\n",
        "plt.figure(figsize=(16,10)) # define figure size\n",
        "ax = plt.gca()\n",
        "# Logistic Regression Model\n",
        "RocCurveDisplay.from_estimator(gs_logreg, X_test, y_test, alpha=0.8, ax=ax, name='Logistic Regression')\n",
        "# Random Forest Model\n",
        "RocCurveDisplay.from_estimator(gs_RF_tree, X_test, y_test, alpha=0.8, ax=ax, name='Random Forest')\n",
        "# AdaBoost Model\n",
        "RocCurveDisplay.from_estimator(gs_Ada, X_test, y_test, alpha=0.8, ax=ax, name='AdaBoost')\n",
        "# Gradient Boost Model\n",
        "RocCurveDisplay.from_estimator(gs_GB, X_test, y_test, alpha=0.8, ax=ax, name='Gradient Boost')\n",
        "plt.plot([0, 1], [0, 1], linestyle='--')\n",
        "# K-Nearest Neighbors Model\n",
        "RocCurveDisplay.from_estimator(gs_knn, X_test, y_test, alpha=0.8, ax=ax, name='K-Nearest Neighbors')\n",
        "# Support Vector Machine Model\n",
        "RocCurveDisplay.from_estimator(gs_SVC, X_test, y_test, alpha=0.8, ax=ax, name='Support Vector')\n",
        "# Decision Tree Model\n",
        "RocCurveDisplay.from_estimator(gs_tree, X_test, y_test, alpha=0.8, ax=ax, name='Decision Tree')\n",
        "# Save Figure to File\n",
        "# plt.savefig('BIRADS_ROC_AUC.png');"
      ],
      "metadata": {
        "colab": {
          "base_uri": "https://localhost:8080/",
          "height": 624
        },
        "id": "HB8UikNao9O2",
        "outputId": "64a94c20-cf07-4690-ee27-2eed62a04f10"
      },
      "execution_count": null,
      "outputs": [
        {
          "output_type": "execute_result",
          "data": {
            "text/plain": [
              "<sklearn.metrics._plot.roc_curve.RocCurveDisplay at 0x7f7089069a90>"
            ]
          },
          "metadata": {},
          "execution_count": 45
        },
        {
          "output_type": "display_data",
          "data": {
            "text/plain": [
              "<Figure size 1152x720 with 1 Axes>"
            ],
            "image/png": "[encoded data removed]"
          },
          "metadata": {
            "needs_background": "light"
          }
        }
      ]
    },
    {
      "cell_type": "markdown",
      "source": [
        "# 14.0 Additional References\n",
        "\n",
        "The ACR BI-RADS® Experience: Learning From History\n",
        "Elizabeth S. Burnside, MD, MPH, MS,a Edward A. Sickles, MD,b Lawrence W. Bassett, MD,c Daniel L. Rubin, MD, MS,d Carol H. Lee, MD,e Debra M. Ikeda, MD,d Ellen B. Mendelson, MD,f Pamela A. Wilcox,g Priscilla F. Butler,g and Carl J. D’Orsi, MDh\n",
        "\n",
        "https://www.ncbi.nlm.nih.gov/pmc/articles/PMC3099247/\n"
      ],
      "metadata": {
        "id": "8LyEwzBXkhHQ"
      }
    }
  ]
}